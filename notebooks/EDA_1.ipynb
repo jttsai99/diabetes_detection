{
 "cells": [
  {
   "cell_type": "markdown",
   "metadata": {},
   "source": [
    "# This notebook helps explore the original data as well as EDA"
   ]
  },
  {
   "cell_type": "code",
   "execution_count": 1,
   "metadata": {},
   "outputs": [],
   "source": [
    "# import packages\n",
    "import pandas as pd\n",
    "import numpy as np\n",
    "import matplotlib.pyplot as plt\n",
    "import seaborn as sns\n",
    "import plotly.express as px\n",
    "import plotly.graph_objects as go"
   ]
  },
  {
   "cell_type": "markdown",
   "metadata": {},
   "source": [
    "## Read data and perform preliminary checks\n",
    "Ex: duplicates, missingness, and types  \n",
    "Quick summary statistics"
   ]
  },
  {
   "cell_type": "code",
   "execution_count": 2,
   "metadata": {},
   "outputs": [
    {
     "data": {
      "text/html": [
       "<div>\n",
       "<style scoped>\n",
       "    .dataframe tbody tr th:only-of-type {\n",
       "        vertical-align: middle;\n",
       "    }\n",
       "\n",
       "    .dataframe tbody tr th {\n",
       "        vertical-align: top;\n",
       "    }\n",
       "\n",
       "    .dataframe thead th {\n",
       "        text-align: right;\n",
       "    }\n",
       "</style>\n",
       "<table border=\"1\" class=\"dataframe\">\n",
       "  <thead>\n",
       "    <tr style=\"text-align: right;\">\n",
       "      <th></th>\n",
       "      <th>Pregnancies</th>\n",
       "      <th>Glucose</th>\n",
       "      <th>BloodPressure</th>\n",
       "      <th>SkinThickness</th>\n",
       "      <th>Insulin</th>\n",
       "      <th>BMI</th>\n",
       "      <th>DiabetesPedigreeFunction</th>\n",
       "      <th>Age</th>\n",
       "      <th>Outcome</th>\n",
       "    </tr>\n",
       "  </thead>\n",
       "  <tbody>\n",
       "    <tr>\n",
       "      <th>0</th>\n",
       "      <td>6</td>\n",
       "      <td>148</td>\n",
       "      <td>72</td>\n",
       "      <td>35</td>\n",
       "      <td>0</td>\n",
       "      <td>33.6</td>\n",
       "      <td>0.627</td>\n",
       "      <td>50</td>\n",
       "      <td>1</td>\n",
       "    </tr>\n",
       "    <tr>\n",
       "      <th>1</th>\n",
       "      <td>1</td>\n",
       "      <td>85</td>\n",
       "      <td>66</td>\n",
       "      <td>29</td>\n",
       "      <td>0</td>\n",
       "      <td>26.6</td>\n",
       "      <td>0.351</td>\n",
       "      <td>31</td>\n",
       "      <td>0</td>\n",
       "    </tr>\n",
       "    <tr>\n",
       "      <th>2</th>\n",
       "      <td>8</td>\n",
       "      <td>183</td>\n",
       "      <td>64</td>\n",
       "      <td>0</td>\n",
       "      <td>0</td>\n",
       "      <td>23.3</td>\n",
       "      <td>0.672</td>\n",
       "      <td>32</td>\n",
       "      <td>1</td>\n",
       "    </tr>\n",
       "    <tr>\n",
       "      <th>3</th>\n",
       "      <td>1</td>\n",
       "      <td>89</td>\n",
       "      <td>66</td>\n",
       "      <td>23</td>\n",
       "      <td>94</td>\n",
       "      <td>28.1</td>\n",
       "      <td>0.167</td>\n",
       "      <td>21</td>\n",
       "      <td>0</td>\n",
       "    </tr>\n",
       "    <tr>\n",
       "      <th>4</th>\n",
       "      <td>0</td>\n",
       "      <td>137</td>\n",
       "      <td>40</td>\n",
       "      <td>35</td>\n",
       "      <td>168</td>\n",
       "      <td>43.1</td>\n",
       "      <td>2.288</td>\n",
       "      <td>33</td>\n",
       "      <td>1</td>\n",
       "    </tr>\n",
       "    <tr>\n",
       "      <th>...</th>\n",
       "      <td>...</td>\n",
       "      <td>...</td>\n",
       "      <td>...</td>\n",
       "      <td>...</td>\n",
       "      <td>...</td>\n",
       "      <td>...</td>\n",
       "      <td>...</td>\n",
       "      <td>...</td>\n",
       "      <td>...</td>\n",
       "    </tr>\n",
       "    <tr>\n",
       "      <th>763</th>\n",
       "      <td>10</td>\n",
       "      <td>101</td>\n",
       "      <td>76</td>\n",
       "      <td>48</td>\n",
       "      <td>180</td>\n",
       "      <td>32.9</td>\n",
       "      <td>0.171</td>\n",
       "      <td>63</td>\n",
       "      <td>0</td>\n",
       "    </tr>\n",
       "    <tr>\n",
       "      <th>764</th>\n",
       "      <td>2</td>\n",
       "      <td>122</td>\n",
       "      <td>70</td>\n",
       "      <td>27</td>\n",
       "      <td>0</td>\n",
       "      <td>36.8</td>\n",
       "      <td>0.340</td>\n",
       "      <td>27</td>\n",
       "      <td>0</td>\n",
       "    </tr>\n",
       "    <tr>\n",
       "      <th>765</th>\n",
       "      <td>5</td>\n",
       "      <td>121</td>\n",
       "      <td>72</td>\n",
       "      <td>23</td>\n",
       "      <td>112</td>\n",
       "      <td>26.2</td>\n",
       "      <td>0.245</td>\n",
       "      <td>30</td>\n",
       "      <td>0</td>\n",
       "    </tr>\n",
       "    <tr>\n",
       "      <th>766</th>\n",
       "      <td>1</td>\n",
       "      <td>126</td>\n",
       "      <td>60</td>\n",
       "      <td>0</td>\n",
       "      <td>0</td>\n",
       "      <td>30.1</td>\n",
       "      <td>0.349</td>\n",
       "      <td>47</td>\n",
       "      <td>1</td>\n",
       "    </tr>\n",
       "    <tr>\n",
       "      <th>767</th>\n",
       "      <td>1</td>\n",
       "      <td>93</td>\n",
       "      <td>70</td>\n",
       "      <td>31</td>\n",
       "      <td>0</td>\n",
       "      <td>30.4</td>\n",
       "      <td>0.315</td>\n",
       "      <td>23</td>\n",
       "      <td>0</td>\n",
       "    </tr>\n",
       "  </tbody>\n",
       "</table>\n",
       "<p>768 rows × 9 columns</p>\n",
       "</div>"
      ],
      "text/plain": [
       "     Pregnancies  Glucose  BloodPressure  SkinThickness  Insulin   BMI  \\\n",
       "0              6      148             72             35        0  33.6   \n",
       "1              1       85             66             29        0  26.6   \n",
       "2              8      183             64              0        0  23.3   \n",
       "3              1       89             66             23       94  28.1   \n",
       "4              0      137             40             35      168  43.1   \n",
       "..           ...      ...            ...            ...      ...   ...   \n",
       "763           10      101             76             48      180  32.9   \n",
       "764            2      122             70             27        0  36.8   \n",
       "765            5      121             72             23      112  26.2   \n",
       "766            1      126             60              0        0  30.1   \n",
       "767            1       93             70             31        0  30.4   \n",
       "\n",
       "     DiabetesPedigreeFunction  Age  Outcome  \n",
       "0                       0.627   50        1  \n",
       "1                       0.351   31        0  \n",
       "2                       0.672   32        1  \n",
       "3                       0.167   21        0  \n",
       "4                       2.288   33        1  \n",
       "..                        ...  ...      ...  \n",
       "763                     0.171   63        0  \n",
       "764                     0.340   27        0  \n",
       "765                     0.245   30        0  \n",
       "766                     0.349   47        1  \n",
       "767                     0.315   23        0  \n",
       "\n",
       "[768 rows x 9 columns]"
      ]
     },
     "execution_count": 2,
     "metadata": {},
     "output_type": "execute_result"
    }
   ],
   "source": [
    "# read in the data\n",
    "df = pd.read_csv('..//data/raw/diabetes.csv')\n",
    "df"
   ]
  },
  {
   "cell_type": "code",
   "execution_count": 3,
   "metadata": {},
   "outputs": [
    {
     "data": {
      "text/plain": [
       "False"
      ]
     },
     "execution_count": 3,
     "metadata": {},
     "output_type": "execute_result"
    }
   ],
   "source": [
    "# check for duplicate entries\n",
    "df.duplicated().any()"
   ]
  },
  {
   "cell_type": "code",
   "execution_count": 4,
   "metadata": {},
   "outputs": [
    {
     "data": {
      "text/plain": [
       "Pregnancies                 False\n",
       "Glucose                     False\n",
       "BloodPressure               False\n",
       "SkinThickness               False\n",
       "Insulin                     False\n",
       "BMI                         False\n",
       "DiabetesPedigreeFunction    False\n",
       "Age                         False\n",
       "Outcome                     False\n",
       "dtype: bool"
      ]
     },
     "execution_count": 4,
     "metadata": {},
     "output_type": "execute_result"
    }
   ],
   "source": [
    "# check for missing data\n",
    "df.isna().any()"
   ]
  },
  {
   "cell_type": "code",
   "execution_count": 5,
   "metadata": {},
   "outputs": [
    {
     "data": {
      "text/plain": [
       "Pregnancies                   int64\n",
       "Glucose                       int64\n",
       "BloodPressure                 int64\n",
       "SkinThickness                 int64\n",
       "Insulin                       int64\n",
       "BMI                         float64\n",
       "DiabetesPedigreeFunction    float64\n",
       "Age                           int64\n",
       "Outcome                       int64\n",
       "dtype: object"
      ]
     },
     "execution_count": 5,
     "metadata": {},
     "output_type": "execute_result"
    }
   ],
   "source": [
    "# check for data types\n",
    "df.dtypes"
   ]
  },
  {
   "cell_type": "code",
   "execution_count": 6,
   "metadata": {},
   "outputs": [
    {
     "data": {
      "text/html": [
       "<div>\n",
       "<style scoped>\n",
       "    .dataframe tbody tr th:only-of-type {\n",
       "        vertical-align: middle;\n",
       "    }\n",
       "\n",
       "    .dataframe tbody tr th {\n",
       "        vertical-align: top;\n",
       "    }\n",
       "\n",
       "    .dataframe thead th {\n",
       "        text-align: right;\n",
       "    }\n",
       "</style>\n",
       "<table border=\"1\" class=\"dataframe\">\n",
       "  <thead>\n",
       "    <tr style=\"text-align: right;\">\n",
       "      <th></th>\n",
       "      <th>Pregnancies</th>\n",
       "      <th>Glucose</th>\n",
       "      <th>BloodPressure</th>\n",
       "      <th>SkinThickness</th>\n",
       "      <th>Insulin</th>\n",
       "      <th>BMI</th>\n",
       "      <th>DiabetesPedigreeFunction</th>\n",
       "      <th>Age</th>\n",
       "      <th>Outcome</th>\n",
       "    </tr>\n",
       "  </thead>\n",
       "  <tbody>\n",
       "    <tr>\n",
       "      <th>Pregnancies</th>\n",
       "      <td>1.000000</td>\n",
       "      <td>0.129459</td>\n",
       "      <td>0.141282</td>\n",
       "      <td>-0.081672</td>\n",
       "      <td>-0.073535</td>\n",
       "      <td>0.017683</td>\n",
       "      <td>-0.033523</td>\n",
       "      <td>0.544341</td>\n",
       "      <td>0.221898</td>\n",
       "    </tr>\n",
       "    <tr>\n",
       "      <th>Glucose</th>\n",
       "      <td>0.129459</td>\n",
       "      <td>1.000000</td>\n",
       "      <td>0.152590</td>\n",
       "      <td>0.057328</td>\n",
       "      <td>0.331357</td>\n",
       "      <td>0.221071</td>\n",
       "      <td>0.137337</td>\n",
       "      <td>0.263514</td>\n",
       "      <td>0.466581</td>\n",
       "    </tr>\n",
       "    <tr>\n",
       "      <th>BloodPressure</th>\n",
       "      <td>0.141282</td>\n",
       "      <td>0.152590</td>\n",
       "      <td>1.000000</td>\n",
       "      <td>0.207371</td>\n",
       "      <td>0.088933</td>\n",
       "      <td>0.281805</td>\n",
       "      <td>0.041265</td>\n",
       "      <td>0.239528</td>\n",
       "      <td>0.065068</td>\n",
       "    </tr>\n",
       "    <tr>\n",
       "      <th>SkinThickness</th>\n",
       "      <td>-0.081672</td>\n",
       "      <td>0.057328</td>\n",
       "      <td>0.207371</td>\n",
       "      <td>1.000000</td>\n",
       "      <td>0.436783</td>\n",
       "      <td>0.392573</td>\n",
       "      <td>0.183928</td>\n",
       "      <td>-0.113970</td>\n",
       "      <td>0.074752</td>\n",
       "    </tr>\n",
       "    <tr>\n",
       "      <th>Insulin</th>\n",
       "      <td>-0.073535</td>\n",
       "      <td>0.331357</td>\n",
       "      <td>0.088933</td>\n",
       "      <td>0.436783</td>\n",
       "      <td>1.000000</td>\n",
       "      <td>0.197859</td>\n",
       "      <td>0.185071</td>\n",
       "      <td>-0.042163</td>\n",
       "      <td>0.130548</td>\n",
       "    </tr>\n",
       "    <tr>\n",
       "      <th>BMI</th>\n",
       "      <td>0.017683</td>\n",
       "      <td>0.221071</td>\n",
       "      <td>0.281805</td>\n",
       "      <td>0.392573</td>\n",
       "      <td>0.197859</td>\n",
       "      <td>1.000000</td>\n",
       "      <td>0.140647</td>\n",
       "      <td>0.036242</td>\n",
       "      <td>0.292695</td>\n",
       "    </tr>\n",
       "    <tr>\n",
       "      <th>DiabetesPedigreeFunction</th>\n",
       "      <td>-0.033523</td>\n",
       "      <td>0.137337</td>\n",
       "      <td>0.041265</td>\n",
       "      <td>0.183928</td>\n",
       "      <td>0.185071</td>\n",
       "      <td>0.140647</td>\n",
       "      <td>1.000000</td>\n",
       "      <td>0.033561</td>\n",
       "      <td>0.173844</td>\n",
       "    </tr>\n",
       "    <tr>\n",
       "      <th>Age</th>\n",
       "      <td>0.544341</td>\n",
       "      <td>0.263514</td>\n",
       "      <td>0.239528</td>\n",
       "      <td>-0.113970</td>\n",
       "      <td>-0.042163</td>\n",
       "      <td>0.036242</td>\n",
       "      <td>0.033561</td>\n",
       "      <td>1.000000</td>\n",
       "      <td>0.238356</td>\n",
       "    </tr>\n",
       "    <tr>\n",
       "      <th>Outcome</th>\n",
       "      <td>0.221898</td>\n",
       "      <td>0.466581</td>\n",
       "      <td>0.065068</td>\n",
       "      <td>0.074752</td>\n",
       "      <td>0.130548</td>\n",
       "      <td>0.292695</td>\n",
       "      <td>0.173844</td>\n",
       "      <td>0.238356</td>\n",
       "      <td>1.000000</td>\n",
       "    </tr>\n",
       "  </tbody>\n",
       "</table>\n",
       "</div>"
      ],
      "text/plain": [
       "                          Pregnancies   Glucose  BloodPressure  SkinThickness  \\\n",
       "Pregnancies                  1.000000  0.129459       0.141282      -0.081672   \n",
       "Glucose                      0.129459  1.000000       0.152590       0.057328   \n",
       "BloodPressure                0.141282  0.152590       1.000000       0.207371   \n",
       "SkinThickness               -0.081672  0.057328       0.207371       1.000000   \n",
       "Insulin                     -0.073535  0.331357       0.088933       0.436783   \n",
       "BMI                          0.017683  0.221071       0.281805       0.392573   \n",
       "DiabetesPedigreeFunction    -0.033523  0.137337       0.041265       0.183928   \n",
       "Age                          0.544341  0.263514       0.239528      -0.113970   \n",
       "Outcome                      0.221898  0.466581       0.065068       0.074752   \n",
       "\n",
       "                           Insulin       BMI  DiabetesPedigreeFunction  \\\n",
       "Pregnancies              -0.073535  0.017683                 -0.033523   \n",
       "Glucose                   0.331357  0.221071                  0.137337   \n",
       "BloodPressure             0.088933  0.281805                  0.041265   \n",
       "SkinThickness             0.436783  0.392573                  0.183928   \n",
       "Insulin                   1.000000  0.197859                  0.185071   \n",
       "BMI                       0.197859  1.000000                  0.140647   \n",
       "DiabetesPedigreeFunction  0.185071  0.140647                  1.000000   \n",
       "Age                      -0.042163  0.036242                  0.033561   \n",
       "Outcome                   0.130548  0.292695                  0.173844   \n",
       "\n",
       "                               Age   Outcome  \n",
       "Pregnancies               0.544341  0.221898  \n",
       "Glucose                   0.263514  0.466581  \n",
       "BloodPressure             0.239528  0.065068  \n",
       "SkinThickness            -0.113970  0.074752  \n",
       "Insulin                  -0.042163  0.130548  \n",
       "BMI                       0.036242  0.292695  \n",
       "DiabetesPedigreeFunction  0.033561  0.173844  \n",
       "Age                       1.000000  0.238356  \n",
       "Outcome                   0.238356  1.000000  "
      ]
     },
     "execution_count": 6,
     "metadata": {},
     "output_type": "execute_result"
    }
   ],
   "source": [
    "df.corr()"
   ]
  },
  {
   "cell_type": "code",
   "execution_count": 7,
   "metadata": {},
   "outputs": [
    {
     "data": {
      "text/html": [
       "<div>\n",
       "<style scoped>\n",
       "    .dataframe tbody tr th:only-of-type {\n",
       "        vertical-align: middle;\n",
       "    }\n",
       "\n",
       "    .dataframe tbody tr th {\n",
       "        vertical-align: top;\n",
       "    }\n",
       "\n",
       "    .dataframe thead th {\n",
       "        text-align: right;\n",
       "    }\n",
       "</style>\n",
       "<table border=\"1\" class=\"dataframe\">\n",
       "  <thead>\n",
       "    <tr style=\"text-align: right;\">\n",
       "      <th></th>\n",
       "      <th>Pregnancies</th>\n",
       "      <th>Glucose</th>\n",
       "      <th>BloodPressure</th>\n",
       "      <th>SkinThickness</th>\n",
       "      <th>Insulin</th>\n",
       "      <th>BMI</th>\n",
       "      <th>DiabetesPedigreeFunction</th>\n",
       "      <th>Age</th>\n",
       "    </tr>\n",
       "  </thead>\n",
       "  <tbody>\n",
       "    <tr>\n",
       "      <th>mean</th>\n",
       "      <td>3.845052</td>\n",
       "      <td>120.894531</td>\n",
       "      <td>69.105469</td>\n",
       "      <td>20.536458</td>\n",
       "      <td>79.799479</td>\n",
       "      <td>31.992578</td>\n",
       "      <td>0.471876</td>\n",
       "      <td>33.240885</td>\n",
       "    </tr>\n",
       "    <tr>\n",
       "      <th>std</th>\n",
       "      <td>3.369578</td>\n",
       "      <td>31.972618</td>\n",
       "      <td>19.355807</td>\n",
       "      <td>15.952218</td>\n",
       "      <td>115.244002</td>\n",
       "      <td>7.884160</td>\n",
       "      <td>0.331329</td>\n",
       "      <td>11.760232</td>\n",
       "    </tr>\n",
       "    <tr>\n",
       "      <th>min</th>\n",
       "      <td>0.000000</td>\n",
       "      <td>0.000000</td>\n",
       "      <td>0.000000</td>\n",
       "      <td>0.000000</td>\n",
       "      <td>0.000000</td>\n",
       "      <td>0.000000</td>\n",
       "      <td>0.078000</td>\n",
       "      <td>21.000000</td>\n",
       "    </tr>\n",
       "    <tr>\n",
       "      <th>25%</th>\n",
       "      <td>1.000000</td>\n",
       "      <td>99.000000</td>\n",
       "      <td>62.000000</td>\n",
       "      <td>0.000000</td>\n",
       "      <td>0.000000</td>\n",
       "      <td>27.300000</td>\n",
       "      <td>0.243750</td>\n",
       "      <td>24.000000</td>\n",
       "    </tr>\n",
       "    <tr>\n",
       "      <th>50%</th>\n",
       "      <td>3.000000</td>\n",
       "      <td>117.000000</td>\n",
       "      <td>72.000000</td>\n",
       "      <td>23.000000</td>\n",
       "      <td>30.500000</td>\n",
       "      <td>32.000000</td>\n",
       "      <td>0.372500</td>\n",
       "      <td>29.000000</td>\n",
       "    </tr>\n",
       "    <tr>\n",
       "      <th>75%</th>\n",
       "      <td>6.000000</td>\n",
       "      <td>140.250000</td>\n",
       "      <td>80.000000</td>\n",
       "      <td>32.000000</td>\n",
       "      <td>127.250000</td>\n",
       "      <td>36.600000</td>\n",
       "      <td>0.626250</td>\n",
       "      <td>41.000000</td>\n",
       "    </tr>\n",
       "    <tr>\n",
       "      <th>max</th>\n",
       "      <td>17.000000</td>\n",
       "      <td>199.000000</td>\n",
       "      <td>122.000000</td>\n",
       "      <td>99.000000</td>\n",
       "      <td>846.000000</td>\n",
       "      <td>67.100000</td>\n",
       "      <td>2.420000</td>\n",
       "      <td>81.000000</td>\n",
       "    </tr>\n",
       "  </tbody>\n",
       "</table>\n",
       "</div>"
      ],
      "text/plain": [
       "      Pregnancies     Glucose  BloodPressure  SkinThickness     Insulin  \\\n",
       "mean     3.845052  120.894531      69.105469      20.536458   79.799479   \n",
       "std      3.369578   31.972618      19.355807      15.952218  115.244002   \n",
       "min      0.000000    0.000000       0.000000       0.000000    0.000000   \n",
       "25%      1.000000   99.000000      62.000000       0.000000    0.000000   \n",
       "50%      3.000000  117.000000      72.000000      23.000000   30.500000   \n",
       "75%      6.000000  140.250000      80.000000      32.000000  127.250000   \n",
       "max     17.000000  199.000000     122.000000      99.000000  846.000000   \n",
       "\n",
       "            BMI  DiabetesPedigreeFunction        Age  \n",
       "mean  31.992578                  0.471876  33.240885  \n",
       "std    7.884160                  0.331329  11.760232  \n",
       "min    0.000000                  0.078000  21.000000  \n",
       "25%   27.300000                  0.243750  24.000000  \n",
       "50%   32.000000                  0.372500  29.000000  \n",
       "75%   36.600000                  0.626250  41.000000  \n",
       "max   67.100000                  2.420000  81.000000  "
      ]
     },
     "execution_count": 7,
     "metadata": {},
     "output_type": "execute_result"
    }
   ],
   "source": [
    "# quick summary statistics for the predictor variables\n",
    "df.describe().iloc[1:, :-1]"
   ]
  },
  {
   "cell_type": "markdown",
   "metadata": {},
   "source": [
    "**Realize there are values in Glucose, BloodPressure, SkinThickness, Insulin, and BMI that are not in the correct range.**  \n",
    "Ex: Can't have 0 BMI"
   ]
  },
  {
   "cell_type": "markdown",
   "metadata": {},
   "source": [
    "### Path 1 Remove rows of data that contains entries that are inaccurate"
   ]
  },
  {
   "cell_type": "code",
   "execution_count": 8,
   "metadata": {},
   "outputs": [
    {
     "data": {
      "text/html": [
       "<div>\n",
       "<style scoped>\n",
       "    .dataframe tbody tr th:only-of-type {\n",
       "        vertical-align: middle;\n",
       "    }\n",
       "\n",
       "    .dataframe tbody tr th {\n",
       "        vertical-align: top;\n",
       "    }\n",
       "\n",
       "    .dataframe thead th {\n",
       "        text-align: right;\n",
       "    }\n",
       "</style>\n",
       "<table border=\"1\" class=\"dataframe\">\n",
       "  <thead>\n",
       "    <tr style=\"text-align: right;\">\n",
       "      <th></th>\n",
       "      <th>Pregnancies</th>\n",
       "      <th>Glucose</th>\n",
       "      <th>BloodPressure</th>\n",
       "      <th>SkinThickness</th>\n",
       "      <th>Insulin</th>\n",
       "      <th>BMI</th>\n",
       "      <th>DiabetesPedigreeFunction</th>\n",
       "      <th>Age</th>\n",
       "      <th>Outcome</th>\n",
       "    </tr>\n",
       "  </thead>\n",
       "  <tbody>\n",
       "    <tr>\n",
       "      <th>3</th>\n",
       "      <td>1</td>\n",
       "      <td>89.0</td>\n",
       "      <td>66.0</td>\n",
       "      <td>23.0</td>\n",
       "      <td>94.0</td>\n",
       "      <td>28.1</td>\n",
       "      <td>0.167</td>\n",
       "      <td>21</td>\n",
       "      <td>0</td>\n",
       "    </tr>\n",
       "    <tr>\n",
       "      <th>4</th>\n",
       "      <td>0</td>\n",
       "      <td>137.0</td>\n",
       "      <td>40.0</td>\n",
       "      <td>35.0</td>\n",
       "      <td>168.0</td>\n",
       "      <td>43.1</td>\n",
       "      <td>2.288</td>\n",
       "      <td>33</td>\n",
       "      <td>1</td>\n",
       "    </tr>\n",
       "    <tr>\n",
       "      <th>6</th>\n",
       "      <td>3</td>\n",
       "      <td>78.0</td>\n",
       "      <td>50.0</td>\n",
       "      <td>32.0</td>\n",
       "      <td>88.0</td>\n",
       "      <td>31.0</td>\n",
       "      <td>0.248</td>\n",
       "      <td>26</td>\n",
       "      <td>1</td>\n",
       "    </tr>\n",
       "    <tr>\n",
       "      <th>8</th>\n",
       "      <td>2</td>\n",
       "      <td>197.0</td>\n",
       "      <td>70.0</td>\n",
       "      <td>45.0</td>\n",
       "      <td>543.0</td>\n",
       "      <td>30.5</td>\n",
       "      <td>0.158</td>\n",
       "      <td>53</td>\n",
       "      <td>1</td>\n",
       "    </tr>\n",
       "    <tr>\n",
       "      <th>13</th>\n",
       "      <td>1</td>\n",
       "      <td>189.0</td>\n",
       "      <td>60.0</td>\n",
       "      <td>23.0</td>\n",
       "      <td>846.0</td>\n",
       "      <td>30.1</td>\n",
       "      <td>0.398</td>\n",
       "      <td>59</td>\n",
       "      <td>1</td>\n",
       "    </tr>\n",
       "    <tr>\n",
       "      <th>...</th>\n",
       "      <td>...</td>\n",
       "      <td>...</td>\n",
       "      <td>...</td>\n",
       "      <td>...</td>\n",
       "      <td>...</td>\n",
       "      <td>...</td>\n",
       "      <td>...</td>\n",
       "      <td>...</td>\n",
       "      <td>...</td>\n",
       "    </tr>\n",
       "    <tr>\n",
       "      <th>753</th>\n",
       "      <td>0</td>\n",
       "      <td>181.0</td>\n",
       "      <td>88.0</td>\n",
       "      <td>44.0</td>\n",
       "      <td>510.0</td>\n",
       "      <td>43.3</td>\n",
       "      <td>0.222</td>\n",
       "      <td>26</td>\n",
       "      <td>1</td>\n",
       "    </tr>\n",
       "    <tr>\n",
       "      <th>755</th>\n",
       "      <td>1</td>\n",
       "      <td>128.0</td>\n",
       "      <td>88.0</td>\n",
       "      <td>39.0</td>\n",
       "      <td>110.0</td>\n",
       "      <td>36.5</td>\n",
       "      <td>1.057</td>\n",
       "      <td>37</td>\n",
       "      <td>1</td>\n",
       "    </tr>\n",
       "    <tr>\n",
       "      <th>760</th>\n",
       "      <td>2</td>\n",
       "      <td>88.0</td>\n",
       "      <td>58.0</td>\n",
       "      <td>26.0</td>\n",
       "      <td>16.0</td>\n",
       "      <td>28.4</td>\n",
       "      <td>0.766</td>\n",
       "      <td>22</td>\n",
       "      <td>0</td>\n",
       "    </tr>\n",
       "    <tr>\n",
       "      <th>763</th>\n",
       "      <td>10</td>\n",
       "      <td>101.0</td>\n",
       "      <td>76.0</td>\n",
       "      <td>48.0</td>\n",
       "      <td>180.0</td>\n",
       "      <td>32.9</td>\n",
       "      <td>0.171</td>\n",
       "      <td>63</td>\n",
       "      <td>0</td>\n",
       "    </tr>\n",
       "    <tr>\n",
       "      <th>765</th>\n",
       "      <td>5</td>\n",
       "      <td>121.0</td>\n",
       "      <td>72.0</td>\n",
       "      <td>23.0</td>\n",
       "      <td>112.0</td>\n",
       "      <td>26.2</td>\n",
       "      <td>0.245</td>\n",
       "      <td>30</td>\n",
       "      <td>0</td>\n",
       "    </tr>\n",
       "  </tbody>\n",
       "</table>\n",
       "<p>392 rows × 9 columns</p>\n",
       "</div>"
      ],
      "text/plain": [
       "     Pregnancies  Glucose  BloodPressure  SkinThickness  Insulin   BMI  \\\n",
       "3              1     89.0           66.0           23.0     94.0  28.1   \n",
       "4              0    137.0           40.0           35.0    168.0  43.1   \n",
       "6              3     78.0           50.0           32.0     88.0  31.0   \n",
       "8              2    197.0           70.0           45.0    543.0  30.5   \n",
       "13             1    189.0           60.0           23.0    846.0  30.1   \n",
       "..           ...      ...            ...            ...      ...   ...   \n",
       "753            0    181.0           88.0           44.0    510.0  43.3   \n",
       "755            1    128.0           88.0           39.0    110.0  36.5   \n",
       "760            2     88.0           58.0           26.0     16.0  28.4   \n",
       "763           10    101.0           76.0           48.0    180.0  32.9   \n",
       "765            5    121.0           72.0           23.0    112.0  26.2   \n",
       "\n",
       "     DiabetesPedigreeFunction  Age  Outcome  \n",
       "3                       0.167   21        0  \n",
       "4                       2.288   33        1  \n",
       "6                       0.248   26        1  \n",
       "8                       0.158   53        1  \n",
       "13                      0.398   59        1  \n",
       "..                        ...  ...      ...  \n",
       "753                     0.222   26        1  \n",
       "755                     1.057   37        1  \n",
       "760                     0.766   22        0  \n",
       "763                     0.171   63        0  \n",
       "765                     0.245   30        0  \n",
       "\n",
       "[392 rows x 9 columns]"
      ]
     },
     "execution_count": 8,
     "metadata": {},
     "output_type": "execute_result"
    }
   ],
   "source": [
    "df2 = df.copy()\n",
    "col_check = [\"Glucose\", \"BloodPressure\", \"SkinThickness\", \"Insulin\", \"BMI\"]\n",
    "for i in col_check:\n",
    "    df2[i] = df2[i].replace(to_replace = 0, value = np.NaN)\n",
    "df2.dropna(inplace= True)\n",
    "df2"
   ]
  },
  {
   "cell_type": "code",
   "execution_count": 9,
   "metadata": {},
   "outputs": [
    {
     "data": {
      "text/html": [
       "<div>\n",
       "<style scoped>\n",
       "    .dataframe tbody tr th:only-of-type {\n",
       "        vertical-align: middle;\n",
       "    }\n",
       "\n",
       "    .dataframe tbody tr th {\n",
       "        vertical-align: top;\n",
       "    }\n",
       "\n",
       "    .dataframe thead th {\n",
       "        text-align: right;\n",
       "    }\n",
       "</style>\n",
       "<table border=\"1\" class=\"dataframe\">\n",
       "  <thead>\n",
       "    <tr style=\"text-align: right;\">\n",
       "      <th></th>\n",
       "      <th>Pregnancies</th>\n",
       "      <th>Glucose</th>\n",
       "      <th>BloodPressure</th>\n",
       "      <th>SkinThickness</th>\n",
       "      <th>Insulin</th>\n",
       "      <th>BMI</th>\n",
       "      <th>DiabetesPedigreeFunction</th>\n",
       "      <th>Age</th>\n",
       "      <th>Outcome</th>\n",
       "    </tr>\n",
       "  </thead>\n",
       "  <tbody>\n",
       "    <tr>\n",
       "      <th>Pregnancies</th>\n",
       "      <td>1.000000</td>\n",
       "      <td>0.198291</td>\n",
       "      <td>0.213355</td>\n",
       "      <td>0.093209</td>\n",
       "      <td>0.078984</td>\n",
       "      <td>-0.025347</td>\n",
       "      <td>0.007562</td>\n",
       "      <td>0.679608</td>\n",
       "      <td>0.256566</td>\n",
       "    </tr>\n",
       "    <tr>\n",
       "      <th>Glucose</th>\n",
       "      <td>0.198291</td>\n",
       "      <td>1.000000</td>\n",
       "      <td>0.210027</td>\n",
       "      <td>0.198856</td>\n",
       "      <td>0.581223</td>\n",
       "      <td>0.209516</td>\n",
       "      <td>0.140180</td>\n",
       "      <td>0.343641</td>\n",
       "      <td>0.515703</td>\n",
       "    </tr>\n",
       "    <tr>\n",
       "      <th>BloodPressure</th>\n",
       "      <td>0.213355</td>\n",
       "      <td>0.210027</td>\n",
       "      <td>1.000000</td>\n",
       "      <td>0.232571</td>\n",
       "      <td>0.098512</td>\n",
       "      <td>0.304403</td>\n",
       "      <td>-0.015971</td>\n",
       "      <td>0.300039</td>\n",
       "      <td>0.192673</td>\n",
       "    </tr>\n",
       "    <tr>\n",
       "      <th>SkinThickness</th>\n",
       "      <td>0.093209</td>\n",
       "      <td>0.198856</td>\n",
       "      <td>0.232571</td>\n",
       "      <td>1.000000</td>\n",
       "      <td>0.182199</td>\n",
       "      <td>0.664355</td>\n",
       "      <td>0.160499</td>\n",
       "      <td>0.167761</td>\n",
       "      <td>0.255936</td>\n",
       "    </tr>\n",
       "    <tr>\n",
       "      <th>Insulin</th>\n",
       "      <td>0.078984</td>\n",
       "      <td>0.581223</td>\n",
       "      <td>0.098512</td>\n",
       "      <td>0.182199</td>\n",
       "      <td>1.000000</td>\n",
       "      <td>0.226397</td>\n",
       "      <td>0.135906</td>\n",
       "      <td>0.217082</td>\n",
       "      <td>0.301429</td>\n",
       "    </tr>\n",
       "    <tr>\n",
       "      <th>BMI</th>\n",
       "      <td>-0.025347</td>\n",
       "      <td>0.209516</td>\n",
       "      <td>0.304403</td>\n",
       "      <td>0.664355</td>\n",
       "      <td>0.226397</td>\n",
       "      <td>1.000000</td>\n",
       "      <td>0.158771</td>\n",
       "      <td>0.069814</td>\n",
       "      <td>0.270118</td>\n",
       "    </tr>\n",
       "    <tr>\n",
       "      <th>DiabetesPedigreeFunction</th>\n",
       "      <td>0.007562</td>\n",
       "      <td>0.140180</td>\n",
       "      <td>-0.015971</td>\n",
       "      <td>0.160499</td>\n",
       "      <td>0.135906</td>\n",
       "      <td>0.158771</td>\n",
       "      <td>1.000000</td>\n",
       "      <td>0.085029</td>\n",
       "      <td>0.209330</td>\n",
       "    </tr>\n",
       "    <tr>\n",
       "      <th>Age</th>\n",
       "      <td>0.679608</td>\n",
       "      <td>0.343641</td>\n",
       "      <td>0.300039</td>\n",
       "      <td>0.167761</td>\n",
       "      <td>0.217082</td>\n",
       "      <td>0.069814</td>\n",
       "      <td>0.085029</td>\n",
       "      <td>1.000000</td>\n",
       "      <td>0.350804</td>\n",
       "    </tr>\n",
       "    <tr>\n",
       "      <th>Outcome</th>\n",
       "      <td>0.256566</td>\n",
       "      <td>0.515703</td>\n",
       "      <td>0.192673</td>\n",
       "      <td>0.255936</td>\n",
       "      <td>0.301429</td>\n",
       "      <td>0.270118</td>\n",
       "      <td>0.209330</td>\n",
       "      <td>0.350804</td>\n",
       "      <td>1.000000</td>\n",
       "    </tr>\n",
       "  </tbody>\n",
       "</table>\n",
       "</div>"
      ],
      "text/plain": [
       "                          Pregnancies   Glucose  BloodPressure  SkinThickness  \\\n",
       "Pregnancies                  1.000000  0.198291       0.213355       0.093209   \n",
       "Glucose                      0.198291  1.000000       0.210027       0.198856   \n",
       "BloodPressure                0.213355  0.210027       1.000000       0.232571   \n",
       "SkinThickness                0.093209  0.198856       0.232571       1.000000   \n",
       "Insulin                      0.078984  0.581223       0.098512       0.182199   \n",
       "BMI                         -0.025347  0.209516       0.304403       0.664355   \n",
       "DiabetesPedigreeFunction     0.007562  0.140180      -0.015971       0.160499   \n",
       "Age                          0.679608  0.343641       0.300039       0.167761   \n",
       "Outcome                      0.256566  0.515703       0.192673       0.255936   \n",
       "\n",
       "                           Insulin       BMI  DiabetesPedigreeFunction  \\\n",
       "Pregnancies               0.078984 -0.025347                  0.007562   \n",
       "Glucose                   0.581223  0.209516                  0.140180   \n",
       "BloodPressure             0.098512  0.304403                 -0.015971   \n",
       "SkinThickness             0.182199  0.664355                  0.160499   \n",
       "Insulin                   1.000000  0.226397                  0.135906   \n",
       "BMI                       0.226397  1.000000                  0.158771   \n",
       "DiabetesPedigreeFunction  0.135906  0.158771                  1.000000   \n",
       "Age                       0.217082  0.069814                  0.085029   \n",
       "Outcome                   0.301429  0.270118                  0.209330   \n",
       "\n",
       "                               Age   Outcome  \n",
       "Pregnancies               0.679608  0.256566  \n",
       "Glucose                   0.343641  0.515703  \n",
       "BloodPressure             0.300039  0.192673  \n",
       "SkinThickness             0.167761  0.255936  \n",
       "Insulin                   0.217082  0.301429  \n",
       "BMI                       0.069814  0.270118  \n",
       "DiabetesPedigreeFunction  0.085029  0.209330  \n",
       "Age                       1.000000  0.350804  \n",
       "Outcome                   0.350804  1.000000  "
      ]
     },
     "execution_count": 9,
     "metadata": {},
     "output_type": "execute_result"
    }
   ],
   "source": [
    "df2.corr()"
   ]
  },
  {
   "cell_type": "markdown",
   "metadata": {},
   "source": [
    "There are some moderate correlation we see in \"Age & Pregnancies\", \"Glucose & Insulin\", \"BMI & SkinThickness\" but they do not appear to be a cuase of concern."
   ]
  },
  {
   "cell_type": "code",
   "execution_count": 10,
   "metadata": {},
   "outputs": [
    {
     "data": {
      "text/html": [
       "<div>\n",
       "<style scoped>\n",
       "    .dataframe tbody tr th:only-of-type {\n",
       "        vertical-align: middle;\n",
       "    }\n",
       "\n",
       "    .dataframe tbody tr th {\n",
       "        vertical-align: top;\n",
       "    }\n",
       "\n",
       "    .dataframe thead th {\n",
       "        text-align: right;\n",
       "    }\n",
       "</style>\n",
       "<table border=\"1\" class=\"dataframe\">\n",
       "  <thead>\n",
       "    <tr style=\"text-align: right;\">\n",
       "      <th></th>\n",
       "      <th>Pregnancies</th>\n",
       "      <th>Glucose</th>\n",
       "      <th>BloodPressure</th>\n",
       "      <th>SkinThickness</th>\n",
       "      <th>Insulin</th>\n",
       "      <th>BMI</th>\n",
       "      <th>DiabetesPedigreeFunction</th>\n",
       "      <th>Age</th>\n",
       "    </tr>\n",
       "  </thead>\n",
       "  <tbody>\n",
       "    <tr>\n",
       "      <th>mean</th>\n",
       "      <td>3.301020</td>\n",
       "      <td>122.627551</td>\n",
       "      <td>70.663265</td>\n",
       "      <td>29.145408</td>\n",
       "      <td>156.056122</td>\n",
       "      <td>33.086224</td>\n",
       "      <td>0.523046</td>\n",
       "      <td>30.864796</td>\n",
       "    </tr>\n",
       "    <tr>\n",
       "      <th>std</th>\n",
       "      <td>3.211424</td>\n",
       "      <td>30.860781</td>\n",
       "      <td>12.496092</td>\n",
       "      <td>10.516424</td>\n",
       "      <td>118.841690</td>\n",
       "      <td>7.027659</td>\n",
       "      <td>0.345488</td>\n",
       "      <td>10.200777</td>\n",
       "    </tr>\n",
       "    <tr>\n",
       "      <th>min</th>\n",
       "      <td>0.000000</td>\n",
       "      <td>56.000000</td>\n",
       "      <td>24.000000</td>\n",
       "      <td>7.000000</td>\n",
       "      <td>14.000000</td>\n",
       "      <td>18.200000</td>\n",
       "      <td>0.085000</td>\n",
       "      <td>21.000000</td>\n",
       "    </tr>\n",
       "    <tr>\n",
       "      <th>25%</th>\n",
       "      <td>1.000000</td>\n",
       "      <td>99.000000</td>\n",
       "      <td>62.000000</td>\n",
       "      <td>21.000000</td>\n",
       "      <td>76.750000</td>\n",
       "      <td>28.400000</td>\n",
       "      <td>0.269750</td>\n",
       "      <td>23.000000</td>\n",
       "    </tr>\n",
       "    <tr>\n",
       "      <th>50%</th>\n",
       "      <td>2.000000</td>\n",
       "      <td>119.000000</td>\n",
       "      <td>70.000000</td>\n",
       "      <td>29.000000</td>\n",
       "      <td>125.500000</td>\n",
       "      <td>33.200000</td>\n",
       "      <td>0.449500</td>\n",
       "      <td>27.000000</td>\n",
       "    </tr>\n",
       "    <tr>\n",
       "      <th>75%</th>\n",
       "      <td>5.000000</td>\n",
       "      <td>143.000000</td>\n",
       "      <td>78.000000</td>\n",
       "      <td>37.000000</td>\n",
       "      <td>190.000000</td>\n",
       "      <td>37.100000</td>\n",
       "      <td>0.687000</td>\n",
       "      <td>36.000000</td>\n",
       "    </tr>\n",
       "    <tr>\n",
       "      <th>max</th>\n",
       "      <td>17.000000</td>\n",
       "      <td>198.000000</td>\n",
       "      <td>110.000000</td>\n",
       "      <td>63.000000</td>\n",
       "      <td>846.000000</td>\n",
       "      <td>67.100000</td>\n",
       "      <td>2.420000</td>\n",
       "      <td>81.000000</td>\n",
       "    </tr>\n",
       "  </tbody>\n",
       "</table>\n",
       "</div>"
      ],
      "text/plain": [
       "      Pregnancies     Glucose  BloodPressure  SkinThickness     Insulin  \\\n",
       "mean     3.301020  122.627551      70.663265      29.145408  156.056122   \n",
       "std      3.211424   30.860781      12.496092      10.516424  118.841690   \n",
       "min      0.000000   56.000000      24.000000       7.000000   14.000000   \n",
       "25%      1.000000   99.000000      62.000000      21.000000   76.750000   \n",
       "50%      2.000000  119.000000      70.000000      29.000000  125.500000   \n",
       "75%      5.000000  143.000000      78.000000      37.000000  190.000000   \n",
       "max     17.000000  198.000000     110.000000      63.000000  846.000000   \n",
       "\n",
       "            BMI  DiabetesPedigreeFunction        Age  \n",
       "mean  33.086224                  0.523046  30.864796  \n",
       "std    7.027659                  0.345488  10.200777  \n",
       "min   18.200000                  0.085000  21.000000  \n",
       "25%   28.400000                  0.269750  23.000000  \n",
       "50%   33.200000                  0.449500  27.000000  \n",
       "75%   37.100000                  0.687000  36.000000  \n",
       "max   67.100000                  2.420000  81.000000  "
      ]
     },
     "execution_count": 10,
     "metadata": {},
     "output_type": "execute_result"
    }
   ],
   "source": [
    "df2.describe().iloc[1:, :-1]"
   ]
  },
  {
   "cell_type": "markdown",
   "metadata": {},
   "source": [
    "### Path 2 Impute Insulin\n",
    "Remove entries that have 0 in either \"Glucose\", \"BloodPressure\", \"SkinThickness\", \"BMI\"  \n",
    "Retain more data by imputing Insulin"
   ]
  },
  {
   "cell_type": "code",
   "execution_count": 11,
   "metadata": {},
   "outputs": [
    {
     "data": {
      "text/html": [
       "<div>\n",
       "<style scoped>\n",
       "    .dataframe tbody tr th:only-of-type {\n",
       "        vertical-align: middle;\n",
       "    }\n",
       "\n",
       "    .dataframe tbody tr th {\n",
       "        vertical-align: top;\n",
       "    }\n",
       "\n",
       "    .dataframe thead th {\n",
       "        text-align: right;\n",
       "    }\n",
       "</style>\n",
       "<table border=\"1\" class=\"dataframe\">\n",
       "  <thead>\n",
       "    <tr style=\"text-align: right;\">\n",
       "      <th></th>\n",
       "      <th>Pregnancies</th>\n",
       "      <th>Glucose</th>\n",
       "      <th>BloodPressure</th>\n",
       "      <th>SkinThickness</th>\n",
       "      <th>Insulin</th>\n",
       "      <th>BMI</th>\n",
       "      <th>DiabetesPedigreeFunction</th>\n",
       "      <th>Age</th>\n",
       "      <th>Outcome</th>\n",
       "    </tr>\n",
       "  </thead>\n",
       "  <tbody>\n",
       "    <tr>\n",
       "      <th>0</th>\n",
       "      <td>6</td>\n",
       "      <td>148</td>\n",
       "      <td>72</td>\n",
       "      <td>35</td>\n",
       "      <td>0</td>\n",
       "      <td>33.6</td>\n",
       "      <td>0.627</td>\n",
       "      <td>50</td>\n",
       "      <td>1</td>\n",
       "    </tr>\n",
       "    <tr>\n",
       "      <th>1</th>\n",
       "      <td>1</td>\n",
       "      <td>85</td>\n",
       "      <td>66</td>\n",
       "      <td>29</td>\n",
       "      <td>0</td>\n",
       "      <td>26.6</td>\n",
       "      <td>0.351</td>\n",
       "      <td>31</td>\n",
       "      <td>0</td>\n",
       "    </tr>\n",
       "    <tr>\n",
       "      <th>3</th>\n",
       "      <td>1</td>\n",
       "      <td>89</td>\n",
       "      <td>66</td>\n",
       "      <td>23</td>\n",
       "      <td>94</td>\n",
       "      <td>28.1</td>\n",
       "      <td>0.167</td>\n",
       "      <td>21</td>\n",
       "      <td>0</td>\n",
       "    </tr>\n",
       "    <tr>\n",
       "      <th>4</th>\n",
       "      <td>0</td>\n",
       "      <td>137</td>\n",
       "      <td>40</td>\n",
       "      <td>35</td>\n",
       "      <td>168</td>\n",
       "      <td>43.1</td>\n",
       "      <td>2.288</td>\n",
       "      <td>33</td>\n",
       "      <td>1</td>\n",
       "    </tr>\n",
       "    <tr>\n",
       "      <th>6</th>\n",
       "      <td>3</td>\n",
       "      <td>78</td>\n",
       "      <td>50</td>\n",
       "      <td>32</td>\n",
       "      <td>88</td>\n",
       "      <td>31.0</td>\n",
       "      <td>0.248</td>\n",
       "      <td>26</td>\n",
       "      <td>1</td>\n",
       "    </tr>\n",
       "    <tr>\n",
       "      <th>...</th>\n",
       "      <td>...</td>\n",
       "      <td>...</td>\n",
       "      <td>...</td>\n",
       "      <td>...</td>\n",
       "      <td>...</td>\n",
       "      <td>...</td>\n",
       "      <td>...</td>\n",
       "      <td>...</td>\n",
       "      <td>...</td>\n",
       "    </tr>\n",
       "    <tr>\n",
       "      <th>761</th>\n",
       "      <td>9</td>\n",
       "      <td>170</td>\n",
       "      <td>74</td>\n",
       "      <td>31</td>\n",
       "      <td>0</td>\n",
       "      <td>44.0</td>\n",
       "      <td>0.403</td>\n",
       "      <td>43</td>\n",
       "      <td>1</td>\n",
       "    </tr>\n",
       "    <tr>\n",
       "      <th>763</th>\n",
       "      <td>10</td>\n",
       "      <td>101</td>\n",
       "      <td>76</td>\n",
       "      <td>48</td>\n",
       "      <td>180</td>\n",
       "      <td>32.9</td>\n",
       "      <td>0.171</td>\n",
       "      <td>63</td>\n",
       "      <td>0</td>\n",
       "    </tr>\n",
       "    <tr>\n",
       "      <th>764</th>\n",
       "      <td>2</td>\n",
       "      <td>122</td>\n",
       "      <td>70</td>\n",
       "      <td>27</td>\n",
       "      <td>0</td>\n",
       "      <td>36.8</td>\n",
       "      <td>0.340</td>\n",
       "      <td>27</td>\n",
       "      <td>0</td>\n",
       "    </tr>\n",
       "    <tr>\n",
       "      <th>765</th>\n",
       "      <td>5</td>\n",
       "      <td>121</td>\n",
       "      <td>72</td>\n",
       "      <td>23</td>\n",
       "      <td>112</td>\n",
       "      <td>26.2</td>\n",
       "      <td>0.245</td>\n",
       "      <td>30</td>\n",
       "      <td>0</td>\n",
       "    </tr>\n",
       "    <tr>\n",
       "      <th>767</th>\n",
       "      <td>1</td>\n",
       "      <td>93</td>\n",
       "      <td>70</td>\n",
       "      <td>31</td>\n",
       "      <td>0</td>\n",
       "      <td>30.4</td>\n",
       "      <td>0.315</td>\n",
       "      <td>23</td>\n",
       "      <td>0</td>\n",
       "    </tr>\n",
       "  </tbody>\n",
       "</table>\n",
       "<p>532 rows × 9 columns</p>\n",
       "</div>"
      ],
      "text/plain": [
       "     Pregnancies  Glucose  BloodPressure  SkinThickness  Insulin   BMI  \\\n",
       "0              6      148             72             35        0  33.6   \n",
       "1              1       85             66             29        0  26.6   \n",
       "3              1       89             66             23       94  28.1   \n",
       "4              0      137             40             35      168  43.1   \n",
       "6              3       78             50             32       88  31.0   \n",
       "..           ...      ...            ...            ...      ...   ...   \n",
       "761            9      170             74             31        0  44.0   \n",
       "763           10      101             76             48      180  32.9   \n",
       "764            2      122             70             27        0  36.8   \n",
       "765            5      121             72             23      112  26.2   \n",
       "767            1       93             70             31        0  30.4   \n",
       "\n",
       "     DiabetesPedigreeFunction  Age  Outcome  \n",
       "0                       0.627   50        1  \n",
       "1                       0.351   31        0  \n",
       "3                       0.167   21        0  \n",
       "4                       2.288   33        1  \n",
       "6                       0.248   26        1  \n",
       "..                        ...  ...      ...  \n",
       "761                     0.403   43        1  \n",
       "763                     0.171   63        0  \n",
       "764                     0.340   27        0  \n",
       "765                     0.245   30        0  \n",
       "767                     0.315   23        0  \n",
       "\n",
       "[532 rows x 9 columns]"
      ]
     },
     "execution_count": 11,
     "metadata": {},
     "output_type": "execute_result"
    }
   ],
   "source": [
    "# Dataframe that removes inaccurate entries for everything except Insulin (want to impute the missing insulin values)\n",
    "filter_df = df[(df['SkinThickness'] != 0) & (df['BMI'] != 0) & (df['Glucose'] != 0) & (df['BloodPressure'] != 0)]\n",
    "filter_df"
   ]
  },
  {
   "cell_type": "code",
   "execution_count": null,
   "metadata": {},
   "outputs": [],
   "source": []
  },
  {
   "cell_type": "markdown",
   "metadata": {},
   "source": [
    "## Exploratory Data Analysis"
   ]
  },
  {
   "cell_type": "code",
   "execution_count": 12,
   "metadata": {},
   "outputs": [],
   "source": [
    "df_plot = df.copy()\n",
    "df_plot['Outcome'] = df_plot['Outcome'].replace({0: 'No Diabetes', 1: 'Diabetes'})\n",
    "color_discrete_map = {'No Diabetes': '#636EFA', 'Diabetes': '#EF553B'}"
   ]
  },
  {
   "cell_type": "markdown",
   "metadata": {},
   "source": [
    "### Plot the distribution of each predictor"
   ]
  },
  {
   "cell_type": "markdown",
   "metadata": {},
   "source": [
    "#### Pregnancies"
   ]
  },
  {
   "cell_type": "code",
   "execution_count": 13,
   "metadata": {},
   "outputs": [
    {
     "data": {
      "text/plain": [
       "Pregnancies\n",
       "1     135\n",
       "0     111\n",
       "2     103\n",
       "3      75\n",
       "4      68\n",
       "5      57\n",
       "6      50\n",
       "7      45\n",
       "8      38\n",
       "9      28\n",
       "10     24\n",
       "11     11\n",
       "13     10\n",
       "12      9\n",
       "14      2\n",
       "15      1\n",
       "17      1\n",
       "Name: count, dtype: int64"
      ]
     },
     "execution_count": 13,
     "metadata": {},
     "output_type": "execute_result"
    }
   ],
   "source": [
    "# Get Total Count of Pregnancy\n",
    "df_plot['Pregnancies'].value_counts()"
   ]
  },
  {
   "cell_type": "code",
   "execution_count": 14,
   "metadata": {},
   "outputs": [
    {
     "data": {
      "application/vnd.plotly.v1+json": {
       "config": {
        "plotlyServerURL": "https://plot.ly"
       },
       "data": [
        {
         "name": "No Diebetes",
         "type": "bar",
         "x": [
          0,
          1,
          2,
          3,
          4,
          5,
          6,
          7,
          8,
          9,
          10,
          11,
          12,
          13,
          14,
          15,
          17
         ],
         "y": [
          73,
          106,
          84,
          48,
          45,
          36,
          34,
          20,
          16,
          10,
          14,
          4,
          5,
          5,
          0,
          0,
          0
         ]
        },
        {
         "name": "Diabetes",
         "type": "bar",
         "x": [
          0,
          1,
          2,
          3,
          4,
          5,
          6,
          7,
          8,
          9,
          10,
          11,
          12,
          13,
          14,
          15,
          17
         ],
         "y": [
          38,
          29,
          19,
          27,
          23,
          21,
          16,
          25,
          22,
          18,
          10,
          7,
          4,
          5,
          2,
          1,
          1
         ]
        }
       ],
       "layout": {
        "barmode": "group",
        "template": {
         "data": {
          "bar": [
           {
            "error_x": {
             "color": "#2a3f5f"
            },
            "error_y": {
             "color": "#2a3f5f"
            },
            "marker": {
             "line": {
              "color": "#E5ECF6",
              "width": 0.5
             },
             "pattern": {
              "fillmode": "overlay",
              "size": 10,
              "solidity": 0.2
             }
            },
            "type": "bar"
           }
          ],
          "barpolar": [
           {
            "marker": {
             "line": {
              "color": "#E5ECF6",
              "width": 0.5
             },
             "pattern": {
              "fillmode": "overlay",
              "size": 10,
              "solidity": 0.2
             }
            },
            "type": "barpolar"
           }
          ],
          "carpet": [
           {
            "aaxis": {
             "endlinecolor": "#2a3f5f",
             "gridcolor": "white",
             "linecolor": "white",
             "minorgridcolor": "white",
             "startlinecolor": "#2a3f5f"
            },
            "baxis": {
             "endlinecolor": "#2a3f5f",
             "gridcolor": "white",
             "linecolor": "white",
             "minorgridcolor": "white",
             "startlinecolor": "#2a3f5f"
            },
            "type": "carpet"
           }
          ],
          "choropleth": [
           {
            "colorbar": {
             "outlinewidth": 0,
             "ticks": ""
            },
            "type": "choropleth"
           }
          ],
          "contour": [
           {
            "colorbar": {
             "outlinewidth": 0,
             "ticks": ""
            },
            "colorscale": [
             [
              0,
              "#0d0887"
             ],
             [
              0.1111111111111111,
              "#46039f"
             ],
             [
              0.2222222222222222,
              "#7201a8"
             ],
             [
              0.3333333333333333,
              "#9c179e"
             ],
             [
              0.4444444444444444,
              "#bd3786"
             ],
             [
              0.5555555555555556,
              "#d8576b"
             ],
             [
              0.6666666666666666,
              "#ed7953"
             ],
             [
              0.7777777777777778,
              "#fb9f3a"
             ],
             [
              0.8888888888888888,
              "#fdca26"
             ],
             [
              1,
              "#f0f921"
             ]
            ],
            "type": "contour"
           }
          ],
          "contourcarpet": [
           {
            "colorbar": {
             "outlinewidth": 0,
             "ticks": ""
            },
            "type": "contourcarpet"
           }
          ],
          "heatmap": [
           {
            "colorbar": {
             "outlinewidth": 0,
             "ticks": ""
            },
            "colorscale": [
             [
              0,
              "#0d0887"
             ],
             [
              0.1111111111111111,
              "#46039f"
             ],
             [
              0.2222222222222222,
              "#7201a8"
             ],
             [
              0.3333333333333333,
              "#9c179e"
             ],
             [
              0.4444444444444444,
              "#bd3786"
             ],
             [
              0.5555555555555556,
              "#d8576b"
             ],
             [
              0.6666666666666666,
              "#ed7953"
             ],
             [
              0.7777777777777778,
              "#fb9f3a"
             ],
             [
              0.8888888888888888,
              "#fdca26"
             ],
             [
              1,
              "#f0f921"
             ]
            ],
            "type": "heatmap"
           }
          ],
          "heatmapgl": [
           {
            "colorbar": {
             "outlinewidth": 0,
             "ticks": ""
            },
            "colorscale": [
             [
              0,
              "#0d0887"
             ],
             [
              0.1111111111111111,
              "#46039f"
             ],
             [
              0.2222222222222222,
              "#7201a8"
             ],
             [
              0.3333333333333333,
              "#9c179e"
             ],
             [
              0.4444444444444444,
              "#bd3786"
             ],
             [
              0.5555555555555556,
              "#d8576b"
             ],
             [
              0.6666666666666666,
              "#ed7953"
             ],
             [
              0.7777777777777778,
              "#fb9f3a"
             ],
             [
              0.8888888888888888,
              "#fdca26"
             ],
             [
              1,
              "#f0f921"
             ]
            ],
            "type": "heatmapgl"
           }
          ],
          "histogram": [
           {
            "marker": {
             "pattern": {
              "fillmode": "overlay",
              "size": 10,
              "solidity": 0.2
             }
            },
            "type": "histogram"
           }
          ],
          "histogram2d": [
           {
            "colorbar": {
             "outlinewidth": 0,
             "ticks": ""
            },
            "colorscale": [
             [
              0,
              "#0d0887"
             ],
             [
              0.1111111111111111,
              "#46039f"
             ],
             [
              0.2222222222222222,
              "#7201a8"
             ],
             [
              0.3333333333333333,
              "#9c179e"
             ],
             [
              0.4444444444444444,
              "#bd3786"
             ],
             [
              0.5555555555555556,
              "#d8576b"
             ],
             [
              0.6666666666666666,
              "#ed7953"
             ],
             [
              0.7777777777777778,
              "#fb9f3a"
             ],
             [
              0.8888888888888888,
              "#fdca26"
             ],
             [
              1,
              "#f0f921"
             ]
            ],
            "type": "histogram2d"
           }
          ],
          "histogram2dcontour": [
           {
            "colorbar": {
             "outlinewidth": 0,
             "ticks": ""
            },
            "colorscale": [
             [
              0,
              "#0d0887"
             ],
             [
              0.1111111111111111,
              "#46039f"
             ],
             [
              0.2222222222222222,
              "#7201a8"
             ],
             [
              0.3333333333333333,
              "#9c179e"
             ],
             [
              0.4444444444444444,
              "#bd3786"
             ],
             [
              0.5555555555555556,
              "#d8576b"
             ],
             [
              0.6666666666666666,
              "#ed7953"
             ],
             [
              0.7777777777777778,
              "#fb9f3a"
             ],
             [
              0.8888888888888888,
              "#fdca26"
             ],
             [
              1,
              "#f0f921"
             ]
            ],
            "type": "histogram2dcontour"
           }
          ],
          "mesh3d": [
           {
            "colorbar": {
             "outlinewidth": 0,
             "ticks": ""
            },
            "type": "mesh3d"
           }
          ],
          "parcoords": [
           {
            "line": {
             "colorbar": {
              "outlinewidth": 0,
              "ticks": ""
             }
            },
            "type": "parcoords"
           }
          ],
          "pie": [
           {
            "automargin": true,
            "type": "pie"
           }
          ],
          "scatter": [
           {
            "fillpattern": {
             "fillmode": "overlay",
             "size": 10,
             "solidity": 0.2
            },
            "type": "scatter"
           }
          ],
          "scatter3d": [
           {
            "line": {
             "colorbar": {
              "outlinewidth": 0,
              "ticks": ""
             }
            },
            "marker": {
             "colorbar": {
              "outlinewidth": 0,
              "ticks": ""
             }
            },
            "type": "scatter3d"
           }
          ],
          "scattercarpet": [
           {
            "marker": {
             "colorbar": {
              "outlinewidth": 0,
              "ticks": ""
             }
            },
            "type": "scattercarpet"
           }
          ],
          "scattergeo": [
           {
            "marker": {
             "colorbar": {
              "outlinewidth": 0,
              "ticks": ""
             }
            },
            "type": "scattergeo"
           }
          ],
          "scattergl": [
           {
            "marker": {
             "colorbar": {
              "outlinewidth": 0,
              "ticks": ""
             }
            },
            "type": "scattergl"
           }
          ],
          "scattermapbox": [
           {
            "marker": {
             "colorbar": {
              "outlinewidth": 0,
              "ticks": ""
             }
            },
            "type": "scattermapbox"
           }
          ],
          "scatterpolar": [
           {
            "marker": {
             "colorbar": {
              "outlinewidth": 0,
              "ticks": ""
             }
            },
            "type": "scatterpolar"
           }
          ],
          "scatterpolargl": [
           {
            "marker": {
             "colorbar": {
              "outlinewidth": 0,
              "ticks": ""
             }
            },
            "type": "scatterpolargl"
           }
          ],
          "scatterternary": [
           {
            "marker": {
             "colorbar": {
              "outlinewidth": 0,
              "ticks": ""
             }
            },
            "type": "scatterternary"
           }
          ],
          "surface": [
           {
            "colorbar": {
             "outlinewidth": 0,
             "ticks": ""
            },
            "colorscale": [
             [
              0,
              "#0d0887"
             ],
             [
              0.1111111111111111,
              "#46039f"
             ],
             [
              0.2222222222222222,
              "#7201a8"
             ],
             [
              0.3333333333333333,
              "#9c179e"
             ],
             [
              0.4444444444444444,
              "#bd3786"
             ],
             [
              0.5555555555555556,
              "#d8576b"
             ],
             [
              0.6666666666666666,
              "#ed7953"
             ],
             [
              0.7777777777777778,
              "#fb9f3a"
             ],
             [
              0.8888888888888888,
              "#fdca26"
             ],
             [
              1,
              "#f0f921"
             ]
            ],
            "type": "surface"
           }
          ],
          "table": [
           {
            "cells": {
             "fill": {
              "color": "#EBF0F8"
             },
             "line": {
              "color": "white"
             }
            },
            "header": {
             "fill": {
              "color": "#C8D4E3"
             },
             "line": {
              "color": "white"
             }
            },
            "type": "table"
           }
          ]
         },
         "layout": {
          "annotationdefaults": {
           "arrowcolor": "#2a3f5f",
           "arrowhead": 0,
           "arrowwidth": 1
          },
          "autotypenumbers": "strict",
          "coloraxis": {
           "colorbar": {
            "outlinewidth": 0,
            "ticks": ""
           }
          },
          "colorscale": {
           "diverging": [
            [
             0,
             "#8e0152"
            ],
            [
             0.1,
             "#c51b7d"
            ],
            [
             0.2,
             "#de77ae"
            ],
            [
             0.3,
             "#f1b6da"
            ],
            [
             0.4,
             "#fde0ef"
            ],
            [
             0.5,
             "#f7f7f7"
            ],
            [
             0.6,
             "#e6f5d0"
            ],
            [
             0.7,
             "#b8e186"
            ],
            [
             0.8,
             "#7fbc41"
            ],
            [
             0.9,
             "#4d9221"
            ],
            [
             1,
             "#276419"
            ]
           ],
           "sequential": [
            [
             0,
             "#0d0887"
            ],
            [
             0.1111111111111111,
             "#46039f"
            ],
            [
             0.2222222222222222,
             "#7201a8"
            ],
            [
             0.3333333333333333,
             "#9c179e"
            ],
            [
             0.4444444444444444,
             "#bd3786"
            ],
            [
             0.5555555555555556,
             "#d8576b"
            ],
            [
             0.6666666666666666,
             "#ed7953"
            ],
            [
             0.7777777777777778,
             "#fb9f3a"
            ],
            [
             0.8888888888888888,
             "#fdca26"
            ],
            [
             1,
             "#f0f921"
            ]
           ],
           "sequentialminus": [
            [
             0,
             "#0d0887"
            ],
            [
             0.1111111111111111,
             "#46039f"
            ],
            [
             0.2222222222222222,
             "#7201a8"
            ],
            [
             0.3333333333333333,
             "#9c179e"
            ],
            [
             0.4444444444444444,
             "#bd3786"
            ],
            [
             0.5555555555555556,
             "#d8576b"
            ],
            [
             0.6666666666666666,
             "#ed7953"
            ],
            [
             0.7777777777777778,
             "#fb9f3a"
            ],
            [
             0.8888888888888888,
             "#fdca26"
            ],
            [
             1,
             "#f0f921"
            ]
           ]
          },
          "colorway": [
           "#636efa",
           "#EF553B",
           "#00cc96",
           "#ab63fa",
           "#FFA15A",
           "#19d3f3",
           "#FF6692",
           "#B6E880",
           "#FF97FF",
           "#FECB52"
          ],
          "font": {
           "color": "#2a3f5f"
          },
          "geo": {
           "bgcolor": "white",
           "lakecolor": "white",
           "landcolor": "#E5ECF6",
           "showlakes": true,
           "showland": true,
           "subunitcolor": "white"
          },
          "hoverlabel": {
           "align": "left"
          },
          "hovermode": "closest",
          "mapbox": {
           "style": "light"
          },
          "paper_bgcolor": "white",
          "plot_bgcolor": "#E5ECF6",
          "polar": {
           "angularaxis": {
            "gridcolor": "white",
            "linecolor": "white",
            "ticks": ""
           },
           "bgcolor": "#E5ECF6",
           "radialaxis": {
            "gridcolor": "white",
            "linecolor": "white",
            "ticks": ""
           }
          },
          "scene": {
           "xaxis": {
            "backgroundcolor": "#E5ECF6",
            "gridcolor": "white",
            "gridwidth": 2,
            "linecolor": "white",
            "showbackground": true,
            "ticks": "",
            "zerolinecolor": "white"
           },
           "yaxis": {
            "backgroundcolor": "#E5ECF6",
            "gridcolor": "white",
            "gridwidth": 2,
            "linecolor": "white",
            "showbackground": true,
            "ticks": "",
            "zerolinecolor": "white"
           },
           "zaxis": {
            "backgroundcolor": "#E5ECF6",
            "gridcolor": "white",
            "gridwidth": 2,
            "linecolor": "white",
            "showbackground": true,
            "ticks": "",
            "zerolinecolor": "white"
           }
          },
          "shapedefaults": {
           "line": {
            "color": "#2a3f5f"
           }
          },
          "ternary": {
           "aaxis": {
            "gridcolor": "white",
            "linecolor": "white",
            "ticks": ""
           },
           "baxis": {
            "gridcolor": "white",
            "linecolor": "white",
            "ticks": ""
           },
           "bgcolor": "#E5ECF6",
           "caxis": {
            "gridcolor": "white",
            "linecolor": "white",
            "ticks": ""
           }
          },
          "title": {
           "x": 0.05
          },
          "xaxis": {
           "automargin": true,
           "gridcolor": "white",
           "linecolor": "white",
           "ticks": "",
           "title": {
            "standoff": 15
           },
           "zerolinecolor": "white",
           "zerolinewidth": 2
          },
          "yaxis": {
           "automargin": true,
           "gridcolor": "white",
           "linecolor": "white",
           "ticks": "",
           "title": {
            "standoff": 15
           },
           "zerolinecolor": "white",
           "zerolinewidth": 2
          }
         }
        },
        "title": {
         "text": "Frequency of Outcomes by Pregnancy"
        },
        "xaxis": {
         "title": {
          "text": "Number of Pregnancies"
         }
        },
        "yaxis": {
         "title": {
          "text": "Frequency"
         }
        }
       }
      }
     },
     "metadata": {},
     "output_type": "display_data"
    }
   ],
   "source": [
    "agg_data = df.groupby(['Pregnancies', 'Outcome']).size().unstack(fill_value=0)\n",
    "# Create bar plot\n",
    "fig = go.Figure(data=[\n",
    "    go.Bar(name='No Diebetes', x=agg_data.index, y=agg_data[0]),\n",
    "    go.Bar(name='Diabetes', x=agg_data.index, y=agg_data[1])\n",
    "])\n",
    "\n",
    "# Update layout\n",
    "fig.update_layout(\n",
    "    title='Frequency of Outcomes by Pregnancy',\n",
    "    xaxis=dict(title='Number of Pregnancies'),\n",
    "    yaxis=dict(title='Frequency'),\n",
    "    barmode='group'\n",
    ")\n",
    "\n",
    "# Show plot\n",
    "fig.show()"
   ]
  },
  {
   "cell_type": "markdown",
   "metadata": {},
   "source": [
    "#### Glucose"
   ]
  },
  {
   "cell_type": "code",
   "execution_count": 15,
   "metadata": {},
   "outputs": [
    {
     "data": {
      "application/vnd.plotly.v1+json": {
       "config": {
        "plotlyServerURL": "https://plot.ly"
       },
       "data": [
        {
         "alignmentgroup": "True",
         "hovertemplate": "Outcome=%{y}<br>Glucose Level=%{x}<extra></extra>",
         "legendgroup": "Diabetes",
         "marker": {
          "color": "#EF553B"
         },
         "name": "Diabetes",
         "notched": false,
         "offsetgroup": "Diabetes",
         "orientation": "h",
         "showlegend": true,
         "type": "box",
         "x": [
          148,
          183,
          137,
          78,
          197,
          125,
          168,
          189,
          166,
          100,
          118,
          107,
          115,
          196,
          119,
          143,
          125,
          147,
          158,
          102,
          90,
          111,
          171,
          180,
          103,
          176,
          187,
          133,
          114,
          109,
          100,
          126,
          131,
          137,
          136,
          134,
          122,
          163,
          95,
          171,
          155,
          160,
          146,
          124,
          162,
          113,
          88,
          117,
          105,
          173,
          122,
          170,
          108,
          156,
          188,
          152,
          163,
          131,
          104,
          102,
          134,
          179,
          129,
          130,
          194,
          181,
          128,
          109,
          139,
          159,
          135,
          158,
          107,
          109,
          148,
          196,
          162,
          184,
          140,
          112,
          151,
          109,
          85,
          112,
          177,
          158,
          162,
          142,
          134,
          171,
          181,
          179,
          164,
          139,
          119,
          184,
          92,
          113,
          155,
          141,
          123,
          138,
          146,
          101,
          106,
          146,
          161,
          108,
          119,
          107,
          128,
          128,
          146,
          100,
          167,
          144,
          115,
          161,
          128,
          124,
          155,
          109,
          182,
          194,
          112,
          124,
          152,
          122,
          102,
          180,
          115,
          152,
          178,
          0,
          165,
          125,
          129,
          196,
          189,
          146,
          124,
          133,
          173,
          140,
          156,
          116,
          105,
          144,
          166,
          158,
          131,
          193,
          95,
          136,
          168,
          115,
          197,
          172,
          138,
          173,
          144,
          129,
          151,
          184,
          181,
          95,
          141,
          189,
          108,
          117,
          180,
          104,
          134,
          175,
          148,
          120,
          105,
          158,
          145,
          135,
          125,
          195,
          0,
          180,
          84,
          163,
          145,
          130,
          132,
          129,
          100,
          128,
          90,
          186,
          187,
          125,
          198,
          121,
          118,
          197,
          151,
          124,
          143,
          176,
          111,
          132,
          188,
          173,
          150,
          183,
          181,
          174,
          168,
          138,
          112,
          119,
          114,
          104,
          97,
          147,
          167,
          179,
          136,
          155,
          80,
          199,
          167,
          145,
          115,
          145,
          111,
          195,
          156,
          121,
          162,
          125,
          144,
          158,
          129,
          142,
          169,
          125,
          168,
          115,
          164,
          93,
          129,
          187,
          173,
          97,
          149,
          130,
          120,
          174,
          102,
          120,
          140,
          147,
          187,
          162,
          136,
          181,
          154,
          128,
          123,
          190,
          170,
          126
         ],
         "x0": " ",
         "xaxis": "x",
         "y": [
          "Diabetes",
          "Diabetes",
          "Diabetes",
          "Diabetes",
          "Diabetes",
          "Diabetes",
          "Diabetes",
          "Diabetes",
          "Diabetes",
          "Diabetes",
          "Diabetes",
          "Diabetes",
          "Diabetes",
          "Diabetes",
          "Diabetes",
          "Diabetes",
          "Diabetes",
          "Diabetes",
          "Diabetes",
          "Diabetes",
          "Diabetes",
          "Diabetes",
          "Diabetes",
          "Diabetes",
          "Diabetes",
          "Diabetes",
          "Diabetes",
          "Diabetes",
          "Diabetes",
          "Diabetes",
          "Diabetes",
          "Diabetes",
          "Diabetes",
          "Diabetes",
          "Diabetes",
          "Diabetes",
          "Diabetes",
          "Diabetes",
          "Diabetes",
          "Diabetes",
          "Diabetes",
          "Diabetes",
          "Diabetes",
          "Diabetes",
          "Diabetes",
          "Diabetes",
          "Diabetes",
          "Diabetes",
          "Diabetes",
          "Diabetes",
          "Diabetes",
          "Diabetes",
          "Diabetes",
          "Diabetes",
          "Diabetes",
          "Diabetes",
          "Diabetes",
          "Diabetes",
          "Diabetes",
          "Diabetes",
          "Diabetes",
          "Diabetes",
          "Diabetes",
          "Diabetes",
          "Diabetes",
          "Diabetes",
          "Diabetes",
          "Diabetes",
          "Diabetes",
          "Diabetes",
          "Diabetes",
          "Diabetes",
          "Diabetes",
          "Diabetes",
          "Diabetes",
          "Diabetes",
          "Diabetes",
          "Diabetes",
          "Diabetes",
          "Diabetes",
          "Diabetes",
          "Diabetes",
          "Diabetes",
          "Diabetes",
          "Diabetes",
          "Diabetes",
          "Diabetes",
          "Diabetes",
          "Diabetes",
          "Diabetes",
          "Diabetes",
          "Diabetes",
          "Diabetes",
          "Diabetes",
          "Diabetes",
          "Diabetes",
          "Diabetes",
          "Diabetes",
          "Diabetes",
          "Diabetes",
          "Diabetes",
          "Diabetes",
          "Diabetes",
          "Diabetes",
          "Diabetes",
          "Diabetes",
          "Diabetes",
          "Diabetes",
          "Diabetes",
          "Diabetes",
          "Diabetes",
          "Diabetes",
          "Diabetes",
          "Diabetes",
          "Diabetes",
          "Diabetes",
          "Diabetes",
          "Diabetes",
          "Diabetes",
          "Diabetes",
          "Diabetes",
          "Diabetes",
          "Diabetes",
          "Diabetes",
          "Diabetes",
          "Diabetes",
          "Diabetes",
          "Diabetes",
          "Diabetes",
          "Diabetes",
          "Diabetes",
          "Diabetes",
          "Diabetes",
          "Diabetes",
          "Diabetes",
          "Diabetes",
          "Diabetes",
          "Diabetes",
          "Diabetes",
          "Diabetes",
          "Diabetes",
          "Diabetes",
          "Diabetes",
          "Diabetes",
          "Diabetes",
          "Diabetes",
          "Diabetes",
          "Diabetes",
          "Diabetes",
          "Diabetes",
          "Diabetes",
          "Diabetes",
          "Diabetes",
          "Diabetes",
          "Diabetes",
          "Diabetes",
          "Diabetes",
          "Diabetes",
          "Diabetes",
          "Diabetes",
          "Diabetes",
          "Diabetes",
          "Diabetes",
          "Diabetes",
          "Diabetes",
          "Diabetes",
          "Diabetes",
          "Diabetes",
          "Diabetes",
          "Diabetes",
          "Diabetes",
          "Diabetes",
          "Diabetes",
          "Diabetes",
          "Diabetes",
          "Diabetes",
          "Diabetes",
          "Diabetes",
          "Diabetes",
          "Diabetes",
          "Diabetes",
          "Diabetes",
          "Diabetes",
          "Diabetes",
          "Diabetes",
          "Diabetes",
          "Diabetes",
          "Diabetes",
          "Diabetes",
          "Diabetes",
          "Diabetes",
          "Diabetes",
          "Diabetes",
          "Diabetes",
          "Diabetes",
          "Diabetes",
          "Diabetes",
          "Diabetes",
          "Diabetes",
          "Diabetes",
          "Diabetes",
          "Diabetes",
          "Diabetes",
          "Diabetes",
          "Diabetes",
          "Diabetes",
          "Diabetes",
          "Diabetes",
          "Diabetes",
          "Diabetes",
          "Diabetes",
          "Diabetes",
          "Diabetes",
          "Diabetes",
          "Diabetes",
          "Diabetes",
          "Diabetes",
          "Diabetes",
          "Diabetes",
          "Diabetes",
          "Diabetes",
          "Diabetes",
          "Diabetes",
          "Diabetes",
          "Diabetes",
          "Diabetes",
          "Diabetes",
          "Diabetes",
          "Diabetes",
          "Diabetes",
          "Diabetes",
          "Diabetes",
          "Diabetes",
          "Diabetes",
          "Diabetes",
          "Diabetes",
          "Diabetes",
          "Diabetes",
          "Diabetes",
          "Diabetes",
          "Diabetes",
          "Diabetes",
          "Diabetes",
          "Diabetes",
          "Diabetes",
          "Diabetes",
          "Diabetes",
          "Diabetes",
          "Diabetes",
          "Diabetes",
          "Diabetes",
          "Diabetes",
          "Diabetes",
          "Diabetes",
          "Diabetes",
          "Diabetes",
          "Diabetes",
          "Diabetes",
          "Diabetes",
          "Diabetes",
          "Diabetes",
          "Diabetes",
          "Diabetes",
          "Diabetes",
          "Diabetes",
          "Diabetes",
          "Diabetes",
          "Diabetes"
         ],
         "y0": " ",
         "yaxis": "y"
        },
        {
         "alignmentgroup": "True",
         "hovertemplate": "Outcome=%{y}<br>Glucose Level=%{x}<extra></extra>",
         "legendgroup": "No Diabetes",
         "marker": {
          "color": "#636EFA"
         },
         "name": "No Diabetes",
         "notched": false,
         "offsetgroup": "No Diabetes",
         "orientation": "h",
         "showlegend": true,
         "type": "box",
         "x": [
          85,
          89,
          116,
          115,
          110,
          139,
          103,
          126,
          99,
          97,
          145,
          117,
          109,
          88,
          92,
          122,
          103,
          138,
          180,
          133,
          106,
          159,
          146,
          71,
          105,
          103,
          101,
          88,
          150,
          73,
          100,
          146,
          105,
          84,
          44,
          141,
          99,
          109,
          95,
          146,
          139,
          129,
          79,
          0,
          62,
          95,
          112,
          113,
          74,
          83,
          101,
          110,
          106,
          100,
          107,
          80,
          123,
          81,
          142,
          144,
          92,
          71,
          93,
          151,
          125,
          81,
          85,
          126,
          96,
          144,
          83,
          89,
          76,
          78,
          97,
          99,
          111,
          107,
          132,
          120,
          118,
          84,
          96,
          125,
          100,
          93,
          129,
          105,
          128,
          106,
          108,
          154,
          102,
          57,
          106,
          147,
          90,
          136,
          114,
          153,
          99,
          109,
          88,
          151,
          102,
          114,
          100,
          148,
          120,
          110,
          111,
          87,
          79,
          75,
          85,
          143,
          87,
          119,
          0,
          73,
          141,
          111,
          123,
          85,
          105,
          113,
          138,
          108,
          99,
          103,
          111,
          96,
          81,
          147,
          179,
          125,
          119,
          142,
          100,
          87,
          101,
          197,
          117,
          79,
          122,
          74,
          104,
          91,
          91,
          146,
          122,
          165,
          124,
          111,
          106,
          129,
          90,
          86,
          111,
          114,
          193,
          191,
          95,
          142,
          96,
          128,
          102,
          108,
          122,
          71,
          106,
          100,
          104,
          114,
          108,
          129,
          133,
          136,
          155,
          96,
          108,
          78,
          161,
          151,
          126,
          112,
          77,
          150,
          120,
          137,
          80,
          106,
          113,
          112,
          99,
          115,
          129,
          112,
          157,
          179,
          105,
          118,
          87,
          106,
          95,
          165,
          117,
          130,
          95,
          0,
          122,
          95,
          126,
          139,
          116,
          99,
          92,
          137,
          61,
          90,
          90,
          88,
          158,
          103,
          147,
          99,
          101,
          81,
          118,
          84,
          105,
          122,
          98,
          87,
          93,
          107,
          105,
          109,
          90,
          125,
          119,
          100,
          100,
          131,
          116,
          127,
          96,
          82,
          137,
          72,
          123,
          101,
          102,
          112,
          143,
          143,
          97,
          83,
          119,
          94,
          102,
          115,
          94,
          135,
          99,
          89,
          80,
          139,
          90,
          140,
          147,
          97,
          107,
          83,
          117,
          100,
          95,
          120,
          82,
          91,
          119,
          100,
          135,
          86,
          134,
          120,
          71,
          74,
          88,
          115,
          124,
          74,
          97,
          154,
          144,
          137,
          119,
          136,
          114,
          137,
          114,
          126,
          132,
          123,
          85,
          84,
          139,
          173,
          99,
          194,
          83,
          89,
          99,
          80,
          166,
          110,
          81,
          154,
          117,
          84,
          94,
          96,
          75,
          130,
          84,
          120,
          139,
          91,
          91,
          99,
          125,
          76,
          129,
          68,
          124,
          114,
          125,
          87,
          97,
          116,
          117,
          111,
          122,
          107,
          86,
          91,
          77,
          105,
          57,
          127,
          84,
          88,
          131,
          164,
          189,
          116,
          84,
          114,
          88,
          84,
          124,
          97,
          110,
          103,
          85,
          87,
          99,
          91,
          95,
          99,
          92,
          154,
          78,
          130,
          111,
          98,
          143,
          119,
          108,
          133,
          109,
          121,
          100,
          93,
          103,
          73,
          112,
          82,
          123,
          67,
          89,
          109,
          108,
          96,
          124,
          124,
          92,
          152,
          111,
          106,
          105,
          106,
          117,
          68,
          112,
          92,
          183,
          94,
          108,
          90,
          125,
          132,
          128,
          94,
          102,
          111,
          128,
          92,
          104,
          94,
          100,
          102,
          128,
          90,
          103,
          157,
          107,
          91,
          117,
          123,
          120,
          106,
          101,
          120,
          127,
          162,
          112,
          98,
          154,
          165,
          99,
          68,
          123,
          91,
          93,
          101,
          56,
          95,
          136,
          129,
          130,
          107,
          140,
          107,
          121,
          90,
          99,
          127,
          118,
          122,
          129,
          110,
          80,
          127,
          158,
          126,
          134,
          102,
          94,
          108,
          83,
          114,
          117,
          111,
          112,
          116,
          141,
          175,
          92,
          106,
          105,
          95,
          126,
          65,
          99,
          102,
          109,
          153,
          100,
          81,
          121,
          108,
          137,
          106,
          88,
          89,
          101,
          122,
          121,
          93
         ],
         "x0": " ",
         "xaxis": "x",
         "y": [
          "No Diabetes",
          "No Diabetes",
          "No Diabetes",
          "No Diabetes",
          "No Diabetes",
          "No Diabetes",
          "No Diabetes",
          "No Diabetes",
          "No Diabetes",
          "No Diabetes",
          "No Diabetes",
          "No Diabetes",
          "No Diabetes",
          "No Diabetes",
          "No Diabetes",
          "No Diabetes",
          "No Diabetes",
          "No Diabetes",
          "No Diabetes",
          "No Diabetes",
          "No Diabetes",
          "No Diabetes",
          "No Diabetes",
          "No Diabetes",
          "No Diabetes",
          "No Diabetes",
          "No Diabetes",
          "No Diabetes",
          "No Diabetes",
          "No Diabetes",
          "No Diabetes",
          "No Diabetes",
          "No Diabetes",
          "No Diabetes",
          "No Diabetes",
          "No Diabetes",
          "No Diabetes",
          "No Diabetes",
          "No Diabetes",
          "No Diabetes",
          "No Diabetes",
          "No Diabetes",
          "No Diabetes",
          "No Diabetes",
          "No Diabetes",
          "No Diabetes",
          "No Diabetes",
          "No Diabetes",
          "No Diabetes",
          "No Diabetes",
          "No Diabetes",
          "No Diabetes",
          "No Diabetes",
          "No Diabetes",
          "No Diabetes",
          "No Diabetes",
          "No Diabetes",
          "No Diabetes",
          "No Diabetes",
          "No Diabetes",
          "No Diabetes",
          "No Diabetes",
          "No Diabetes",
          "No Diabetes",
          "No Diabetes",
          "No Diabetes",
          "No Diabetes",
          "No Diabetes",
          "No Diabetes",
          "No Diabetes",
          "No Diabetes",
          "No Diabetes",
          "No Diabetes",
          "No Diabetes",
          "No Diabetes",
          "No Diabetes",
          "No Diabetes",
          "No Diabetes",
          "No Diabetes",
          "No Diabetes",
          "No Diabetes",
          "No Diabetes",
          "No Diabetes",
          "No Diabetes",
          "No Diabetes",
          "No Diabetes",
          "No Diabetes",
          "No Diabetes",
          "No Diabetes",
          "No Diabetes",
          "No Diabetes",
          "No Diabetes",
          "No Diabetes",
          "No Diabetes",
          "No Diabetes",
          "No Diabetes",
          "No Diabetes",
          "No Diabetes",
          "No Diabetes",
          "No Diabetes",
          "No Diabetes",
          "No Diabetes",
          "No Diabetes",
          "No Diabetes",
          "No Diabetes",
          "No Diabetes",
          "No Diabetes",
          "No Diabetes",
          "No Diabetes",
          "No Diabetes",
          "No Diabetes",
          "No Diabetes",
          "No Diabetes",
          "No Diabetes",
          "No Diabetes",
          "No Diabetes",
          "No Diabetes",
          "No Diabetes",
          "No Diabetes",
          "No Diabetes",
          "No Diabetes",
          "No Diabetes",
          "No Diabetes",
          "No Diabetes",
          "No Diabetes",
          "No Diabetes",
          "No Diabetes",
          "No Diabetes",
          "No Diabetes",
          "No Diabetes",
          "No Diabetes",
          "No Diabetes",
          "No Diabetes",
          "No Diabetes",
          "No Diabetes",
          "No Diabetes",
          "No Diabetes",
          "No Diabetes",
          "No Diabetes",
          "No Diabetes",
          "No Diabetes",
          "No Diabetes",
          "No Diabetes",
          "No Diabetes",
          "No Diabetes",
          "No Diabetes",
          "No Diabetes",
          "No Diabetes",
          "No Diabetes",
          "No Diabetes",
          "No Diabetes",
          "No Diabetes",
          "No Diabetes",
          "No Diabetes",
          "No Diabetes",
          "No Diabetes",
          "No Diabetes",
          "No Diabetes",
          "No Diabetes",
          "No Diabetes",
          "No Diabetes",
          "No Diabetes",
          "No Diabetes",
          "No Diabetes",
          "No Diabetes",
          "No Diabetes",
          "No Diabetes",
          "No Diabetes",
          "No Diabetes",
          "No Diabetes",
          "No Diabetes",
          "No Diabetes",
          "No Diabetes",
          "No Diabetes",
          "No Diabetes",
          "No Diabetes",
          "No Diabetes",
          "No Diabetes",
          "No Diabetes",
          "No Diabetes",
          "No Diabetes",
          "No Diabetes",
          "No Diabetes",
          "No Diabetes",
          "No Diabetes",
          "No Diabetes",
          "No Diabetes",
          "No Diabetes",
          "No Diabetes",
          "No Diabetes",
          "No Diabetes",
          "No Diabetes",
          "No Diabetes",
          "No Diabetes",
          "No Diabetes",
          "No Diabetes",
          "No Diabetes",
          "No Diabetes",
          "No Diabetes",
          "No Diabetes",
          "No Diabetes",
          "No Diabetes",
          "No Diabetes",
          "No Diabetes",
          "No Diabetes",
          "No Diabetes",
          "No Diabetes",
          "No Diabetes",
          "No Diabetes",
          "No Diabetes",
          "No Diabetes",
          "No Diabetes",
          "No Diabetes",
          "No Diabetes",
          "No Diabetes",
          "No Diabetes",
          "No Diabetes",
          "No Diabetes",
          "No Diabetes",
          "No Diabetes",
          "No Diabetes",
          "No Diabetes",
          "No Diabetes",
          "No Diabetes",
          "No Diabetes",
          "No Diabetes",
          "No Diabetes",
          "No Diabetes",
          "No Diabetes",
          "No Diabetes",
          "No Diabetes",
          "No Diabetes",
          "No Diabetes",
          "No Diabetes",
          "No Diabetes",
          "No Diabetes",
          "No Diabetes",
          "No Diabetes",
          "No Diabetes",
          "No Diabetes",
          "No Diabetes",
          "No Diabetes",
          "No Diabetes",
          "No Diabetes",
          "No Diabetes",
          "No Diabetes",
          "No Diabetes",
          "No Diabetes",
          "No Diabetes",
          "No Diabetes",
          "No Diabetes",
          "No Diabetes",
          "No Diabetes",
          "No Diabetes",
          "No Diabetes",
          "No Diabetes",
          "No Diabetes",
          "No Diabetes",
          "No Diabetes",
          "No Diabetes",
          "No Diabetes",
          "No Diabetes",
          "No Diabetes",
          "No Diabetes",
          "No Diabetes",
          "No Diabetes",
          "No Diabetes",
          "No Diabetes",
          "No Diabetes",
          "No Diabetes",
          "No Diabetes",
          "No Diabetes",
          "No Diabetes",
          "No Diabetes",
          "No Diabetes",
          "No Diabetes",
          "No Diabetes",
          "No Diabetes",
          "No Diabetes",
          "No Diabetes",
          "No Diabetes",
          "No Diabetes",
          "No Diabetes",
          "No Diabetes",
          "No Diabetes",
          "No Diabetes",
          "No Diabetes",
          "No Diabetes",
          "No Diabetes",
          "No Diabetes",
          "No Diabetes",
          "No Diabetes",
          "No Diabetes",
          "No Diabetes",
          "No Diabetes",
          "No Diabetes",
          "No Diabetes",
          "No Diabetes",
          "No Diabetes",
          "No Diabetes",
          "No Diabetes",
          "No Diabetes",
          "No Diabetes",
          "No Diabetes",
          "No Diabetes",
          "No Diabetes",
          "No Diabetes",
          "No Diabetes",
          "No Diabetes",
          "No Diabetes",
          "No Diabetes",
          "No Diabetes",
          "No Diabetes",
          "No Diabetes",
          "No Diabetes",
          "No Diabetes",
          "No Diabetes",
          "No Diabetes",
          "No Diabetes",
          "No Diabetes",
          "No Diabetes",
          "No Diabetes",
          "No Diabetes",
          "No Diabetes",
          "No Diabetes",
          "No Diabetes",
          "No Diabetes",
          "No Diabetes",
          "No Diabetes",
          "No Diabetes",
          "No Diabetes",
          "No Diabetes",
          "No Diabetes",
          "No Diabetes",
          "No Diabetes",
          "No Diabetes",
          "No Diabetes",
          "No Diabetes",
          "No Diabetes",
          "No Diabetes",
          "No Diabetes",
          "No Diabetes",
          "No Diabetes",
          "No Diabetes",
          "No Diabetes",
          "No Diabetes",
          "No Diabetes",
          "No Diabetes",
          "No Diabetes",
          "No Diabetes",
          "No Diabetes",
          "No Diabetes",
          "No Diabetes",
          "No Diabetes",
          "No Diabetes",
          "No Diabetes",
          "No Diabetes",
          "No Diabetes",
          "No Diabetes",
          "No Diabetes",
          "No Diabetes",
          "No Diabetes",
          "No Diabetes",
          "No Diabetes",
          "No Diabetes",
          "No Diabetes",
          "No Diabetes",
          "No Diabetes",
          "No Diabetes",
          "No Diabetes",
          "No Diabetes",
          "No Diabetes",
          "No Diabetes",
          "No Diabetes",
          "No Diabetes",
          "No Diabetes",
          "No Diabetes",
          "No Diabetes",
          "No Diabetes",
          "No Diabetes",
          "No Diabetes",
          "No Diabetes",
          "No Diabetes",
          "No Diabetes",
          "No Diabetes",
          "No Diabetes",
          "No Diabetes",
          "No Diabetes",
          "No Diabetes",
          "No Diabetes",
          "No Diabetes",
          "No Diabetes",
          "No Diabetes",
          "No Diabetes",
          "No Diabetes",
          "No Diabetes",
          "No Diabetes",
          "No Diabetes",
          "No Diabetes",
          "No Diabetes",
          "No Diabetes",
          "No Diabetes",
          "No Diabetes",
          "No Diabetes",
          "No Diabetes",
          "No Diabetes",
          "No Diabetes",
          "No Diabetes",
          "No Diabetes",
          "No Diabetes",
          "No Diabetes",
          "No Diabetes",
          "No Diabetes",
          "No Diabetes",
          "No Diabetes",
          "No Diabetes",
          "No Diabetes",
          "No Diabetes",
          "No Diabetes",
          "No Diabetes",
          "No Diabetes",
          "No Diabetes",
          "No Diabetes",
          "No Diabetes",
          "No Diabetes",
          "No Diabetes",
          "No Diabetes",
          "No Diabetes",
          "No Diabetes",
          "No Diabetes",
          "No Diabetes",
          "No Diabetes",
          "No Diabetes",
          "No Diabetes",
          "No Diabetes",
          "No Diabetes",
          "No Diabetes",
          "No Diabetes",
          "No Diabetes",
          "No Diabetes",
          "No Diabetes",
          "No Diabetes",
          "No Diabetes",
          "No Diabetes",
          "No Diabetes",
          "No Diabetes",
          "No Diabetes",
          "No Diabetes",
          "No Diabetes",
          "No Diabetes",
          "No Diabetes",
          "No Diabetes",
          "No Diabetes",
          "No Diabetes",
          "No Diabetes",
          "No Diabetes",
          "No Diabetes",
          "No Diabetes",
          "No Diabetes",
          "No Diabetes",
          "No Diabetes",
          "No Diabetes",
          "No Diabetes",
          "No Diabetes",
          "No Diabetes",
          "No Diabetes",
          "No Diabetes",
          "No Diabetes",
          "No Diabetes",
          "No Diabetes",
          "No Diabetes",
          "No Diabetes",
          "No Diabetes",
          "No Diabetes",
          "No Diabetes",
          "No Diabetes",
          "No Diabetes",
          "No Diabetes",
          "No Diabetes",
          "No Diabetes",
          "No Diabetes",
          "No Diabetes",
          "No Diabetes",
          "No Diabetes",
          "No Diabetes",
          "No Diabetes",
          "No Diabetes",
          "No Diabetes",
          "No Diabetes",
          "No Diabetes",
          "No Diabetes",
          "No Diabetes",
          "No Diabetes",
          "No Diabetes",
          "No Diabetes",
          "No Diabetes",
          "No Diabetes",
          "No Diabetes",
          "No Diabetes",
          "No Diabetes"
         ],
         "y0": " ",
         "yaxis": "y"
        }
       ],
       "layout": {
        "boxmode": "overlay",
        "legend": {
         "title": {
          "text": "Outcome"
         },
         "tracegroupgap": 0
        },
        "template": {
         "data": {
          "bar": [
           {
            "error_x": {
             "color": "#2a3f5f"
            },
            "error_y": {
             "color": "#2a3f5f"
            },
            "marker": {
             "line": {
              "color": "#E5ECF6",
              "width": 0.5
             },
             "pattern": {
              "fillmode": "overlay",
              "size": 10,
              "solidity": 0.2
             }
            },
            "type": "bar"
           }
          ],
          "barpolar": [
           {
            "marker": {
             "line": {
              "color": "#E5ECF6",
              "width": 0.5
             },
             "pattern": {
              "fillmode": "overlay",
              "size": 10,
              "solidity": 0.2
             }
            },
            "type": "barpolar"
           }
          ],
          "carpet": [
           {
            "aaxis": {
             "endlinecolor": "#2a3f5f",
             "gridcolor": "white",
             "linecolor": "white",
             "minorgridcolor": "white",
             "startlinecolor": "#2a3f5f"
            },
            "baxis": {
             "endlinecolor": "#2a3f5f",
             "gridcolor": "white",
             "linecolor": "white",
             "minorgridcolor": "white",
             "startlinecolor": "#2a3f5f"
            },
            "type": "carpet"
           }
          ],
          "choropleth": [
           {
            "colorbar": {
             "outlinewidth": 0,
             "ticks": ""
            },
            "type": "choropleth"
           }
          ],
          "contour": [
           {
            "colorbar": {
             "outlinewidth": 0,
             "ticks": ""
            },
            "colorscale": [
             [
              0,
              "#0d0887"
             ],
             [
              0.1111111111111111,
              "#46039f"
             ],
             [
              0.2222222222222222,
              "#7201a8"
             ],
             [
              0.3333333333333333,
              "#9c179e"
             ],
             [
              0.4444444444444444,
              "#bd3786"
             ],
             [
              0.5555555555555556,
              "#d8576b"
             ],
             [
              0.6666666666666666,
              "#ed7953"
             ],
             [
              0.7777777777777778,
              "#fb9f3a"
             ],
             [
              0.8888888888888888,
              "#fdca26"
             ],
             [
              1,
              "#f0f921"
             ]
            ],
            "type": "contour"
           }
          ],
          "contourcarpet": [
           {
            "colorbar": {
             "outlinewidth": 0,
             "ticks": ""
            },
            "type": "contourcarpet"
           }
          ],
          "heatmap": [
           {
            "colorbar": {
             "outlinewidth": 0,
             "ticks": ""
            },
            "colorscale": [
             [
              0,
              "#0d0887"
             ],
             [
              0.1111111111111111,
              "#46039f"
             ],
             [
              0.2222222222222222,
              "#7201a8"
             ],
             [
              0.3333333333333333,
              "#9c179e"
             ],
             [
              0.4444444444444444,
              "#bd3786"
             ],
             [
              0.5555555555555556,
              "#d8576b"
             ],
             [
              0.6666666666666666,
              "#ed7953"
             ],
             [
              0.7777777777777778,
              "#fb9f3a"
             ],
             [
              0.8888888888888888,
              "#fdca26"
             ],
             [
              1,
              "#f0f921"
             ]
            ],
            "type": "heatmap"
           }
          ],
          "heatmapgl": [
           {
            "colorbar": {
             "outlinewidth": 0,
             "ticks": ""
            },
            "colorscale": [
             [
              0,
              "#0d0887"
             ],
             [
              0.1111111111111111,
              "#46039f"
             ],
             [
              0.2222222222222222,
              "#7201a8"
             ],
             [
              0.3333333333333333,
              "#9c179e"
             ],
             [
              0.4444444444444444,
              "#bd3786"
             ],
             [
              0.5555555555555556,
              "#d8576b"
             ],
             [
              0.6666666666666666,
              "#ed7953"
             ],
             [
              0.7777777777777778,
              "#fb9f3a"
             ],
             [
              0.8888888888888888,
              "#fdca26"
             ],
             [
              1,
              "#f0f921"
             ]
            ],
            "type": "heatmapgl"
           }
          ],
          "histogram": [
           {
            "marker": {
             "pattern": {
              "fillmode": "overlay",
              "size": 10,
              "solidity": 0.2
             }
            },
            "type": "histogram"
           }
          ],
          "histogram2d": [
           {
            "colorbar": {
             "outlinewidth": 0,
             "ticks": ""
            },
            "colorscale": [
             [
              0,
              "#0d0887"
             ],
             [
              0.1111111111111111,
              "#46039f"
             ],
             [
              0.2222222222222222,
              "#7201a8"
             ],
             [
              0.3333333333333333,
              "#9c179e"
             ],
             [
              0.4444444444444444,
              "#bd3786"
             ],
             [
              0.5555555555555556,
              "#d8576b"
             ],
             [
              0.6666666666666666,
              "#ed7953"
             ],
             [
              0.7777777777777778,
              "#fb9f3a"
             ],
             [
              0.8888888888888888,
              "#fdca26"
             ],
             [
              1,
              "#f0f921"
             ]
            ],
            "type": "histogram2d"
           }
          ],
          "histogram2dcontour": [
           {
            "colorbar": {
             "outlinewidth": 0,
             "ticks": ""
            },
            "colorscale": [
             [
              0,
              "#0d0887"
             ],
             [
              0.1111111111111111,
              "#46039f"
             ],
             [
              0.2222222222222222,
              "#7201a8"
             ],
             [
              0.3333333333333333,
              "#9c179e"
             ],
             [
              0.4444444444444444,
              "#bd3786"
             ],
             [
              0.5555555555555556,
              "#d8576b"
             ],
             [
              0.6666666666666666,
              "#ed7953"
             ],
             [
              0.7777777777777778,
              "#fb9f3a"
             ],
             [
              0.8888888888888888,
              "#fdca26"
             ],
             [
              1,
              "#f0f921"
             ]
            ],
            "type": "histogram2dcontour"
           }
          ],
          "mesh3d": [
           {
            "colorbar": {
             "outlinewidth": 0,
             "ticks": ""
            },
            "type": "mesh3d"
           }
          ],
          "parcoords": [
           {
            "line": {
             "colorbar": {
              "outlinewidth": 0,
              "ticks": ""
             }
            },
            "type": "parcoords"
           }
          ],
          "pie": [
           {
            "automargin": true,
            "type": "pie"
           }
          ],
          "scatter": [
           {
            "fillpattern": {
             "fillmode": "overlay",
             "size": 10,
             "solidity": 0.2
            },
            "type": "scatter"
           }
          ],
          "scatter3d": [
           {
            "line": {
             "colorbar": {
              "outlinewidth": 0,
              "ticks": ""
             }
            },
            "marker": {
             "colorbar": {
              "outlinewidth": 0,
              "ticks": ""
             }
            },
            "type": "scatter3d"
           }
          ],
          "scattercarpet": [
           {
            "marker": {
             "colorbar": {
              "outlinewidth": 0,
              "ticks": ""
             }
            },
            "type": "scattercarpet"
           }
          ],
          "scattergeo": [
           {
            "marker": {
             "colorbar": {
              "outlinewidth": 0,
              "ticks": ""
             }
            },
            "type": "scattergeo"
           }
          ],
          "scattergl": [
           {
            "marker": {
             "colorbar": {
              "outlinewidth": 0,
              "ticks": ""
             }
            },
            "type": "scattergl"
           }
          ],
          "scattermapbox": [
           {
            "marker": {
             "colorbar": {
              "outlinewidth": 0,
              "ticks": ""
             }
            },
            "type": "scattermapbox"
           }
          ],
          "scatterpolar": [
           {
            "marker": {
             "colorbar": {
              "outlinewidth": 0,
              "ticks": ""
             }
            },
            "type": "scatterpolar"
           }
          ],
          "scatterpolargl": [
           {
            "marker": {
             "colorbar": {
              "outlinewidth": 0,
              "ticks": ""
             }
            },
            "type": "scatterpolargl"
           }
          ],
          "scatterternary": [
           {
            "marker": {
             "colorbar": {
              "outlinewidth": 0,
              "ticks": ""
             }
            },
            "type": "scatterternary"
           }
          ],
          "surface": [
           {
            "colorbar": {
             "outlinewidth": 0,
             "ticks": ""
            },
            "colorscale": [
             [
              0,
              "#0d0887"
             ],
             [
              0.1111111111111111,
              "#46039f"
             ],
             [
              0.2222222222222222,
              "#7201a8"
             ],
             [
              0.3333333333333333,
              "#9c179e"
             ],
             [
              0.4444444444444444,
              "#bd3786"
             ],
             [
              0.5555555555555556,
              "#d8576b"
             ],
             [
              0.6666666666666666,
              "#ed7953"
             ],
             [
              0.7777777777777778,
              "#fb9f3a"
             ],
             [
              0.8888888888888888,
              "#fdca26"
             ],
             [
              1,
              "#f0f921"
             ]
            ],
            "type": "surface"
           }
          ],
          "table": [
           {
            "cells": {
             "fill": {
              "color": "#EBF0F8"
             },
             "line": {
              "color": "white"
             }
            },
            "header": {
             "fill": {
              "color": "#C8D4E3"
             },
             "line": {
              "color": "white"
             }
            },
            "type": "table"
           }
          ]
         },
         "layout": {
          "annotationdefaults": {
           "arrowcolor": "#2a3f5f",
           "arrowhead": 0,
           "arrowwidth": 1
          },
          "autotypenumbers": "strict",
          "coloraxis": {
           "colorbar": {
            "outlinewidth": 0,
            "ticks": ""
           }
          },
          "colorscale": {
           "diverging": [
            [
             0,
             "#8e0152"
            ],
            [
             0.1,
             "#c51b7d"
            ],
            [
             0.2,
             "#de77ae"
            ],
            [
             0.3,
             "#f1b6da"
            ],
            [
             0.4,
             "#fde0ef"
            ],
            [
             0.5,
             "#f7f7f7"
            ],
            [
             0.6,
             "#e6f5d0"
            ],
            [
             0.7,
             "#b8e186"
            ],
            [
             0.8,
             "#7fbc41"
            ],
            [
             0.9,
             "#4d9221"
            ],
            [
             1,
             "#276419"
            ]
           ],
           "sequential": [
            [
             0,
             "#0d0887"
            ],
            [
             0.1111111111111111,
             "#46039f"
            ],
            [
             0.2222222222222222,
             "#7201a8"
            ],
            [
             0.3333333333333333,
             "#9c179e"
            ],
            [
             0.4444444444444444,
             "#bd3786"
            ],
            [
             0.5555555555555556,
             "#d8576b"
            ],
            [
             0.6666666666666666,
             "#ed7953"
            ],
            [
             0.7777777777777778,
             "#fb9f3a"
            ],
            [
             0.8888888888888888,
             "#fdca26"
            ],
            [
             1,
             "#f0f921"
            ]
           ],
           "sequentialminus": [
            [
             0,
             "#0d0887"
            ],
            [
             0.1111111111111111,
             "#46039f"
            ],
            [
             0.2222222222222222,
             "#7201a8"
            ],
            [
             0.3333333333333333,
             "#9c179e"
            ],
            [
             0.4444444444444444,
             "#bd3786"
            ],
            [
             0.5555555555555556,
             "#d8576b"
            ],
            [
             0.6666666666666666,
             "#ed7953"
            ],
            [
             0.7777777777777778,
             "#fb9f3a"
            ],
            [
             0.8888888888888888,
             "#fdca26"
            ],
            [
             1,
             "#f0f921"
            ]
           ]
          },
          "colorway": [
           "#636efa",
           "#EF553B",
           "#00cc96",
           "#ab63fa",
           "#FFA15A",
           "#19d3f3",
           "#FF6692",
           "#B6E880",
           "#FF97FF",
           "#FECB52"
          ],
          "font": {
           "color": "#2a3f5f"
          },
          "geo": {
           "bgcolor": "white",
           "lakecolor": "white",
           "landcolor": "#E5ECF6",
           "showlakes": true,
           "showland": true,
           "subunitcolor": "white"
          },
          "hoverlabel": {
           "align": "left"
          },
          "hovermode": "closest",
          "mapbox": {
           "style": "light"
          },
          "paper_bgcolor": "white",
          "plot_bgcolor": "#E5ECF6",
          "polar": {
           "angularaxis": {
            "gridcolor": "white",
            "linecolor": "white",
            "ticks": ""
           },
           "bgcolor": "#E5ECF6",
           "radialaxis": {
            "gridcolor": "white",
            "linecolor": "white",
            "ticks": ""
           }
          },
          "scene": {
           "xaxis": {
            "backgroundcolor": "#E5ECF6",
            "gridcolor": "white",
            "gridwidth": 2,
            "linecolor": "white",
            "showbackground": true,
            "ticks": "",
            "zerolinecolor": "white"
           },
           "yaxis": {
            "backgroundcolor": "#E5ECF6",
            "gridcolor": "white",
            "gridwidth": 2,
            "linecolor": "white",
            "showbackground": true,
            "ticks": "",
            "zerolinecolor": "white"
           },
           "zaxis": {
            "backgroundcolor": "#E5ECF6",
            "gridcolor": "white",
            "gridwidth": 2,
            "linecolor": "white",
            "showbackground": true,
            "ticks": "",
            "zerolinecolor": "white"
           }
          },
          "shapedefaults": {
           "line": {
            "color": "#2a3f5f"
           }
          },
          "ternary": {
           "aaxis": {
            "gridcolor": "white",
            "linecolor": "white",
            "ticks": ""
           },
           "baxis": {
            "gridcolor": "white",
            "linecolor": "white",
            "ticks": ""
           },
           "bgcolor": "#E5ECF6",
           "caxis": {
            "gridcolor": "white",
            "linecolor": "white",
            "ticks": ""
           }
          },
          "title": {
           "x": 0.05
          },
          "xaxis": {
           "automargin": true,
           "gridcolor": "white",
           "linecolor": "white",
           "ticks": "",
           "title": {
            "standoff": 15
           },
           "zerolinecolor": "white",
           "zerolinewidth": 2
          },
          "yaxis": {
           "automargin": true,
           "gridcolor": "white",
           "linecolor": "white",
           "ticks": "",
           "title": {
            "standoff": 15
           },
           "zerolinecolor": "white",
           "zerolinewidth": 2
          }
         }
        },
        "title": {
         "text": "Glucose Levels by Outcome"
        },
        "xaxis": {
         "anchor": "y",
         "domain": [
          0,
          1
         ],
         "title": {
          "text": "Outcome"
         }
        },
        "yaxis": {
         "anchor": "x",
         "categoryarray": [
          "No Diabetes",
          "Diabetes"
         ],
         "categoryorder": "array",
         "domain": [
          0,
          1
         ],
         "title": {
          "text": "Outcome"
         }
        }
       }
      }
     },
     "metadata": {},
     "output_type": "display_data"
    }
   ],
   "source": [
    "fig = px.box(df_plot, y='Outcome', x='Glucose', \n",
    "             color='Outcome',\n",
    "             color_discrete_map=color_discrete_map,\n",
    "             title='Glucose Levels by Outcome',\n",
    "             labels={'Outcome': 'Outcome', 'Glucose': 'Glucose Level'})\n",
    "fig.update_layout(xaxis=dict(title='Outcome'))\n",
    "\n",
    "# Show the plot\n",
    "fig.show()"
   ]
  },
  {
   "cell_type": "markdown",
   "metadata": {},
   "source": [
    "#### BloodPressure"
   ]
  },
  {
   "cell_type": "code",
   "execution_count": 16,
   "metadata": {},
   "outputs": [
    {
     "data": {
      "application/vnd.plotly.v1+json": {
       "config": {
        "plotlyServerURL": "https://plot.ly"
       },
       "data": [
        {
         "alignmentgroup": "True",
         "hovertemplate": "Outcome=%{y}<br>Blood Pressure=%{x}<extra></extra>",
         "legendgroup": "Diabetes",
         "marker": {
          "color": "#EF553B"
         },
         "name": "Diabetes",
         "notched": false,
         "offsetgroup": "Diabetes",
         "orientation": "h",
         "showlegend": true,
         "type": "box",
         "x": [
          72,
          64,
          40,
          50,
          70,
          96,
          74,
          60,
          72,
          0,
          84,
          74,
          70,
          90,
          80,
          94,
          70,
          76,
          76,
          76,
          68,
          72,
          110,
          66,
          66,
          90,
          68,
          72,
          66,
          88,
          66,
          90,
          0,
          108,
          70,
          72,
          90,
          72,
          85,
          72,
          62,
          54,
          92,
          74,
          76,
          76,
          30,
          88,
          84,
          70,
          56,
          64,
          66,
          86,
          78,
          88,
          72,
          88,
          74,
          82,
          70,
          72,
          110,
          82,
          68,
          68,
          98,
          76,
          80,
          66,
          0,
          84,
          62,
          64,
          60,
          76,
          104,
          84,
          65,
          82,
          70,
          62,
          74,
          66,
          60,
          90,
          52,
          86,
          80,
          72,
          84,
          90,
          84,
          54,
          50,
          85,
          62,
          64,
          76,
          0,
          62,
          0,
          0,
          86,
          60,
          70,
          86,
          80,
          86,
          62,
          78,
          48,
          70,
          78,
          0,
          58,
          98,
          68,
          68,
          68,
          74,
          80,
          74,
          78,
          74,
          70,
          90,
          64,
          86,
          0,
          76,
          78,
          84,
          80,
          88,
          50,
          0,
          76,
          64,
          78,
          72,
          102,
          82,
          82,
          75,
          74,
          100,
          82,
          76,
          78,
          66,
          70,
          64,
          84,
          64,
          72,
          74,
          68,
          60,
          84,
          82,
          64,
          78,
          78,
          64,
          82,
          0,
          104,
          70,
          62,
          78,
          64,
          70,
          62,
          84,
          0,
          80,
          70,
          0,
          68,
          70,
          70,
          68,
          90,
          72,
          70,
          88,
          70,
          0,
          92,
          74,
          72,
          85,
          90,
          76,
          76,
          66,
          66,
          80,
          70,
          90,
          76,
          66,
          86,
          84,
          80,
          82,
          74,
          78,
          0,
          78,
          58,
          88,
          74,
          82,
          0,
          64,
          72,
          76,
          80,
          74,
          50,
          84,
          52,
          82,
          76,
          106,
          80,
          60,
          82,
          70,
          70,
          86,
          52,
          76,
          80,
          82,
          114,
          68,
          90,
          74,
          78,
          88,
          0,
          78,
          64,
          62,
          50,
          78,
          76,
          68,
          78,
          86,
          88,
          74,
          80,
          94,
          94,
          70,
          62,
          70,
          88,
          78,
          88,
          72,
          92,
          74,
          60
         ],
         "x0": " ",
         "xaxis": "x",
         "y": [
          "Diabetes",
          "Diabetes",
          "Diabetes",
          "Diabetes",
          "Diabetes",
          "Diabetes",
          "Diabetes",
          "Diabetes",
          "Diabetes",
          "Diabetes",
          "Diabetes",
          "Diabetes",
          "Diabetes",
          "Diabetes",
          "Diabetes",
          "Diabetes",
          "Diabetes",
          "Diabetes",
          "Diabetes",
          "Diabetes",
          "Diabetes",
          "Diabetes",
          "Diabetes",
          "Diabetes",
          "Diabetes",
          "Diabetes",
          "Diabetes",
          "Diabetes",
          "Diabetes",
          "Diabetes",
          "Diabetes",
          "Diabetes",
          "Diabetes",
          "Diabetes",
          "Diabetes",
          "Diabetes",
          "Diabetes",
          "Diabetes",
          "Diabetes",
          "Diabetes",
          "Diabetes",
          "Diabetes",
          "Diabetes",
          "Diabetes",
          "Diabetes",
          "Diabetes",
          "Diabetes",
          "Diabetes",
          "Diabetes",
          "Diabetes",
          "Diabetes",
          "Diabetes",
          "Diabetes",
          "Diabetes",
          "Diabetes",
          "Diabetes",
          "Diabetes",
          "Diabetes",
          "Diabetes",
          "Diabetes",
          "Diabetes",
          "Diabetes",
          "Diabetes",
          "Diabetes",
          "Diabetes",
          "Diabetes",
          "Diabetes",
          "Diabetes",
          "Diabetes",
          "Diabetes",
          "Diabetes",
          "Diabetes",
          "Diabetes",
          "Diabetes",
          "Diabetes",
          "Diabetes",
          "Diabetes",
          "Diabetes",
          "Diabetes",
          "Diabetes",
          "Diabetes",
          "Diabetes",
          "Diabetes",
          "Diabetes",
          "Diabetes",
          "Diabetes",
          "Diabetes",
          "Diabetes",
          "Diabetes",
          "Diabetes",
          "Diabetes",
          "Diabetes",
          "Diabetes",
          "Diabetes",
          "Diabetes",
          "Diabetes",
          "Diabetes",
          "Diabetes",
          "Diabetes",
          "Diabetes",
          "Diabetes",
          "Diabetes",
          "Diabetes",
          "Diabetes",
          "Diabetes",
          "Diabetes",
          "Diabetes",
          "Diabetes",
          "Diabetes",
          "Diabetes",
          "Diabetes",
          "Diabetes",
          "Diabetes",
          "Diabetes",
          "Diabetes",
          "Diabetes",
          "Diabetes",
          "Diabetes",
          "Diabetes",
          "Diabetes",
          "Diabetes",
          "Diabetes",
          "Diabetes",
          "Diabetes",
          "Diabetes",
          "Diabetes",
          "Diabetes",
          "Diabetes",
          "Diabetes",
          "Diabetes",
          "Diabetes",
          "Diabetes",
          "Diabetes",
          "Diabetes",
          "Diabetes",
          "Diabetes",
          "Diabetes",
          "Diabetes",
          "Diabetes",
          "Diabetes",
          "Diabetes",
          "Diabetes",
          "Diabetes",
          "Diabetes",
          "Diabetes",
          "Diabetes",
          "Diabetes",
          "Diabetes",
          "Diabetes",
          "Diabetes",
          "Diabetes",
          "Diabetes",
          "Diabetes",
          "Diabetes",
          "Diabetes",
          "Diabetes",
          "Diabetes",
          "Diabetes",
          "Diabetes",
          "Diabetes",
          "Diabetes",
          "Diabetes",
          "Diabetes",
          "Diabetes",
          "Diabetes",
          "Diabetes",
          "Diabetes",
          "Diabetes",
          "Diabetes",
          "Diabetes",
          "Diabetes",
          "Diabetes",
          "Diabetes",
          "Diabetes",
          "Diabetes",
          "Diabetes",
          "Diabetes",
          "Diabetes",
          "Diabetes",
          "Diabetes",
          "Diabetes",
          "Diabetes",
          "Diabetes",
          "Diabetes",
          "Diabetes",
          "Diabetes",
          "Diabetes",
          "Diabetes",
          "Diabetes",
          "Diabetes",
          "Diabetes",
          "Diabetes",
          "Diabetes",
          "Diabetes",
          "Diabetes",
          "Diabetes",
          "Diabetes",
          "Diabetes",
          "Diabetes",
          "Diabetes",
          "Diabetes",
          "Diabetes",
          "Diabetes",
          "Diabetes",
          "Diabetes",
          "Diabetes",
          "Diabetes",
          "Diabetes",
          "Diabetes",
          "Diabetes",
          "Diabetes",
          "Diabetes",
          "Diabetes",
          "Diabetes",
          "Diabetes",
          "Diabetes",
          "Diabetes",
          "Diabetes",
          "Diabetes",
          "Diabetes",
          "Diabetes",
          "Diabetes",
          "Diabetes",
          "Diabetes",
          "Diabetes",
          "Diabetes",
          "Diabetes",
          "Diabetes",
          "Diabetes",
          "Diabetes",
          "Diabetes",
          "Diabetes",
          "Diabetes",
          "Diabetes",
          "Diabetes",
          "Diabetes",
          "Diabetes",
          "Diabetes",
          "Diabetes",
          "Diabetes",
          "Diabetes",
          "Diabetes",
          "Diabetes",
          "Diabetes",
          "Diabetes",
          "Diabetes",
          "Diabetes",
          "Diabetes",
          "Diabetes",
          "Diabetes",
          "Diabetes",
          "Diabetes",
          "Diabetes",
          "Diabetes",
          "Diabetes",
          "Diabetes",
          "Diabetes",
          "Diabetes",
          "Diabetes",
          "Diabetes",
          "Diabetes",
          "Diabetes",
          "Diabetes",
          "Diabetes",
          "Diabetes",
          "Diabetes",
          "Diabetes",
          "Diabetes"
         ],
         "y0": " ",
         "yaxis": "y"
        },
        {
         "alignmentgroup": "True",
         "hovertemplate": "Outcome=%{y}<br>Blood Pressure=%{x}<extra></extra>",
         "legendgroup": "No Diabetes",
         "marker": {
          "color": "#636EFA"
         },
         "name": "No Diabetes",
         "notched": false,
         "offsetgroup": "No Diabetes",
         "orientation": "h",
         "showlegend": true,
         "type": "box",
         "x": [
          66,
          66,
          74,
          0,
          92,
          80,
          30,
          88,
          84,
          66,
          82,
          92,
          75,
          58,
          92,
          78,
          60,
          76,
          64,
          84,
          92,
          64,
          56,
          70,
          0,
          80,
          50,
          66,
          66,
          50,
          88,
          82,
          64,
          0,
          62,
          58,
          74,
          92,
          66,
          85,
          64,
          86,
          75,
          48,
          78,
          72,
          66,
          44,
          0,
          78,
          65,
          74,
          72,
          68,
          68,
          55,
          80,
          78,
          82,
          72,
          62,
          48,
          50,
          60,
          96,
          72,
          65,
          56,
          122,
          58,
          58,
          76,
          62,
          48,
          60,
          76,
          64,
          74,
          80,
          70,
          58,
          74,
          68,
          60,
          70,
          60,
          80,
          72,
          78,
          82,
          52,
          62,
          75,
          80,
          64,
          78,
          70,
          74,
          65,
          82,
          52,
          56,
          74,
          90,
          74,
          80,
          64,
          66,
          68,
          66,
          90,
          0,
          60,
          64,
          78,
          78,
          80,
          64,
          74,
          60,
          74,
          62,
          70,
          55,
          58,
          80,
          82,
          68,
          70,
          72,
          72,
          64,
          60,
          85,
          95,
          68,
          0,
          60,
          66,
          78,
          76,
          70,
          80,
          80,
          68,
          68,
          76,
          64,
          70,
          76,
          68,
          90,
          70,
          86,
          52,
          84,
          80,
          68,
          56,
          68,
          50,
          68,
          70,
          80,
          74,
          64,
          52,
          62,
          78,
          78,
          70,
          70,
          64,
          74,
          62,
          76,
          88,
          74,
          84,
          56,
          72,
          88,
          50,
          62,
          84,
          72,
          82,
          76,
          76,
          68,
          66,
          70,
          50,
          68,
          80,
          66,
          60,
          75,
          72,
          70,
          70,
          72,
          58,
          80,
          60,
          76,
          0,
          70,
          74,
          68,
          86,
          72,
          88,
          46,
          0,
          62,
          80,
          84,
          82,
          62,
          78,
          74,
          70,
          108,
          74,
          54,
          64,
          86,
          64,
          64,
          58,
          52,
          82,
          60,
          100,
          72,
          68,
          60,
          62,
          70,
          54,
          68,
          66,
          64,
          72,
          58,
          56,
          70,
          61,
          78,
          48,
          62,
          90,
          72,
          84,
          74,
          68,
          68,
          88,
          68,
          64,
          64,
          0,
          94,
          0,
          74,
          74,
          75,
          68,
          85,
          75,
          70,
          88,
          66,
          64,
          72,
          80,
          74,
          64,
          68,
          0,
          54,
          54,
          68,
          74,
          72,
          62,
          70,
          78,
          98,
          56,
          52,
          64,
          78,
          82,
          70,
          66,
          90,
          64,
          84,
          76,
          74,
          86,
          88,
          58,
          82,
          62,
          78,
          72,
          80,
          65,
          90,
          68,
          0,
          74,
          68,
          72,
          74,
          90,
          72,
          64,
          78,
          82,
          60,
          50,
          78,
          62,
          68,
          62,
          54,
          86,
          60,
          90,
          70,
          80,
          0,
          58,
          60,
          64,
          74,
          66,
          65,
          60,
          76,
          66,
          0,
          56,
          90,
          60,
          80,
          90,
          78,
          68,
          82,
          110,
          70,
          68,
          88,
          62,
          64,
          70,
          70,
          76,
          68,
          74,
          68,
          60,
          80,
          54,
          72,
          62,
          72,
          70,
          96,
          58,
          60,
          86,
          44,
          44,
          68,
          60,
          78,
          76,
          56,
          66,
          0,
          78,
          52,
          72,
          76,
          24,
          38,
          88,
          0,
          74,
          60,
          62,
          82,
          62,
          54,
          80,
          72,
          96,
          62,
          86,
          76,
          94,
          70,
          64,
          88,
          68,
          78,
          80,
          65,
          78,
          60,
          82,
          62,
          74,
          76,
          74,
          86,
          70,
          0,
          72,
          74,
          60,
          54,
          60,
          74,
          54,
          70,
          58,
          80,
          106,
          84,
          80,
          58,
          78,
          68,
          58,
          106,
          100,
          82,
          60,
          58,
          56,
          64,
          82,
          74,
          64,
          50,
          74,
          80,
          70,
          60,
          0,
          88,
          70,
          76,
          0,
          76,
          80,
          46,
          64,
          78,
          58,
          74,
          72,
          60,
          86,
          66,
          86,
          94,
          78,
          78,
          84,
          88,
          52,
          56,
          75,
          60,
          86,
          72,
          60,
          44,
          58,
          88,
          84,
          74,
          78,
          62,
          90,
          76,
          58,
          62,
          76,
          70,
          72,
          70
         ],
         "x0": " ",
         "xaxis": "x",
         "y": [
          "No Diabetes",
          "No Diabetes",
          "No Diabetes",
          "No Diabetes",
          "No Diabetes",
          "No Diabetes",
          "No Diabetes",
          "No Diabetes",
          "No Diabetes",
          "No Diabetes",
          "No Diabetes",
          "No Diabetes",
          "No Diabetes",
          "No Diabetes",
          "No Diabetes",
          "No Diabetes",
          "No Diabetes",
          "No Diabetes",
          "No Diabetes",
          "No Diabetes",
          "No Diabetes",
          "No Diabetes",
          "No Diabetes",
          "No Diabetes",
          "No Diabetes",
          "No Diabetes",
          "No Diabetes",
          "No Diabetes",
          "No Diabetes",
          "No Diabetes",
          "No Diabetes",
          "No Diabetes",
          "No Diabetes",
          "No Diabetes",
          "No Diabetes",
          "No Diabetes",
          "No Diabetes",
          "No Diabetes",
          "No Diabetes",
          "No Diabetes",
          "No Diabetes",
          "No Diabetes",
          "No Diabetes",
          "No Diabetes",
          "No Diabetes",
          "No Diabetes",
          "No Diabetes",
          "No Diabetes",
          "No Diabetes",
          "No Diabetes",
          "No Diabetes",
          "No Diabetes",
          "No Diabetes",
          "No Diabetes",
          "No Diabetes",
          "No Diabetes",
          "No Diabetes",
          "No Diabetes",
          "No Diabetes",
          "No Diabetes",
          "No Diabetes",
          "No Diabetes",
          "No Diabetes",
          "No Diabetes",
          "No Diabetes",
          "No Diabetes",
          "No Diabetes",
          "No Diabetes",
          "No Diabetes",
          "No Diabetes",
          "No Diabetes",
          "No Diabetes",
          "No Diabetes",
          "No Diabetes",
          "No Diabetes",
          "No Diabetes",
          "No Diabetes",
          "No Diabetes",
          "No Diabetes",
          "No Diabetes",
          "No Diabetes",
          "No Diabetes",
          "No Diabetes",
          "No Diabetes",
          "No Diabetes",
          "No Diabetes",
          "No Diabetes",
          "No Diabetes",
          "No Diabetes",
          "No Diabetes",
          "No Diabetes",
          "No Diabetes",
          "No Diabetes",
          "No Diabetes",
          "No Diabetes",
          "No Diabetes",
          "No Diabetes",
          "No Diabetes",
          "No Diabetes",
          "No Diabetes",
          "No Diabetes",
          "No Diabetes",
          "No Diabetes",
          "No Diabetes",
          "No Diabetes",
          "No Diabetes",
          "No Diabetes",
          "No Diabetes",
          "No Diabetes",
          "No Diabetes",
          "No Diabetes",
          "No Diabetes",
          "No Diabetes",
          "No Diabetes",
          "No Diabetes",
          "No Diabetes",
          "No Diabetes",
          "No Diabetes",
          "No Diabetes",
          "No Diabetes",
          "No Diabetes",
          "No Diabetes",
          "No Diabetes",
          "No Diabetes",
          "No Diabetes",
          "No Diabetes",
          "No Diabetes",
          "No Diabetes",
          "No Diabetes",
          "No Diabetes",
          "No Diabetes",
          "No Diabetes",
          "No Diabetes",
          "No Diabetes",
          "No Diabetes",
          "No Diabetes",
          "No Diabetes",
          "No Diabetes",
          "No Diabetes",
          "No Diabetes",
          "No Diabetes",
          "No Diabetes",
          "No Diabetes",
          "No Diabetes",
          "No Diabetes",
          "No Diabetes",
          "No Diabetes",
          "No Diabetes",
          "No Diabetes",
          "No Diabetes",
          "No Diabetes",
          "No Diabetes",
          "No Diabetes",
          "No Diabetes",
          "No Diabetes",
          "No Diabetes",
          "No Diabetes",
          "No Diabetes",
          "No Diabetes",
          "No Diabetes",
          "No Diabetes",
          "No Diabetes",
          "No Diabetes",
          "No Diabetes",
          "No Diabetes",
          "No Diabetes",
          "No Diabetes",
          "No Diabetes",
          "No Diabetes",
          "No Diabetes",
          "No Diabetes",
          "No Diabetes",
          "No Diabetes",
          "No Diabetes",
          "No Diabetes",
          "No Diabetes",
          "No Diabetes",
          "No Diabetes",
          "No Diabetes",
          "No Diabetes",
          "No Diabetes",
          "No Diabetes",
          "No Diabetes",
          "No Diabetes",
          "No Diabetes",
          "No Diabetes",
          "No Diabetes",
          "No Diabetes",
          "No Diabetes",
          "No Diabetes",
          "No Diabetes",
          "No Diabetes",
          "No Diabetes",
          "No Diabetes",
          "No Diabetes",
          "No Diabetes",
          "No Diabetes",
          "No Diabetes",
          "No Diabetes",
          "No Diabetes",
          "No Diabetes",
          "No Diabetes",
          "No Diabetes",
          "No Diabetes",
          "No Diabetes",
          "No Diabetes",
          "No Diabetes",
          "No Diabetes",
          "No Diabetes",
          "No Diabetes",
          "No Diabetes",
          "No Diabetes",
          "No Diabetes",
          "No Diabetes",
          "No Diabetes",
          "No Diabetes",
          "No Diabetes",
          "No Diabetes",
          "No Diabetes",
          "No Diabetes",
          "No Diabetes",
          "No Diabetes",
          "No Diabetes",
          "No Diabetes",
          "No Diabetes",
          "No Diabetes",
          "No Diabetes",
          "No Diabetes",
          "No Diabetes",
          "No Diabetes",
          "No Diabetes",
          "No Diabetes",
          "No Diabetes",
          "No Diabetes",
          "No Diabetes",
          "No Diabetes",
          "No Diabetes",
          "No Diabetes",
          "No Diabetes",
          "No Diabetes",
          "No Diabetes",
          "No Diabetes",
          "No Diabetes",
          "No Diabetes",
          "No Diabetes",
          "No Diabetes",
          "No Diabetes",
          "No Diabetes",
          "No Diabetes",
          "No Diabetes",
          "No Diabetes",
          "No Diabetes",
          "No Diabetes",
          "No Diabetes",
          "No Diabetes",
          "No Diabetes",
          "No Diabetes",
          "No Diabetes",
          "No Diabetes",
          "No Diabetes",
          "No Diabetes",
          "No Diabetes",
          "No Diabetes",
          "No Diabetes",
          "No Diabetes",
          "No Diabetes",
          "No Diabetes",
          "No Diabetes",
          "No Diabetes",
          "No Diabetes",
          "No Diabetes",
          "No Diabetes",
          "No Diabetes",
          "No Diabetes",
          "No Diabetes",
          "No Diabetes",
          "No Diabetes",
          "No Diabetes",
          "No Diabetes",
          "No Diabetes",
          "No Diabetes",
          "No Diabetes",
          "No Diabetes",
          "No Diabetes",
          "No Diabetes",
          "No Diabetes",
          "No Diabetes",
          "No Diabetes",
          "No Diabetes",
          "No Diabetes",
          "No Diabetes",
          "No Diabetes",
          "No Diabetes",
          "No Diabetes",
          "No Diabetes",
          "No Diabetes",
          "No Diabetes",
          "No Diabetes",
          "No Diabetes",
          "No Diabetes",
          "No Diabetes",
          "No Diabetes",
          "No Diabetes",
          "No Diabetes",
          "No Diabetes",
          "No Diabetes",
          "No Diabetes",
          "No Diabetes",
          "No Diabetes",
          "No Diabetes",
          "No Diabetes",
          "No Diabetes",
          "No Diabetes",
          "No Diabetes",
          "No Diabetes",
          "No Diabetes",
          "No Diabetes",
          "No Diabetes",
          "No Diabetes",
          "No Diabetes",
          "No Diabetes",
          "No Diabetes",
          "No Diabetes",
          "No Diabetes",
          "No Diabetes",
          "No Diabetes",
          "No Diabetes",
          "No Diabetes",
          "No Diabetes",
          "No Diabetes",
          "No Diabetes",
          "No Diabetes",
          "No Diabetes",
          "No Diabetes",
          "No Diabetes",
          "No Diabetes",
          "No Diabetes",
          "No Diabetes",
          "No Diabetes",
          "No Diabetes",
          "No Diabetes",
          "No Diabetes",
          "No Diabetes",
          "No Diabetes",
          "No Diabetes",
          "No Diabetes",
          "No Diabetes",
          "No Diabetes",
          "No Diabetes",
          "No Diabetes",
          "No Diabetes",
          "No Diabetes",
          "No Diabetes",
          "No Diabetes",
          "No Diabetes",
          "No Diabetes",
          "No Diabetes",
          "No Diabetes",
          "No Diabetes",
          "No Diabetes",
          "No Diabetes",
          "No Diabetes",
          "No Diabetes",
          "No Diabetes",
          "No Diabetes",
          "No Diabetes",
          "No Diabetes",
          "No Diabetes",
          "No Diabetes",
          "No Diabetes",
          "No Diabetes",
          "No Diabetes",
          "No Diabetes",
          "No Diabetes",
          "No Diabetes",
          "No Diabetes",
          "No Diabetes",
          "No Diabetes",
          "No Diabetes",
          "No Diabetes",
          "No Diabetes",
          "No Diabetes",
          "No Diabetes",
          "No Diabetes",
          "No Diabetes",
          "No Diabetes",
          "No Diabetes",
          "No Diabetes",
          "No Diabetes",
          "No Diabetes",
          "No Diabetes",
          "No Diabetes",
          "No Diabetes",
          "No Diabetes",
          "No Diabetes",
          "No Diabetes",
          "No Diabetes",
          "No Diabetes",
          "No Diabetes",
          "No Diabetes",
          "No Diabetes",
          "No Diabetes",
          "No Diabetes",
          "No Diabetes",
          "No Diabetes",
          "No Diabetes",
          "No Diabetes",
          "No Diabetes",
          "No Diabetes",
          "No Diabetes",
          "No Diabetes",
          "No Diabetes",
          "No Diabetes",
          "No Diabetes",
          "No Diabetes",
          "No Diabetes",
          "No Diabetes",
          "No Diabetes",
          "No Diabetes",
          "No Diabetes",
          "No Diabetes",
          "No Diabetes",
          "No Diabetes",
          "No Diabetes",
          "No Diabetes",
          "No Diabetes",
          "No Diabetes",
          "No Diabetes",
          "No Diabetes",
          "No Diabetes",
          "No Diabetes",
          "No Diabetes",
          "No Diabetes",
          "No Diabetes",
          "No Diabetes",
          "No Diabetes",
          "No Diabetes",
          "No Diabetes",
          "No Diabetes",
          "No Diabetes",
          "No Diabetes",
          "No Diabetes",
          "No Diabetes",
          "No Diabetes",
          "No Diabetes",
          "No Diabetes",
          "No Diabetes",
          "No Diabetes",
          "No Diabetes",
          "No Diabetes",
          "No Diabetes",
          "No Diabetes",
          "No Diabetes",
          "No Diabetes",
          "No Diabetes",
          "No Diabetes",
          "No Diabetes",
          "No Diabetes",
          "No Diabetes",
          "No Diabetes",
          "No Diabetes",
          "No Diabetes",
          "No Diabetes",
          "No Diabetes",
          "No Diabetes",
          "No Diabetes",
          "No Diabetes",
          "No Diabetes",
          "No Diabetes",
          "No Diabetes",
          "No Diabetes",
          "No Diabetes",
          "No Diabetes",
          "No Diabetes",
          "No Diabetes",
          "No Diabetes",
          "No Diabetes",
          "No Diabetes",
          "No Diabetes",
          "No Diabetes",
          "No Diabetes",
          "No Diabetes",
          "No Diabetes",
          "No Diabetes",
          "No Diabetes",
          "No Diabetes",
          "No Diabetes",
          "No Diabetes",
          "No Diabetes",
          "No Diabetes",
          "No Diabetes",
          "No Diabetes",
          "No Diabetes",
          "No Diabetes",
          "No Diabetes",
          "No Diabetes",
          "No Diabetes",
          "No Diabetes",
          "No Diabetes",
          "No Diabetes"
         ],
         "y0": " ",
         "yaxis": "y"
        }
       ],
       "layout": {
        "boxmode": "overlay",
        "legend": {
         "title": {
          "text": "Outcome"
         },
         "tracegroupgap": 0
        },
        "template": {
         "data": {
          "bar": [
           {
            "error_x": {
             "color": "#2a3f5f"
            },
            "error_y": {
             "color": "#2a3f5f"
            },
            "marker": {
             "line": {
              "color": "#E5ECF6",
              "width": 0.5
             },
             "pattern": {
              "fillmode": "overlay",
              "size": 10,
              "solidity": 0.2
             }
            },
            "type": "bar"
           }
          ],
          "barpolar": [
           {
            "marker": {
             "line": {
              "color": "#E5ECF6",
              "width": 0.5
             },
             "pattern": {
              "fillmode": "overlay",
              "size": 10,
              "solidity": 0.2
             }
            },
            "type": "barpolar"
           }
          ],
          "carpet": [
           {
            "aaxis": {
             "endlinecolor": "#2a3f5f",
             "gridcolor": "white",
             "linecolor": "white",
             "minorgridcolor": "white",
             "startlinecolor": "#2a3f5f"
            },
            "baxis": {
             "endlinecolor": "#2a3f5f",
             "gridcolor": "white",
             "linecolor": "white",
             "minorgridcolor": "white",
             "startlinecolor": "#2a3f5f"
            },
            "type": "carpet"
           }
          ],
          "choropleth": [
           {
            "colorbar": {
             "outlinewidth": 0,
             "ticks": ""
            },
            "type": "choropleth"
           }
          ],
          "contour": [
           {
            "colorbar": {
             "outlinewidth": 0,
             "ticks": ""
            },
            "colorscale": [
             [
              0,
              "#0d0887"
             ],
             [
              0.1111111111111111,
              "#46039f"
             ],
             [
              0.2222222222222222,
              "#7201a8"
             ],
             [
              0.3333333333333333,
              "#9c179e"
             ],
             [
              0.4444444444444444,
              "#bd3786"
             ],
             [
              0.5555555555555556,
              "#d8576b"
             ],
             [
              0.6666666666666666,
              "#ed7953"
             ],
             [
              0.7777777777777778,
              "#fb9f3a"
             ],
             [
              0.8888888888888888,
              "#fdca26"
             ],
             [
              1,
              "#f0f921"
             ]
            ],
            "type": "contour"
           }
          ],
          "contourcarpet": [
           {
            "colorbar": {
             "outlinewidth": 0,
             "ticks": ""
            },
            "type": "contourcarpet"
           }
          ],
          "heatmap": [
           {
            "colorbar": {
             "outlinewidth": 0,
             "ticks": ""
            },
            "colorscale": [
             [
              0,
              "#0d0887"
             ],
             [
              0.1111111111111111,
              "#46039f"
             ],
             [
              0.2222222222222222,
              "#7201a8"
             ],
             [
              0.3333333333333333,
              "#9c179e"
             ],
             [
              0.4444444444444444,
              "#bd3786"
             ],
             [
              0.5555555555555556,
              "#d8576b"
             ],
             [
              0.6666666666666666,
              "#ed7953"
             ],
             [
              0.7777777777777778,
              "#fb9f3a"
             ],
             [
              0.8888888888888888,
              "#fdca26"
             ],
             [
              1,
              "#f0f921"
             ]
            ],
            "type": "heatmap"
           }
          ],
          "heatmapgl": [
           {
            "colorbar": {
             "outlinewidth": 0,
             "ticks": ""
            },
            "colorscale": [
             [
              0,
              "#0d0887"
             ],
             [
              0.1111111111111111,
              "#46039f"
             ],
             [
              0.2222222222222222,
              "#7201a8"
             ],
             [
              0.3333333333333333,
              "#9c179e"
             ],
             [
              0.4444444444444444,
              "#bd3786"
             ],
             [
              0.5555555555555556,
              "#d8576b"
             ],
             [
              0.6666666666666666,
              "#ed7953"
             ],
             [
              0.7777777777777778,
              "#fb9f3a"
             ],
             [
              0.8888888888888888,
              "#fdca26"
             ],
             [
              1,
              "#f0f921"
             ]
            ],
            "type": "heatmapgl"
           }
          ],
          "histogram": [
           {
            "marker": {
             "pattern": {
              "fillmode": "overlay",
              "size": 10,
              "solidity": 0.2
             }
            },
            "type": "histogram"
           }
          ],
          "histogram2d": [
           {
            "colorbar": {
             "outlinewidth": 0,
             "ticks": ""
            },
            "colorscale": [
             [
              0,
              "#0d0887"
             ],
             [
              0.1111111111111111,
              "#46039f"
             ],
             [
              0.2222222222222222,
              "#7201a8"
             ],
             [
              0.3333333333333333,
              "#9c179e"
             ],
             [
              0.4444444444444444,
              "#bd3786"
             ],
             [
              0.5555555555555556,
              "#d8576b"
             ],
             [
              0.6666666666666666,
              "#ed7953"
             ],
             [
              0.7777777777777778,
              "#fb9f3a"
             ],
             [
              0.8888888888888888,
              "#fdca26"
             ],
             [
              1,
              "#f0f921"
             ]
            ],
            "type": "histogram2d"
           }
          ],
          "histogram2dcontour": [
           {
            "colorbar": {
             "outlinewidth": 0,
             "ticks": ""
            },
            "colorscale": [
             [
              0,
              "#0d0887"
             ],
             [
              0.1111111111111111,
              "#46039f"
             ],
             [
              0.2222222222222222,
              "#7201a8"
             ],
             [
              0.3333333333333333,
              "#9c179e"
             ],
             [
              0.4444444444444444,
              "#bd3786"
             ],
             [
              0.5555555555555556,
              "#d8576b"
             ],
             [
              0.6666666666666666,
              "#ed7953"
             ],
             [
              0.7777777777777778,
              "#fb9f3a"
             ],
             [
              0.8888888888888888,
              "#fdca26"
             ],
             [
              1,
              "#f0f921"
             ]
            ],
            "type": "histogram2dcontour"
           }
          ],
          "mesh3d": [
           {
            "colorbar": {
             "outlinewidth": 0,
             "ticks": ""
            },
            "type": "mesh3d"
           }
          ],
          "parcoords": [
           {
            "line": {
             "colorbar": {
              "outlinewidth": 0,
              "ticks": ""
             }
            },
            "type": "parcoords"
           }
          ],
          "pie": [
           {
            "automargin": true,
            "type": "pie"
           }
          ],
          "scatter": [
           {
            "fillpattern": {
             "fillmode": "overlay",
             "size": 10,
             "solidity": 0.2
            },
            "type": "scatter"
           }
          ],
          "scatter3d": [
           {
            "line": {
             "colorbar": {
              "outlinewidth": 0,
              "ticks": ""
             }
            },
            "marker": {
             "colorbar": {
              "outlinewidth": 0,
              "ticks": ""
             }
            },
            "type": "scatter3d"
           }
          ],
          "scattercarpet": [
           {
            "marker": {
             "colorbar": {
              "outlinewidth": 0,
              "ticks": ""
             }
            },
            "type": "scattercarpet"
           }
          ],
          "scattergeo": [
           {
            "marker": {
             "colorbar": {
              "outlinewidth": 0,
              "ticks": ""
             }
            },
            "type": "scattergeo"
           }
          ],
          "scattergl": [
           {
            "marker": {
             "colorbar": {
              "outlinewidth": 0,
              "ticks": ""
             }
            },
            "type": "scattergl"
           }
          ],
          "scattermapbox": [
           {
            "marker": {
             "colorbar": {
              "outlinewidth": 0,
              "ticks": ""
             }
            },
            "type": "scattermapbox"
           }
          ],
          "scatterpolar": [
           {
            "marker": {
             "colorbar": {
              "outlinewidth": 0,
              "ticks": ""
             }
            },
            "type": "scatterpolar"
           }
          ],
          "scatterpolargl": [
           {
            "marker": {
             "colorbar": {
              "outlinewidth": 0,
              "ticks": ""
             }
            },
            "type": "scatterpolargl"
           }
          ],
          "scatterternary": [
           {
            "marker": {
             "colorbar": {
              "outlinewidth": 0,
              "ticks": ""
             }
            },
            "type": "scatterternary"
           }
          ],
          "surface": [
           {
            "colorbar": {
             "outlinewidth": 0,
             "ticks": ""
            },
            "colorscale": [
             [
              0,
              "#0d0887"
             ],
             [
              0.1111111111111111,
              "#46039f"
             ],
             [
              0.2222222222222222,
              "#7201a8"
             ],
             [
              0.3333333333333333,
              "#9c179e"
             ],
             [
              0.4444444444444444,
              "#bd3786"
             ],
             [
              0.5555555555555556,
              "#d8576b"
             ],
             [
              0.6666666666666666,
              "#ed7953"
             ],
             [
              0.7777777777777778,
              "#fb9f3a"
             ],
             [
              0.8888888888888888,
              "#fdca26"
             ],
             [
              1,
              "#f0f921"
             ]
            ],
            "type": "surface"
           }
          ],
          "table": [
           {
            "cells": {
             "fill": {
              "color": "#EBF0F8"
             },
             "line": {
              "color": "white"
             }
            },
            "header": {
             "fill": {
              "color": "#C8D4E3"
             },
             "line": {
              "color": "white"
             }
            },
            "type": "table"
           }
          ]
         },
         "layout": {
          "annotationdefaults": {
           "arrowcolor": "#2a3f5f",
           "arrowhead": 0,
           "arrowwidth": 1
          },
          "autotypenumbers": "strict",
          "coloraxis": {
           "colorbar": {
            "outlinewidth": 0,
            "ticks": ""
           }
          },
          "colorscale": {
           "diverging": [
            [
             0,
             "#8e0152"
            ],
            [
             0.1,
             "#c51b7d"
            ],
            [
             0.2,
             "#de77ae"
            ],
            [
             0.3,
             "#f1b6da"
            ],
            [
             0.4,
             "#fde0ef"
            ],
            [
             0.5,
             "#f7f7f7"
            ],
            [
             0.6,
             "#e6f5d0"
            ],
            [
             0.7,
             "#b8e186"
            ],
            [
             0.8,
             "#7fbc41"
            ],
            [
             0.9,
             "#4d9221"
            ],
            [
             1,
             "#276419"
            ]
           ],
           "sequential": [
            [
             0,
             "#0d0887"
            ],
            [
             0.1111111111111111,
             "#46039f"
            ],
            [
             0.2222222222222222,
             "#7201a8"
            ],
            [
             0.3333333333333333,
             "#9c179e"
            ],
            [
             0.4444444444444444,
             "#bd3786"
            ],
            [
             0.5555555555555556,
             "#d8576b"
            ],
            [
             0.6666666666666666,
             "#ed7953"
            ],
            [
             0.7777777777777778,
             "#fb9f3a"
            ],
            [
             0.8888888888888888,
             "#fdca26"
            ],
            [
             1,
             "#f0f921"
            ]
           ],
           "sequentialminus": [
            [
             0,
             "#0d0887"
            ],
            [
             0.1111111111111111,
             "#46039f"
            ],
            [
             0.2222222222222222,
             "#7201a8"
            ],
            [
             0.3333333333333333,
             "#9c179e"
            ],
            [
             0.4444444444444444,
             "#bd3786"
            ],
            [
             0.5555555555555556,
             "#d8576b"
            ],
            [
             0.6666666666666666,
             "#ed7953"
            ],
            [
             0.7777777777777778,
             "#fb9f3a"
            ],
            [
             0.8888888888888888,
             "#fdca26"
            ],
            [
             1,
             "#f0f921"
            ]
           ]
          },
          "colorway": [
           "#636efa",
           "#EF553B",
           "#00cc96",
           "#ab63fa",
           "#FFA15A",
           "#19d3f3",
           "#FF6692",
           "#B6E880",
           "#FF97FF",
           "#FECB52"
          ],
          "font": {
           "color": "#2a3f5f"
          },
          "geo": {
           "bgcolor": "white",
           "lakecolor": "white",
           "landcolor": "#E5ECF6",
           "showlakes": true,
           "showland": true,
           "subunitcolor": "white"
          },
          "hoverlabel": {
           "align": "left"
          },
          "hovermode": "closest",
          "mapbox": {
           "style": "light"
          },
          "paper_bgcolor": "white",
          "plot_bgcolor": "#E5ECF6",
          "polar": {
           "angularaxis": {
            "gridcolor": "white",
            "linecolor": "white",
            "ticks": ""
           },
           "bgcolor": "#E5ECF6",
           "radialaxis": {
            "gridcolor": "white",
            "linecolor": "white",
            "ticks": ""
           }
          },
          "scene": {
           "xaxis": {
            "backgroundcolor": "#E5ECF6",
            "gridcolor": "white",
            "gridwidth": 2,
            "linecolor": "white",
            "showbackground": true,
            "ticks": "",
            "zerolinecolor": "white"
           },
           "yaxis": {
            "backgroundcolor": "#E5ECF6",
            "gridcolor": "white",
            "gridwidth": 2,
            "linecolor": "white",
            "showbackground": true,
            "ticks": "",
            "zerolinecolor": "white"
           },
           "zaxis": {
            "backgroundcolor": "#E5ECF6",
            "gridcolor": "white",
            "gridwidth": 2,
            "linecolor": "white",
            "showbackground": true,
            "ticks": "",
            "zerolinecolor": "white"
           }
          },
          "shapedefaults": {
           "line": {
            "color": "#2a3f5f"
           }
          },
          "ternary": {
           "aaxis": {
            "gridcolor": "white",
            "linecolor": "white",
            "ticks": ""
           },
           "baxis": {
            "gridcolor": "white",
            "linecolor": "white",
            "ticks": ""
           },
           "bgcolor": "#E5ECF6",
           "caxis": {
            "gridcolor": "white",
            "linecolor": "white",
            "ticks": ""
           }
          },
          "title": {
           "x": 0.05
          },
          "xaxis": {
           "automargin": true,
           "gridcolor": "white",
           "linecolor": "white",
           "ticks": "",
           "title": {
            "standoff": 15
           },
           "zerolinecolor": "white",
           "zerolinewidth": 2
          },
          "yaxis": {
           "automargin": true,
           "gridcolor": "white",
           "linecolor": "white",
           "ticks": "",
           "title": {
            "standoff": 15
           },
           "zerolinecolor": "white",
           "zerolinewidth": 2
          }
         }
        },
        "title": {
         "text": "Blood Pressure by Outcome"
        },
        "xaxis": {
         "anchor": "y",
         "domain": [
          0,
          1
         ],
         "title": {
          "text": "Outcome"
         }
        },
        "yaxis": {
         "anchor": "x",
         "categoryarray": [
          "No Diabetes",
          "Diabetes"
         ],
         "categoryorder": "array",
         "domain": [
          0,
          1
         ],
         "title": {
          "text": "Outcome"
         }
        }
       }
      }
     },
     "metadata": {},
     "output_type": "display_data"
    }
   ],
   "source": [
    "fig = px.box(df_plot, y='Outcome', x='BloodPressure', \n",
    "             color='Outcome',\n",
    "             color_discrete_map=color_discrete_map,\n",
    "             title='Blood Pressure by Outcome',\n",
    "             labels={'Outcome': 'Outcome', 'BloodPressure': 'Blood Pressure'})\n",
    "fig.update_layout(xaxis=dict(title='Outcome'))\n",
    "\n",
    "# Show the plot\n",
    "fig.show()"
   ]
  },
  {
   "cell_type": "markdown",
   "metadata": {},
   "source": [
    "#### SkinThickness"
   ]
  },
  {
   "cell_type": "code",
   "execution_count": 17,
   "metadata": {},
   "outputs": [
    {
     "data": {
      "application/vnd.plotly.v1+json": {
       "config": {
        "plotlyServerURL": "https://plot.ly"
       },
       "data": [
        {
         "alignmentgroup": "True",
         "hovertemplate": "Outcome=%{y}<br>Skin Thickness=%{x}<extra></extra>",
         "legendgroup": "Diabetes",
         "marker": {
          "color": "#EF553B"
         },
         "name": "Diabetes",
         "notched": false,
         "offsetgroup": "Diabetes",
         "orientation": "h",
         "showlegend": true,
         "type": "box",
         "x": [
          35,
          0,
          35,
          32,
          45,
          0,
          0,
          23,
          19,
          0,
          47,
          0,
          30,
          0,
          35,
          33,
          26,
          0,
          36,
          37,
          42,
          47,
          24,
          39,
          32,
          34,
          39,
          0,
          0,
          30,
          20,
          0,
          0,
          0,
          32,
          0,
          51,
          0,
          25,
          33,
          26,
          32,
          0,
          0,
          56,
          0,
          42,
          24,
          0,
          14,
          0,
          37,
          0,
          28,
          0,
          44,
          41,
          0,
          18,
          0,
          23,
          42,
          46,
          0,
          28,
          36,
          41,
          39,
          35,
          0,
          0,
          41,
          13,
          44,
          27,
          29,
          0,
          33,
          26,
          32,
          40,
          41,
          22,
          0,
          29,
          0,
          38,
          0,
          37,
          0,
          21,
          27,
          21,
          0,
          22,
          15,
          7,
          35,
          28,
          0,
          0,
          0,
          0,
          37,
          24,
          0,
          0,
          0,
          39,
          30,
          37,
          45,
          38,
          25,
          0,
          33,
          0,
          23,
          19,
          28,
          17,
          31,
          0,
          0,
          30,
          20,
          33,
          32,
          36,
          0,
          0,
          34,
          0,
          32,
          0,
          40,
          30,
          36,
          33,
          0,
          0,
          28,
          48,
          43,
          0,
          29,
          36,
          26,
          0,
          0,
          40,
          31,
          0,
          41,
          0,
          0,
          0,
          49,
          35,
          33,
          32,
          29,
          32,
          39,
          30,
          25,
          0,
          25,
          0,
          12,
          63,
          37,
          0,
          30,
          48,
          0,
          45,
          30,
          0,
          42,
          18,
          33,
          41,
          26,
          31,
          18,
          34,
          0,
          0,
          49,
          40,
          25,
          32,
          35,
          27,
          0,
          32,
          30,
          0,
          99,
          46,
          24,
          0,
          27,
          40,
          0,
          14,
          0,
          29,
          0,
          42,
          22,
          42,
          26,
          24,
          0,
          0,
          0,
          32,
          0,
          17,
          36,
          35,
          27,
          31,
          43,
          46,
          46,
          39,
          18,
          27,
          0,
          0,
          0,
          36,
          0,
          46,
          0,
          49,
          24,
          19,
          31,
          29,
          0,
          0,
          32,
          36,
          33,
          39,
          27,
          29,
          23,
          0,
          37,
          0,
          37,
          0,
          41,
          22,
          0,
          0,
          44,
          32,
          39,
          0,
          0,
          31,
          0
         ],
         "x0": " ",
         "xaxis": "x",
         "y": [
          "Diabetes",
          "Diabetes",
          "Diabetes",
          "Diabetes",
          "Diabetes",
          "Diabetes",
          "Diabetes",
          "Diabetes",
          "Diabetes",
          "Diabetes",
          "Diabetes",
          "Diabetes",
          "Diabetes",
          "Diabetes",
          "Diabetes",
          "Diabetes",
          "Diabetes",
          "Diabetes",
          "Diabetes",
          "Diabetes",
          "Diabetes",
          "Diabetes",
          "Diabetes",
          "Diabetes",
          "Diabetes",
          "Diabetes",
          "Diabetes",
          "Diabetes",
          "Diabetes",
          "Diabetes",
          "Diabetes",
          "Diabetes",
          "Diabetes",
          "Diabetes",
          "Diabetes",
          "Diabetes",
          "Diabetes",
          "Diabetes",
          "Diabetes",
          "Diabetes",
          "Diabetes",
          "Diabetes",
          "Diabetes",
          "Diabetes",
          "Diabetes",
          "Diabetes",
          "Diabetes",
          "Diabetes",
          "Diabetes",
          "Diabetes",
          "Diabetes",
          "Diabetes",
          "Diabetes",
          "Diabetes",
          "Diabetes",
          "Diabetes",
          "Diabetes",
          "Diabetes",
          "Diabetes",
          "Diabetes",
          "Diabetes",
          "Diabetes",
          "Diabetes",
          "Diabetes",
          "Diabetes",
          "Diabetes",
          "Diabetes",
          "Diabetes",
          "Diabetes",
          "Diabetes",
          "Diabetes",
          "Diabetes",
          "Diabetes",
          "Diabetes",
          "Diabetes",
          "Diabetes",
          "Diabetes",
          "Diabetes",
          "Diabetes",
          "Diabetes",
          "Diabetes",
          "Diabetes",
          "Diabetes",
          "Diabetes",
          "Diabetes",
          "Diabetes",
          "Diabetes",
          "Diabetes",
          "Diabetes",
          "Diabetes",
          "Diabetes",
          "Diabetes",
          "Diabetes",
          "Diabetes",
          "Diabetes",
          "Diabetes",
          "Diabetes",
          "Diabetes",
          "Diabetes",
          "Diabetes",
          "Diabetes",
          "Diabetes",
          "Diabetes",
          "Diabetes",
          "Diabetes",
          "Diabetes",
          "Diabetes",
          "Diabetes",
          "Diabetes",
          "Diabetes",
          "Diabetes",
          "Diabetes",
          "Diabetes",
          "Diabetes",
          "Diabetes",
          "Diabetes",
          "Diabetes",
          "Diabetes",
          "Diabetes",
          "Diabetes",
          "Diabetes",
          "Diabetes",
          "Diabetes",
          "Diabetes",
          "Diabetes",
          "Diabetes",
          "Diabetes",
          "Diabetes",
          "Diabetes",
          "Diabetes",
          "Diabetes",
          "Diabetes",
          "Diabetes",
          "Diabetes",
          "Diabetes",
          "Diabetes",
          "Diabetes",
          "Diabetes",
          "Diabetes",
          "Diabetes",
          "Diabetes",
          "Diabetes",
          "Diabetes",
          "Diabetes",
          "Diabetes",
          "Diabetes",
          "Diabetes",
          "Diabetes",
          "Diabetes",
          "Diabetes",
          "Diabetes",
          "Diabetes",
          "Diabetes",
          "Diabetes",
          "Diabetes",
          "Diabetes",
          "Diabetes",
          "Diabetes",
          "Diabetes",
          "Diabetes",
          "Diabetes",
          "Diabetes",
          "Diabetes",
          "Diabetes",
          "Diabetes",
          "Diabetes",
          "Diabetes",
          "Diabetes",
          "Diabetes",
          "Diabetes",
          "Diabetes",
          "Diabetes",
          "Diabetes",
          "Diabetes",
          "Diabetes",
          "Diabetes",
          "Diabetes",
          "Diabetes",
          "Diabetes",
          "Diabetes",
          "Diabetes",
          "Diabetes",
          "Diabetes",
          "Diabetes",
          "Diabetes",
          "Diabetes",
          "Diabetes",
          "Diabetes",
          "Diabetes",
          "Diabetes",
          "Diabetes",
          "Diabetes",
          "Diabetes",
          "Diabetes",
          "Diabetes",
          "Diabetes",
          "Diabetes",
          "Diabetes",
          "Diabetes",
          "Diabetes",
          "Diabetes",
          "Diabetes",
          "Diabetes",
          "Diabetes",
          "Diabetes",
          "Diabetes",
          "Diabetes",
          "Diabetes",
          "Diabetes",
          "Diabetes",
          "Diabetes",
          "Diabetes",
          "Diabetes",
          "Diabetes",
          "Diabetes",
          "Diabetes",
          "Diabetes",
          "Diabetes",
          "Diabetes",
          "Diabetes",
          "Diabetes",
          "Diabetes",
          "Diabetes",
          "Diabetes",
          "Diabetes",
          "Diabetes",
          "Diabetes",
          "Diabetes",
          "Diabetes",
          "Diabetes",
          "Diabetes",
          "Diabetes",
          "Diabetes",
          "Diabetes",
          "Diabetes",
          "Diabetes",
          "Diabetes",
          "Diabetes",
          "Diabetes",
          "Diabetes",
          "Diabetes",
          "Diabetes",
          "Diabetes",
          "Diabetes",
          "Diabetes",
          "Diabetes",
          "Diabetes",
          "Diabetes",
          "Diabetes",
          "Diabetes",
          "Diabetes",
          "Diabetes",
          "Diabetes",
          "Diabetes",
          "Diabetes",
          "Diabetes",
          "Diabetes",
          "Diabetes",
          "Diabetes",
          "Diabetes",
          "Diabetes",
          "Diabetes",
          "Diabetes",
          "Diabetes",
          "Diabetes",
          "Diabetes",
          "Diabetes",
          "Diabetes"
         ],
         "y0": " ",
         "yaxis": "y"
        },
        {
         "alignmentgroup": "True",
         "hovertemplate": "Outcome=%{y}<br>Skin Thickness=%{x}<extra></extra>",
         "legendgroup": "No Diabetes",
         "marker": {
          "color": "#636EFA"
         },
         "name": "No Diabetes",
         "notched": false,
         "offsetgroup": "No Diabetes",
         "orientation": "h",
         "showlegend": true,
         "type": "box",
         "x": [
          29,
          23,
          0,
          0,
          0,
          0,
          38,
          41,
          0,
          15,
          19,
          0,
          26,
          11,
          0,
          31,
          33,
          0,
          25,
          0,
          18,
          0,
          0,
          27,
          0,
          11,
          15,
          21,
          42,
          10,
          60,
          0,
          41,
          0,
          0,
          34,
          27,
          0,
          13,
          27,
          35,
          20,
          30,
          20,
          0,
          33,
          22,
          13,
          0,
          26,
          28,
          29,
          54,
          25,
          19,
          0,
          15,
          40,
          18,
          27,
          28,
          18,
          30,
          0,
          0,
          18,
          0,
          29,
          0,
          28,
          31,
          34,
          0,
          0,
          23,
          15,
          39,
          30,
          0,
          30,
          36,
          31,
          13,
          20,
          26,
          25,
          0,
          29,
          0,
          30,
          26,
          31,
          23,
          37,
          35,
          0,
          17,
          50,
          0,
          42,
          15,
          21,
          19,
          38,
          40,
          34,
          23,
          25,
          0,
          0,
          12,
          23,
          42,
          24,
          0,
          0,
          0,
          18,
          20,
          0,
          0,
          0,
          44,
          20,
          0,
          16,
          0,
          20,
          16,
          32,
          28,
          27,
          22,
          54,
          31,
          30,
          0,
          33,
          15,
          27,
          0,
          39,
          31,
          25,
          0,
          28,
          0,
          24,
          32,
          35,
          0,
          33,
          33,
          19,
          0,
          0,
          14,
          32,
          39,
          22,
          16,
          15,
          32,
          15,
          18,
          42,
          0,
          32,
          0,
          50,
          0,
          52,
          23,
          0,
          10,
          28,
          15,
          26,
          44,
          17,
          43,
          29,
          0,
          31,
          29,
          0,
          41,
          0,
          37,
          14,
          30,
          37,
          10,
          22,
          11,
          39,
          12,
          32,
          21,
          0,
          32,
          19,
          16,
          0,
          18,
          43,
          0,
          13,
          21,
          35,
          0,
          0,
          36,
          19,
          0,
          19,
          0,
          0,
          28,
          12,
          0,
          40,
          0,
          37,
          25,
          28,
          17,
          16,
          23,
          22,
          40,
          43,
          15,
          37,
          39,
          30,
          22,
          8,
          18,
          24,
          13,
          23,
          29,
          14,
          12,
          24,
          34,
          0,
          0,
          25,
          32,
          0,
          39,
          30,
          23,
          22,
          21,
          0,
          41,
          18,
          46,
          22,
          0,
          46,
          0,
          16,
          11,
          0,
          8,
          33,
          0,
          15,
          0,
          23,
          27,
          12,
          45,
          18,
          13,
          32,
          0,
          28,
          0,
          28,
          33,
          22,
          0,
          40,
          30,
          0,
          13,
          10,
          36,
          41,
          40,
          38,
          27,
          0,
          0,
          27,
          17,
          38,
          31,
          37,
          22,
          31,
          41,
          32,
          17,
          0,
          28,
          30,
          38,
          0,
          0,
          0,
          15,
          32,
          19,
          32,
          25,
          39,
          0,
          23,
          23,
          0,
          17,
          0,
          0,
          19,
          0,
          0,
          7,
          32,
          33,
          0,
          0,
          18,
          19,
          15,
          31,
          0,
          18,
          0,
          52,
          0,
          30,
          0,
          0,
          37,
          23,
          29,
          21,
          43,
          31,
          28,
          30,
          0,
          24,
          23,
          33,
          40,
          0,
          40,
          0,
          34,
          19,
          0,
          14,
          30,
          32,
          29,
          0,
          0,
          31,
          17,
          30,
          47,
          20,
          0,
          27,
          17,
          0,
          11,
          0,
          0,
          50,
          22,
          45,
          0,
          19,
          18,
          19,
          0,
          36,
          32,
          25,
          39,
          13,
          21,
          28,
          0,
          0,
          13,
          42,
          20,
          0,
          27,
          0,
          47,
          0,
          0,
          0,
          22,
          40,
          0,
          17,
          0,
          0,
          18,
          12,
          17,
          0,
          0,
          30,
          35,
          25,
          25,
          23,
          40,
          0,
          28,
          35,
          48,
          0,
          0,
          45,
          33,
          30,
          26,
          10,
          23,
          35,
          0,
          0,
          17,
          28,
          39,
          0,
          26,
          0,
          19,
          26,
          0,
          32,
          0,
          0,
          11,
          0,
          27,
          0,
          20,
          36,
          21,
          13,
          27,
          20,
          0,
          18,
          46,
          19,
          36,
          30,
          0,
          40,
          29,
          26,
          0,
          0,
          27,
          0,
          32,
          27,
          23,
          17,
          20,
          18,
          37,
          33,
          41,
          39,
          24,
          41,
          0,
          26,
          0,
          48,
          27,
          23,
          31
         ],
         "x0": " ",
         "xaxis": "x",
         "y": [
          "No Diabetes",
          "No Diabetes",
          "No Diabetes",
          "No Diabetes",
          "No Diabetes",
          "No Diabetes",
          "No Diabetes",
          "No Diabetes",
          "No Diabetes",
          "No Diabetes",
          "No Diabetes",
          "No Diabetes",
          "No Diabetes",
          "No Diabetes",
          "No Diabetes",
          "No Diabetes",
          "No Diabetes",
          "No Diabetes",
          "No Diabetes",
          "No Diabetes",
          "No Diabetes",
          "No Diabetes",
          "No Diabetes",
          "No Diabetes",
          "No Diabetes",
          "No Diabetes",
          "No Diabetes",
          "No Diabetes",
          "No Diabetes",
          "No Diabetes",
          "No Diabetes",
          "No Diabetes",
          "No Diabetes",
          "No Diabetes",
          "No Diabetes",
          "No Diabetes",
          "No Diabetes",
          "No Diabetes",
          "No Diabetes",
          "No Diabetes",
          "No Diabetes",
          "No Diabetes",
          "No Diabetes",
          "No Diabetes",
          "No Diabetes",
          "No Diabetes",
          "No Diabetes",
          "No Diabetes",
          "No Diabetes",
          "No Diabetes",
          "No Diabetes",
          "No Diabetes",
          "No Diabetes",
          "No Diabetes",
          "No Diabetes",
          "No Diabetes",
          "No Diabetes",
          "No Diabetes",
          "No Diabetes",
          "No Diabetes",
          "No Diabetes",
          "No Diabetes",
          "No Diabetes",
          "No Diabetes",
          "No Diabetes",
          "No Diabetes",
          "No Diabetes",
          "No Diabetes",
          "No Diabetes",
          "No Diabetes",
          "No Diabetes",
          "No Diabetes",
          "No Diabetes",
          "No Diabetes",
          "No Diabetes",
          "No Diabetes",
          "No Diabetes",
          "No Diabetes",
          "No Diabetes",
          "No Diabetes",
          "No Diabetes",
          "No Diabetes",
          "No Diabetes",
          "No Diabetes",
          "No Diabetes",
          "No Diabetes",
          "No Diabetes",
          "No Diabetes",
          "No Diabetes",
          "No Diabetes",
          "No Diabetes",
          "No Diabetes",
          "No Diabetes",
          "No Diabetes",
          "No Diabetes",
          "No Diabetes",
          "No Diabetes",
          "No Diabetes",
          "No Diabetes",
          "No Diabetes",
          "No Diabetes",
          "No Diabetes",
          "No Diabetes",
          "No Diabetes",
          "No Diabetes",
          "No Diabetes",
          "No Diabetes",
          "No Diabetes",
          "No Diabetes",
          "No Diabetes",
          "No Diabetes",
          "No Diabetes",
          "No Diabetes",
          "No Diabetes",
          "No Diabetes",
          "No Diabetes",
          "No Diabetes",
          "No Diabetes",
          "No Diabetes",
          "No Diabetes",
          "No Diabetes",
          "No Diabetes",
          "No Diabetes",
          "No Diabetes",
          "No Diabetes",
          "No Diabetes",
          "No Diabetes",
          "No Diabetes",
          "No Diabetes",
          "No Diabetes",
          "No Diabetes",
          "No Diabetes",
          "No Diabetes",
          "No Diabetes",
          "No Diabetes",
          "No Diabetes",
          "No Diabetes",
          "No Diabetes",
          "No Diabetes",
          "No Diabetes",
          "No Diabetes",
          "No Diabetes",
          "No Diabetes",
          "No Diabetes",
          "No Diabetes",
          "No Diabetes",
          "No Diabetes",
          "No Diabetes",
          "No Diabetes",
          "No Diabetes",
          "No Diabetes",
          "No Diabetes",
          "No Diabetes",
          "No Diabetes",
          "No Diabetes",
          "No Diabetes",
          "No Diabetes",
          "No Diabetes",
          "No Diabetes",
          "No Diabetes",
          "No Diabetes",
          "No Diabetes",
          "No Diabetes",
          "No Diabetes",
          "No Diabetes",
          "No Diabetes",
          "No Diabetes",
          "No Diabetes",
          "No Diabetes",
          "No Diabetes",
          "No Diabetes",
          "No Diabetes",
          "No Diabetes",
          "No Diabetes",
          "No Diabetes",
          "No Diabetes",
          "No Diabetes",
          "No Diabetes",
          "No Diabetes",
          "No Diabetes",
          "No Diabetes",
          "No Diabetes",
          "No Diabetes",
          "No Diabetes",
          "No Diabetes",
          "No Diabetes",
          "No Diabetes",
          "No Diabetes",
          "No Diabetes",
          "No Diabetes",
          "No Diabetes",
          "No Diabetes",
          "No Diabetes",
          "No Diabetes",
          "No Diabetes",
          "No Diabetes",
          "No Diabetes",
          "No Diabetes",
          "No Diabetes",
          "No Diabetes",
          "No Diabetes",
          "No Diabetes",
          "No Diabetes",
          "No Diabetes",
          "No Diabetes",
          "No Diabetes",
          "No Diabetes",
          "No Diabetes",
          "No Diabetes",
          "No Diabetes",
          "No Diabetes",
          "No Diabetes",
          "No Diabetes",
          "No Diabetes",
          "No Diabetes",
          "No Diabetes",
          "No Diabetes",
          "No Diabetes",
          "No Diabetes",
          "No Diabetes",
          "No Diabetes",
          "No Diabetes",
          "No Diabetes",
          "No Diabetes",
          "No Diabetes",
          "No Diabetes",
          "No Diabetes",
          "No Diabetes",
          "No Diabetes",
          "No Diabetes",
          "No Diabetes",
          "No Diabetes",
          "No Diabetes",
          "No Diabetes",
          "No Diabetes",
          "No Diabetes",
          "No Diabetes",
          "No Diabetes",
          "No Diabetes",
          "No Diabetes",
          "No Diabetes",
          "No Diabetes",
          "No Diabetes",
          "No Diabetes",
          "No Diabetes",
          "No Diabetes",
          "No Diabetes",
          "No Diabetes",
          "No Diabetes",
          "No Diabetes",
          "No Diabetes",
          "No Diabetes",
          "No Diabetes",
          "No Diabetes",
          "No Diabetes",
          "No Diabetes",
          "No Diabetes",
          "No Diabetes",
          "No Diabetes",
          "No Diabetes",
          "No Diabetes",
          "No Diabetes",
          "No Diabetes",
          "No Diabetes",
          "No Diabetes",
          "No Diabetes",
          "No Diabetes",
          "No Diabetes",
          "No Diabetes",
          "No Diabetes",
          "No Diabetes",
          "No Diabetes",
          "No Diabetes",
          "No Diabetes",
          "No Diabetes",
          "No Diabetes",
          "No Diabetes",
          "No Diabetes",
          "No Diabetes",
          "No Diabetes",
          "No Diabetes",
          "No Diabetes",
          "No Diabetes",
          "No Diabetes",
          "No Diabetes",
          "No Diabetes",
          "No Diabetes",
          "No Diabetes",
          "No Diabetes",
          "No Diabetes",
          "No Diabetes",
          "No Diabetes",
          "No Diabetes",
          "No Diabetes",
          "No Diabetes",
          "No Diabetes",
          "No Diabetes",
          "No Diabetes",
          "No Diabetes",
          "No Diabetes",
          "No Diabetes",
          "No Diabetes",
          "No Diabetes",
          "No Diabetes",
          "No Diabetes",
          "No Diabetes",
          "No Diabetes",
          "No Diabetes",
          "No Diabetes",
          "No Diabetes",
          "No Diabetes",
          "No Diabetes",
          "No Diabetes",
          "No Diabetes",
          "No Diabetes",
          "No Diabetes",
          "No Diabetes",
          "No Diabetes",
          "No Diabetes",
          "No Diabetes",
          "No Diabetes",
          "No Diabetes",
          "No Diabetes",
          "No Diabetes",
          "No Diabetes",
          "No Diabetes",
          "No Diabetes",
          "No Diabetes",
          "No Diabetes",
          "No Diabetes",
          "No Diabetes",
          "No Diabetes",
          "No Diabetes",
          "No Diabetes",
          "No Diabetes",
          "No Diabetes",
          "No Diabetes",
          "No Diabetes",
          "No Diabetes",
          "No Diabetes",
          "No Diabetes",
          "No Diabetes",
          "No Diabetes",
          "No Diabetes",
          "No Diabetes",
          "No Diabetes",
          "No Diabetes",
          "No Diabetes",
          "No Diabetes",
          "No Diabetes",
          "No Diabetes",
          "No Diabetes",
          "No Diabetes",
          "No Diabetes",
          "No Diabetes",
          "No Diabetes",
          "No Diabetes",
          "No Diabetes",
          "No Diabetes",
          "No Diabetes",
          "No Diabetes",
          "No Diabetes",
          "No Diabetes",
          "No Diabetes",
          "No Diabetes",
          "No Diabetes",
          "No Diabetes",
          "No Diabetes",
          "No Diabetes",
          "No Diabetes",
          "No Diabetes",
          "No Diabetes",
          "No Diabetes",
          "No Diabetes",
          "No Diabetes",
          "No Diabetes",
          "No Diabetes",
          "No Diabetes",
          "No Diabetes",
          "No Diabetes",
          "No Diabetes",
          "No Diabetes",
          "No Diabetes",
          "No Diabetes",
          "No Diabetes",
          "No Diabetes",
          "No Diabetes",
          "No Diabetes",
          "No Diabetes",
          "No Diabetes",
          "No Diabetes",
          "No Diabetes",
          "No Diabetes",
          "No Diabetes",
          "No Diabetes",
          "No Diabetes",
          "No Diabetes",
          "No Diabetes",
          "No Diabetes",
          "No Diabetes",
          "No Diabetes",
          "No Diabetes",
          "No Diabetes",
          "No Diabetes",
          "No Diabetes",
          "No Diabetes",
          "No Diabetes",
          "No Diabetes",
          "No Diabetes",
          "No Diabetes",
          "No Diabetes",
          "No Diabetes",
          "No Diabetes",
          "No Diabetes",
          "No Diabetes",
          "No Diabetes",
          "No Diabetes",
          "No Diabetes",
          "No Diabetes",
          "No Diabetes",
          "No Diabetes",
          "No Diabetes",
          "No Diabetes",
          "No Diabetes",
          "No Diabetes",
          "No Diabetes",
          "No Diabetes",
          "No Diabetes",
          "No Diabetes",
          "No Diabetes",
          "No Diabetes",
          "No Diabetes",
          "No Diabetes",
          "No Diabetes",
          "No Diabetes",
          "No Diabetes",
          "No Diabetes",
          "No Diabetes",
          "No Diabetes",
          "No Diabetes",
          "No Diabetes",
          "No Diabetes",
          "No Diabetes",
          "No Diabetes",
          "No Diabetes",
          "No Diabetes",
          "No Diabetes",
          "No Diabetes",
          "No Diabetes",
          "No Diabetes",
          "No Diabetes",
          "No Diabetes",
          "No Diabetes",
          "No Diabetes",
          "No Diabetes",
          "No Diabetes",
          "No Diabetes",
          "No Diabetes",
          "No Diabetes",
          "No Diabetes",
          "No Diabetes",
          "No Diabetes",
          "No Diabetes",
          "No Diabetes",
          "No Diabetes",
          "No Diabetes",
          "No Diabetes",
          "No Diabetes",
          "No Diabetes",
          "No Diabetes",
          "No Diabetes",
          "No Diabetes",
          "No Diabetes",
          "No Diabetes",
          "No Diabetes",
          "No Diabetes",
          "No Diabetes",
          "No Diabetes",
          "No Diabetes",
          "No Diabetes",
          "No Diabetes",
          "No Diabetes",
          "No Diabetes",
          "No Diabetes",
          "No Diabetes",
          "No Diabetes",
          "No Diabetes",
          "No Diabetes",
          "No Diabetes",
          "No Diabetes",
          "No Diabetes",
          "No Diabetes",
          "No Diabetes",
          "No Diabetes",
          "No Diabetes",
          "No Diabetes",
          "No Diabetes",
          "No Diabetes",
          "No Diabetes",
          "No Diabetes"
         ],
         "y0": " ",
         "yaxis": "y"
        }
       ],
       "layout": {
        "boxmode": "overlay",
        "legend": {
         "title": {
          "text": "Outcome"
         },
         "tracegroupgap": 0
        },
        "template": {
         "data": {
          "bar": [
           {
            "error_x": {
             "color": "#2a3f5f"
            },
            "error_y": {
             "color": "#2a3f5f"
            },
            "marker": {
             "line": {
              "color": "#E5ECF6",
              "width": 0.5
             },
             "pattern": {
              "fillmode": "overlay",
              "size": 10,
              "solidity": 0.2
             }
            },
            "type": "bar"
           }
          ],
          "barpolar": [
           {
            "marker": {
             "line": {
              "color": "#E5ECF6",
              "width": 0.5
             },
             "pattern": {
              "fillmode": "overlay",
              "size": 10,
              "solidity": 0.2
             }
            },
            "type": "barpolar"
           }
          ],
          "carpet": [
           {
            "aaxis": {
             "endlinecolor": "#2a3f5f",
             "gridcolor": "white",
             "linecolor": "white",
             "minorgridcolor": "white",
             "startlinecolor": "#2a3f5f"
            },
            "baxis": {
             "endlinecolor": "#2a3f5f",
             "gridcolor": "white",
             "linecolor": "white",
             "minorgridcolor": "white",
             "startlinecolor": "#2a3f5f"
            },
            "type": "carpet"
           }
          ],
          "choropleth": [
           {
            "colorbar": {
             "outlinewidth": 0,
             "ticks": ""
            },
            "type": "choropleth"
           }
          ],
          "contour": [
           {
            "colorbar": {
             "outlinewidth": 0,
             "ticks": ""
            },
            "colorscale": [
             [
              0,
              "#0d0887"
             ],
             [
              0.1111111111111111,
              "#46039f"
             ],
             [
              0.2222222222222222,
              "#7201a8"
             ],
             [
              0.3333333333333333,
              "#9c179e"
             ],
             [
              0.4444444444444444,
              "#bd3786"
             ],
             [
              0.5555555555555556,
              "#d8576b"
             ],
             [
              0.6666666666666666,
              "#ed7953"
             ],
             [
              0.7777777777777778,
              "#fb9f3a"
             ],
             [
              0.8888888888888888,
              "#fdca26"
             ],
             [
              1,
              "#f0f921"
             ]
            ],
            "type": "contour"
           }
          ],
          "contourcarpet": [
           {
            "colorbar": {
             "outlinewidth": 0,
             "ticks": ""
            },
            "type": "contourcarpet"
           }
          ],
          "heatmap": [
           {
            "colorbar": {
             "outlinewidth": 0,
             "ticks": ""
            },
            "colorscale": [
             [
              0,
              "#0d0887"
             ],
             [
              0.1111111111111111,
              "#46039f"
             ],
             [
              0.2222222222222222,
              "#7201a8"
             ],
             [
              0.3333333333333333,
              "#9c179e"
             ],
             [
              0.4444444444444444,
              "#bd3786"
             ],
             [
              0.5555555555555556,
              "#d8576b"
             ],
             [
              0.6666666666666666,
              "#ed7953"
             ],
             [
              0.7777777777777778,
              "#fb9f3a"
             ],
             [
              0.8888888888888888,
              "#fdca26"
             ],
             [
              1,
              "#f0f921"
             ]
            ],
            "type": "heatmap"
           }
          ],
          "heatmapgl": [
           {
            "colorbar": {
             "outlinewidth": 0,
             "ticks": ""
            },
            "colorscale": [
             [
              0,
              "#0d0887"
             ],
             [
              0.1111111111111111,
              "#46039f"
             ],
             [
              0.2222222222222222,
              "#7201a8"
             ],
             [
              0.3333333333333333,
              "#9c179e"
             ],
             [
              0.4444444444444444,
              "#bd3786"
             ],
             [
              0.5555555555555556,
              "#d8576b"
             ],
             [
              0.6666666666666666,
              "#ed7953"
             ],
             [
              0.7777777777777778,
              "#fb9f3a"
             ],
             [
              0.8888888888888888,
              "#fdca26"
             ],
             [
              1,
              "#f0f921"
             ]
            ],
            "type": "heatmapgl"
           }
          ],
          "histogram": [
           {
            "marker": {
             "pattern": {
              "fillmode": "overlay",
              "size": 10,
              "solidity": 0.2
             }
            },
            "type": "histogram"
           }
          ],
          "histogram2d": [
           {
            "colorbar": {
             "outlinewidth": 0,
             "ticks": ""
            },
            "colorscale": [
             [
              0,
              "#0d0887"
             ],
             [
              0.1111111111111111,
              "#46039f"
             ],
             [
              0.2222222222222222,
              "#7201a8"
             ],
             [
              0.3333333333333333,
              "#9c179e"
             ],
             [
              0.4444444444444444,
              "#bd3786"
             ],
             [
              0.5555555555555556,
              "#d8576b"
             ],
             [
              0.6666666666666666,
              "#ed7953"
             ],
             [
              0.7777777777777778,
              "#fb9f3a"
             ],
             [
              0.8888888888888888,
              "#fdca26"
             ],
             [
              1,
              "#f0f921"
             ]
            ],
            "type": "histogram2d"
           }
          ],
          "histogram2dcontour": [
           {
            "colorbar": {
             "outlinewidth": 0,
             "ticks": ""
            },
            "colorscale": [
             [
              0,
              "#0d0887"
             ],
             [
              0.1111111111111111,
              "#46039f"
             ],
             [
              0.2222222222222222,
              "#7201a8"
             ],
             [
              0.3333333333333333,
              "#9c179e"
             ],
             [
              0.4444444444444444,
              "#bd3786"
             ],
             [
              0.5555555555555556,
              "#d8576b"
             ],
             [
              0.6666666666666666,
              "#ed7953"
             ],
             [
              0.7777777777777778,
              "#fb9f3a"
             ],
             [
              0.8888888888888888,
              "#fdca26"
             ],
             [
              1,
              "#f0f921"
             ]
            ],
            "type": "histogram2dcontour"
           }
          ],
          "mesh3d": [
           {
            "colorbar": {
             "outlinewidth": 0,
             "ticks": ""
            },
            "type": "mesh3d"
           }
          ],
          "parcoords": [
           {
            "line": {
             "colorbar": {
              "outlinewidth": 0,
              "ticks": ""
             }
            },
            "type": "parcoords"
           }
          ],
          "pie": [
           {
            "automargin": true,
            "type": "pie"
           }
          ],
          "scatter": [
           {
            "fillpattern": {
             "fillmode": "overlay",
             "size": 10,
             "solidity": 0.2
            },
            "type": "scatter"
           }
          ],
          "scatter3d": [
           {
            "line": {
             "colorbar": {
              "outlinewidth": 0,
              "ticks": ""
             }
            },
            "marker": {
             "colorbar": {
              "outlinewidth": 0,
              "ticks": ""
             }
            },
            "type": "scatter3d"
           }
          ],
          "scattercarpet": [
           {
            "marker": {
             "colorbar": {
              "outlinewidth": 0,
              "ticks": ""
             }
            },
            "type": "scattercarpet"
           }
          ],
          "scattergeo": [
           {
            "marker": {
             "colorbar": {
              "outlinewidth": 0,
              "ticks": ""
             }
            },
            "type": "scattergeo"
           }
          ],
          "scattergl": [
           {
            "marker": {
             "colorbar": {
              "outlinewidth": 0,
              "ticks": ""
             }
            },
            "type": "scattergl"
           }
          ],
          "scattermapbox": [
           {
            "marker": {
             "colorbar": {
              "outlinewidth": 0,
              "ticks": ""
             }
            },
            "type": "scattermapbox"
           }
          ],
          "scatterpolar": [
           {
            "marker": {
             "colorbar": {
              "outlinewidth": 0,
              "ticks": ""
             }
            },
            "type": "scatterpolar"
           }
          ],
          "scatterpolargl": [
           {
            "marker": {
             "colorbar": {
              "outlinewidth": 0,
              "ticks": ""
             }
            },
            "type": "scatterpolargl"
           }
          ],
          "scatterternary": [
           {
            "marker": {
             "colorbar": {
              "outlinewidth": 0,
              "ticks": ""
             }
            },
            "type": "scatterternary"
           }
          ],
          "surface": [
           {
            "colorbar": {
             "outlinewidth": 0,
             "ticks": ""
            },
            "colorscale": [
             [
              0,
              "#0d0887"
             ],
             [
              0.1111111111111111,
              "#46039f"
             ],
             [
              0.2222222222222222,
              "#7201a8"
             ],
             [
              0.3333333333333333,
              "#9c179e"
             ],
             [
              0.4444444444444444,
              "#bd3786"
             ],
             [
              0.5555555555555556,
              "#d8576b"
             ],
             [
              0.6666666666666666,
              "#ed7953"
             ],
             [
              0.7777777777777778,
              "#fb9f3a"
             ],
             [
              0.8888888888888888,
              "#fdca26"
             ],
             [
              1,
              "#f0f921"
             ]
            ],
            "type": "surface"
           }
          ],
          "table": [
           {
            "cells": {
             "fill": {
              "color": "#EBF0F8"
             },
             "line": {
              "color": "white"
             }
            },
            "header": {
             "fill": {
              "color": "#C8D4E3"
             },
             "line": {
              "color": "white"
             }
            },
            "type": "table"
           }
          ]
         },
         "layout": {
          "annotationdefaults": {
           "arrowcolor": "#2a3f5f",
           "arrowhead": 0,
           "arrowwidth": 1
          },
          "autotypenumbers": "strict",
          "coloraxis": {
           "colorbar": {
            "outlinewidth": 0,
            "ticks": ""
           }
          },
          "colorscale": {
           "diverging": [
            [
             0,
             "#8e0152"
            ],
            [
             0.1,
             "#c51b7d"
            ],
            [
             0.2,
             "#de77ae"
            ],
            [
             0.3,
             "#f1b6da"
            ],
            [
             0.4,
             "#fde0ef"
            ],
            [
             0.5,
             "#f7f7f7"
            ],
            [
             0.6,
             "#e6f5d0"
            ],
            [
             0.7,
             "#b8e186"
            ],
            [
             0.8,
             "#7fbc41"
            ],
            [
             0.9,
             "#4d9221"
            ],
            [
             1,
             "#276419"
            ]
           ],
           "sequential": [
            [
             0,
             "#0d0887"
            ],
            [
             0.1111111111111111,
             "#46039f"
            ],
            [
             0.2222222222222222,
             "#7201a8"
            ],
            [
             0.3333333333333333,
             "#9c179e"
            ],
            [
             0.4444444444444444,
             "#bd3786"
            ],
            [
             0.5555555555555556,
             "#d8576b"
            ],
            [
             0.6666666666666666,
             "#ed7953"
            ],
            [
             0.7777777777777778,
             "#fb9f3a"
            ],
            [
             0.8888888888888888,
             "#fdca26"
            ],
            [
             1,
             "#f0f921"
            ]
           ],
           "sequentialminus": [
            [
             0,
             "#0d0887"
            ],
            [
             0.1111111111111111,
             "#46039f"
            ],
            [
             0.2222222222222222,
             "#7201a8"
            ],
            [
             0.3333333333333333,
             "#9c179e"
            ],
            [
             0.4444444444444444,
             "#bd3786"
            ],
            [
             0.5555555555555556,
             "#d8576b"
            ],
            [
             0.6666666666666666,
             "#ed7953"
            ],
            [
             0.7777777777777778,
             "#fb9f3a"
            ],
            [
             0.8888888888888888,
             "#fdca26"
            ],
            [
             1,
             "#f0f921"
            ]
           ]
          },
          "colorway": [
           "#636efa",
           "#EF553B",
           "#00cc96",
           "#ab63fa",
           "#FFA15A",
           "#19d3f3",
           "#FF6692",
           "#B6E880",
           "#FF97FF",
           "#FECB52"
          ],
          "font": {
           "color": "#2a3f5f"
          },
          "geo": {
           "bgcolor": "white",
           "lakecolor": "white",
           "landcolor": "#E5ECF6",
           "showlakes": true,
           "showland": true,
           "subunitcolor": "white"
          },
          "hoverlabel": {
           "align": "left"
          },
          "hovermode": "closest",
          "mapbox": {
           "style": "light"
          },
          "paper_bgcolor": "white",
          "plot_bgcolor": "#E5ECF6",
          "polar": {
           "angularaxis": {
            "gridcolor": "white",
            "linecolor": "white",
            "ticks": ""
           },
           "bgcolor": "#E5ECF6",
           "radialaxis": {
            "gridcolor": "white",
            "linecolor": "white",
            "ticks": ""
           }
          },
          "scene": {
           "xaxis": {
            "backgroundcolor": "#E5ECF6",
            "gridcolor": "white",
            "gridwidth": 2,
            "linecolor": "white",
            "showbackground": true,
            "ticks": "",
            "zerolinecolor": "white"
           },
           "yaxis": {
            "backgroundcolor": "#E5ECF6",
            "gridcolor": "white",
            "gridwidth": 2,
            "linecolor": "white",
            "showbackground": true,
            "ticks": "",
            "zerolinecolor": "white"
           },
           "zaxis": {
            "backgroundcolor": "#E5ECF6",
            "gridcolor": "white",
            "gridwidth": 2,
            "linecolor": "white",
            "showbackground": true,
            "ticks": "",
            "zerolinecolor": "white"
           }
          },
          "shapedefaults": {
           "line": {
            "color": "#2a3f5f"
           }
          },
          "ternary": {
           "aaxis": {
            "gridcolor": "white",
            "linecolor": "white",
            "ticks": ""
           },
           "baxis": {
            "gridcolor": "white",
            "linecolor": "white",
            "ticks": ""
           },
           "bgcolor": "#E5ECF6",
           "caxis": {
            "gridcolor": "white",
            "linecolor": "white",
            "ticks": ""
           }
          },
          "title": {
           "x": 0.05
          },
          "xaxis": {
           "automargin": true,
           "gridcolor": "white",
           "linecolor": "white",
           "ticks": "",
           "title": {
            "standoff": 15
           },
           "zerolinecolor": "white",
           "zerolinewidth": 2
          },
          "yaxis": {
           "automargin": true,
           "gridcolor": "white",
           "linecolor": "white",
           "ticks": "",
           "title": {
            "standoff": 15
           },
           "zerolinecolor": "white",
           "zerolinewidth": 2
          }
         }
        },
        "title": {
         "text": "SkinThickness by Outcome"
        },
        "xaxis": {
         "anchor": "y",
         "domain": [
          0,
          1
         ],
         "title": {
          "text": "Outcome"
         }
        },
        "yaxis": {
         "anchor": "x",
         "categoryarray": [
          "No Diabetes",
          "Diabetes"
         ],
         "categoryorder": "array",
         "domain": [
          0,
          1
         ],
         "title": {
          "text": "Outcome"
         }
        }
       }
      }
     },
     "metadata": {},
     "output_type": "display_data"
    }
   ],
   "source": [
    "fig = px.box(df_plot, y='Outcome', x='SkinThickness', \n",
    "             color='Outcome',\n",
    "             color_discrete_map=color_discrete_map,\n",
    "             title='SkinThickness by Outcome',\n",
    "             labels={'Outcome': 'Outcome', 'SkinThickness': 'Skin Thickness'})\n",
    "fig.update_layout(xaxis=dict(title='Outcome'))\n",
    "\n",
    "# Show the plot\n",
    "fig.show()"
   ]
  },
  {
   "cell_type": "markdown",
   "metadata": {},
   "source": [
    "#### Insulin"
   ]
  },
  {
   "cell_type": "code",
   "execution_count": 18,
   "metadata": {},
   "outputs": [
    {
     "data": {
      "application/vnd.plotly.v1+json": {
       "config": {
        "plotlyServerURL": "https://plot.ly"
       },
       "data": [
        {
         "alignmentgroup": "True",
         "hovertemplate": "Outcome=%{y}<br>Insulin=%{x}<extra></extra>",
         "legendgroup": "Diabetes",
         "marker": {
          "color": "#EF553B"
         },
         "name": "Diabetes",
         "notched": false,
         "offsetgroup": "Diabetes",
         "orientation": "h",
         "showlegend": true,
         "type": "box",
         "x": [
          0,
          0,
          168,
          88,
          543,
          0,
          0,
          846,
          175,
          0,
          230,
          0,
          96,
          0,
          0,
          146,
          115,
          0,
          245,
          0,
          0,
          207,
          240,
          0,
          0,
          300,
          304,
          0,
          0,
          0,
          90,
          0,
          0,
          0,
          110,
          0,
          220,
          0,
          36,
          135,
          495,
          175,
          0,
          0,
          100,
          0,
          99,
          145,
          0,
          168,
          0,
          225,
          0,
          155,
          0,
          0,
          114,
          0,
          156,
          0,
          130,
          130,
          130,
          0,
          0,
          495,
          58,
          114,
          160,
          0,
          0,
          210,
          48,
          99,
          318,
          280,
          0,
          0,
          130,
          175,
          271,
          129,
          0,
          0,
          478,
          0,
          0,
          0,
          370,
          0,
          192,
          0,
          0,
          0,
          176,
          0,
          258,
          0,
          150,
          0,
          0,
          0,
          0,
          0,
          0,
          0,
          0,
          0,
          220,
          74,
          182,
          194,
          360,
          184,
          0,
          135,
          0,
          132,
          180,
          205,
          96,
          0,
          0,
          0,
          0,
          0,
          29,
          156,
          120,
          0,
          0,
          171,
          0,
          0,
          0,
          167,
          0,
          249,
          325,
          0,
          0,
          140,
          465,
          325,
          0,
          0,
          0,
          285,
          0,
          0,
          0,
          0,
          0,
          88,
          0,
          0,
          0,
          579,
          167,
          474,
          0,
          115,
          210,
          277,
          180,
          180,
          0,
          0,
          0,
          0,
          14,
          64,
          0,
          0,
          237,
          0,
          191,
          328,
          0,
          250,
          122,
          145,
          0,
          90,
          0,
          105,
          165,
          0,
          0,
          155,
          215,
          190,
          0,
          225,
          207,
          0,
          274,
          165,
          0,
          0,
          0,
          600,
          0,
          156,
          0,
          0,
          185,
          0,
          126,
          0,
          293,
          194,
          321,
          144,
          0,
          0,
          0,
          0,
          91,
          0,
          144,
          159,
          130,
          540,
          70,
          0,
          231,
          130,
          0,
          0,
          0,
          0,
          0,
          0,
          0,
          0,
          180,
          0,
          125,
          480,
          125,
          0,
          0,
          0,
          0,
          160,
          0,
          392,
          185,
          0,
          127,
          79,
          0,
          120,
          0,
          150,
          0,
          0,
          200,
          0,
          0,
          510,
          0,
          110,
          0,
          0,
          0,
          0
         ],
         "x0": " ",
         "xaxis": "x",
         "y": [
          "Diabetes",
          "Diabetes",
          "Diabetes",
          "Diabetes",
          "Diabetes",
          "Diabetes",
          "Diabetes",
          "Diabetes",
          "Diabetes",
          "Diabetes",
          "Diabetes",
          "Diabetes",
          "Diabetes",
          "Diabetes",
          "Diabetes",
          "Diabetes",
          "Diabetes",
          "Diabetes",
          "Diabetes",
          "Diabetes",
          "Diabetes",
          "Diabetes",
          "Diabetes",
          "Diabetes",
          "Diabetes",
          "Diabetes",
          "Diabetes",
          "Diabetes",
          "Diabetes",
          "Diabetes",
          "Diabetes",
          "Diabetes",
          "Diabetes",
          "Diabetes",
          "Diabetes",
          "Diabetes",
          "Diabetes",
          "Diabetes",
          "Diabetes",
          "Diabetes",
          "Diabetes",
          "Diabetes",
          "Diabetes",
          "Diabetes",
          "Diabetes",
          "Diabetes",
          "Diabetes",
          "Diabetes",
          "Diabetes",
          "Diabetes",
          "Diabetes",
          "Diabetes",
          "Diabetes",
          "Diabetes",
          "Diabetes",
          "Diabetes",
          "Diabetes",
          "Diabetes",
          "Diabetes",
          "Diabetes",
          "Diabetes",
          "Diabetes",
          "Diabetes",
          "Diabetes",
          "Diabetes",
          "Diabetes",
          "Diabetes",
          "Diabetes",
          "Diabetes",
          "Diabetes",
          "Diabetes",
          "Diabetes",
          "Diabetes",
          "Diabetes",
          "Diabetes",
          "Diabetes",
          "Diabetes",
          "Diabetes",
          "Diabetes",
          "Diabetes",
          "Diabetes",
          "Diabetes",
          "Diabetes",
          "Diabetes",
          "Diabetes",
          "Diabetes",
          "Diabetes",
          "Diabetes",
          "Diabetes",
          "Diabetes",
          "Diabetes",
          "Diabetes",
          "Diabetes",
          "Diabetes",
          "Diabetes",
          "Diabetes",
          "Diabetes",
          "Diabetes",
          "Diabetes",
          "Diabetes",
          "Diabetes",
          "Diabetes",
          "Diabetes",
          "Diabetes",
          "Diabetes",
          "Diabetes",
          "Diabetes",
          "Diabetes",
          "Diabetes",
          "Diabetes",
          "Diabetes",
          "Diabetes",
          "Diabetes",
          "Diabetes",
          "Diabetes",
          "Diabetes",
          "Diabetes",
          "Diabetes",
          "Diabetes",
          "Diabetes",
          "Diabetes",
          "Diabetes",
          "Diabetes",
          "Diabetes",
          "Diabetes",
          "Diabetes",
          "Diabetes",
          "Diabetes",
          "Diabetes",
          "Diabetes",
          "Diabetes",
          "Diabetes",
          "Diabetes",
          "Diabetes",
          "Diabetes",
          "Diabetes",
          "Diabetes",
          "Diabetes",
          "Diabetes",
          "Diabetes",
          "Diabetes",
          "Diabetes",
          "Diabetes",
          "Diabetes",
          "Diabetes",
          "Diabetes",
          "Diabetes",
          "Diabetes",
          "Diabetes",
          "Diabetes",
          "Diabetes",
          "Diabetes",
          "Diabetes",
          "Diabetes",
          "Diabetes",
          "Diabetes",
          "Diabetes",
          "Diabetes",
          "Diabetes",
          "Diabetes",
          "Diabetes",
          "Diabetes",
          "Diabetes",
          "Diabetes",
          "Diabetes",
          "Diabetes",
          "Diabetes",
          "Diabetes",
          "Diabetes",
          "Diabetes",
          "Diabetes",
          "Diabetes",
          "Diabetes",
          "Diabetes",
          "Diabetes",
          "Diabetes",
          "Diabetes",
          "Diabetes",
          "Diabetes",
          "Diabetes",
          "Diabetes",
          "Diabetes",
          "Diabetes",
          "Diabetes",
          "Diabetes",
          "Diabetes",
          "Diabetes",
          "Diabetes",
          "Diabetes",
          "Diabetes",
          "Diabetes",
          "Diabetes",
          "Diabetes",
          "Diabetes",
          "Diabetes",
          "Diabetes",
          "Diabetes",
          "Diabetes",
          "Diabetes",
          "Diabetes",
          "Diabetes",
          "Diabetes",
          "Diabetes",
          "Diabetes",
          "Diabetes",
          "Diabetes",
          "Diabetes",
          "Diabetes",
          "Diabetes",
          "Diabetes",
          "Diabetes",
          "Diabetes",
          "Diabetes",
          "Diabetes",
          "Diabetes",
          "Diabetes",
          "Diabetes",
          "Diabetes",
          "Diabetes",
          "Diabetes",
          "Diabetes",
          "Diabetes",
          "Diabetes",
          "Diabetes",
          "Diabetes",
          "Diabetes",
          "Diabetes",
          "Diabetes",
          "Diabetes",
          "Diabetes",
          "Diabetes",
          "Diabetes",
          "Diabetes",
          "Diabetes",
          "Diabetes",
          "Diabetes",
          "Diabetes",
          "Diabetes",
          "Diabetes",
          "Diabetes",
          "Diabetes",
          "Diabetes",
          "Diabetes",
          "Diabetes",
          "Diabetes",
          "Diabetes",
          "Diabetes",
          "Diabetes",
          "Diabetes",
          "Diabetes",
          "Diabetes",
          "Diabetes",
          "Diabetes",
          "Diabetes",
          "Diabetes",
          "Diabetes",
          "Diabetes",
          "Diabetes",
          "Diabetes",
          "Diabetes",
          "Diabetes",
          "Diabetes",
          "Diabetes",
          "Diabetes",
          "Diabetes",
          "Diabetes",
          "Diabetes",
          "Diabetes"
         ],
         "y0": " ",
         "yaxis": "y"
        },
        {
         "alignmentgroup": "True",
         "hovertemplate": "Outcome=%{y}<br>Insulin=%{x}<extra></extra>",
         "legendgroup": "No Diabetes",
         "marker": {
          "color": "#636EFA"
         },
         "name": "No Diabetes",
         "notched": false,
         "offsetgroup": "No Diabetes",
         "orientation": "h",
         "showlegend": true,
         "type": "box",
         "x": [
          0,
          94,
          0,
          0,
          0,
          0,
          83,
          235,
          0,
          140,
          110,
          0,
          0,
          54,
          0,
          0,
          192,
          0,
          70,
          0,
          0,
          0,
          0,
          0,
          0,
          82,
          36,
          23,
          342,
          0,
          110,
          0,
          142,
          0,
          0,
          128,
          0,
          0,
          38,
          100,
          140,
          270,
          0,
          0,
          0,
          0,
          0,
          0,
          0,
          71,
          0,
          125,
          0,
          71,
          0,
          0,
          176,
          48,
          64,
          228,
          0,
          76,
          64,
          0,
          0,
          40,
          0,
          152,
          0,
          140,
          18,
          37,
          0,
          0,
          0,
          51,
          0,
          100,
          0,
          135,
          94,
          0,
          49,
          140,
          50,
          92,
          0,
          325,
          0,
          0,
          63,
          284,
          0,
          0,
          119,
          0,
          0,
          204,
          0,
          485,
          94,
          135,
          53,
          0,
          105,
          285,
          0,
          0,
          0,
          0,
          78,
          0,
          48,
          55,
          0,
          0,
          0,
          92,
          23,
          0,
          0,
          0,
          94,
          0,
          0,
          0,
          0,
          0,
          44,
          190,
          0,
          87,
          0,
          0,
          0,
          120,
          0,
          190,
          56,
          32,
          0,
          744,
          53,
          37,
          0,
          45,
          0,
          0,
          88,
          194,
          0,
          680,
          402,
          0,
          0,
          0,
          55,
          0,
          0,
          0,
          375,
          130,
          0,
          0,
          67,
          0,
          0,
          56,
          0,
          45,
          0,
          57,
          116,
          0,
          278,
          122,
          155,
          135,
          545,
          49,
          75,
          40,
          0,
          120,
          215,
          0,
          42,
          0,
          105,
          148,
          0,
          148,
          85,
          94,
          64,
          140,
          231,
          0,
          168,
          0,
          68,
          0,
          52,
          0,
          58,
          255,
          0,
          105,
          73,
          0,
          0,
          0,
          108,
          83,
          0,
          74,
          0,
          0,
          0,
          43,
          0,
          54,
          0,
          0,
          293,
          83,
          0,
          66,
          89,
          66,
          94,
          158,
          84,
          75,
          72,
          82,
          0,
          182,
          59,
          110,
          50,
          81,
          196,
          415,
          87,
          275,
          115,
          0,
          0,
          0,
          165,
          0,
          0,
          176,
          310,
          61,
          0,
          0,
          170,
          76,
          78,
          0,
          0,
          145,
          0,
          85,
          60,
          0,
          0,
          0,
          0,
          0,
          0,
          50,
          120,
          70,
          92,
          63,
          95,
          210,
          0,
          105,
          0,
          71,
          60,
          56,
          0,
          49,
          0,
          0,
          105,
          36,
          100,
          140,
          0,
          0,
          0,
          0,
          0,
          0,
          110,
          75,
          0,
          0,
          49,
          125,
          480,
          265,
          0,
          0,
          66,
          0,
          0,
          0,
          0,
          0,
          76,
          193,
          71,
          0,
          79,
          0,
          0,
          170,
          76,
          0,
          210,
          0,
          0,
          86,
          0,
          0,
          326,
          66,
          130,
          0,
          0,
          0,
          82,
          105,
          188,
          0,
          106,
          0,
          65,
          0,
          56,
          0,
          0,
          210,
          56,
          76,
          166,
          67,
          0,
          0,
          106,
          0,
          44,
          115,
          215,
          0,
          0,
          0,
          0,
          77,
          54,
          0,
          88,
          18,
          126,
          126,
          0,
          0,
          44,
          120,
          330,
          63,
          130,
          0,
          0,
          0,
          0,
          0,
          0,
          0,
          140,
          115,
          230,
          0,
          25,
          120,
          0,
          0,
          0,
          0,
          41,
          272,
          182,
          158,
          0,
          0,
          0,
          15,
          160,
          0,
          0,
          115,
          0,
          54,
          0,
          0,
          0,
          0,
          90,
          0,
          183,
          0,
          0,
          66,
          46,
          105,
          0,
          0,
          152,
          440,
          0,
          100,
          106,
          77,
          0,
          135,
          90,
          200,
          0,
          0,
          132,
          190,
          100,
          168,
          0,
          49,
          240,
          0,
          0,
          265,
          45,
          105,
          0,
          205,
          0,
          0,
          180,
          0,
          95,
          0,
          0,
          155,
          0,
          200,
          0,
          100,
          0,
          335,
          387,
          22,
          291,
          0,
          0,
          178,
          0,
          200,
          105,
          0,
          0,
          180,
          0,
          0,
          0,
          165,
          0,
          0,
          120,
          0,
          160,
          94,
          116,
          140,
          105,
          57,
          74,
          0,
          0,
          0,
          16,
          0,
          180,
          0,
          112,
          0
         ],
         "x0": " ",
         "xaxis": "x",
         "y": [
          "No Diabetes",
          "No Diabetes",
          "No Diabetes",
          "No Diabetes",
          "No Diabetes",
          "No Diabetes",
          "No Diabetes",
          "No Diabetes",
          "No Diabetes",
          "No Diabetes",
          "No Diabetes",
          "No Diabetes",
          "No Diabetes",
          "No Diabetes",
          "No Diabetes",
          "No Diabetes",
          "No Diabetes",
          "No Diabetes",
          "No Diabetes",
          "No Diabetes",
          "No Diabetes",
          "No Diabetes",
          "No Diabetes",
          "No Diabetes",
          "No Diabetes",
          "No Diabetes",
          "No Diabetes",
          "No Diabetes",
          "No Diabetes",
          "No Diabetes",
          "No Diabetes",
          "No Diabetes",
          "No Diabetes",
          "No Diabetes",
          "No Diabetes",
          "No Diabetes",
          "No Diabetes",
          "No Diabetes",
          "No Diabetes",
          "No Diabetes",
          "No Diabetes",
          "No Diabetes",
          "No Diabetes",
          "No Diabetes",
          "No Diabetes",
          "No Diabetes",
          "No Diabetes",
          "No Diabetes",
          "No Diabetes",
          "No Diabetes",
          "No Diabetes",
          "No Diabetes",
          "No Diabetes",
          "No Diabetes",
          "No Diabetes",
          "No Diabetes",
          "No Diabetes",
          "No Diabetes",
          "No Diabetes",
          "No Diabetes",
          "No Diabetes",
          "No Diabetes",
          "No Diabetes",
          "No Diabetes",
          "No Diabetes",
          "No Diabetes",
          "No Diabetes",
          "No Diabetes",
          "No Diabetes",
          "No Diabetes",
          "No Diabetes",
          "No Diabetes",
          "No Diabetes",
          "No Diabetes",
          "No Diabetes",
          "No Diabetes",
          "No Diabetes",
          "No Diabetes",
          "No Diabetes",
          "No Diabetes",
          "No Diabetes",
          "No Diabetes",
          "No Diabetes",
          "No Diabetes",
          "No Diabetes",
          "No Diabetes",
          "No Diabetes",
          "No Diabetes",
          "No Diabetes",
          "No Diabetes",
          "No Diabetes",
          "No Diabetes",
          "No Diabetes",
          "No Diabetes",
          "No Diabetes",
          "No Diabetes",
          "No Diabetes",
          "No Diabetes",
          "No Diabetes",
          "No Diabetes",
          "No Diabetes",
          "No Diabetes",
          "No Diabetes",
          "No Diabetes",
          "No Diabetes",
          "No Diabetes",
          "No Diabetes",
          "No Diabetes",
          "No Diabetes",
          "No Diabetes",
          "No Diabetes",
          "No Diabetes",
          "No Diabetes",
          "No Diabetes",
          "No Diabetes",
          "No Diabetes",
          "No Diabetes",
          "No Diabetes",
          "No Diabetes",
          "No Diabetes",
          "No Diabetes",
          "No Diabetes",
          "No Diabetes",
          "No Diabetes",
          "No Diabetes",
          "No Diabetes",
          "No Diabetes",
          "No Diabetes",
          "No Diabetes",
          "No Diabetes",
          "No Diabetes",
          "No Diabetes",
          "No Diabetes",
          "No Diabetes",
          "No Diabetes",
          "No Diabetes",
          "No Diabetes",
          "No Diabetes",
          "No Diabetes",
          "No Diabetes",
          "No Diabetes",
          "No Diabetes",
          "No Diabetes",
          "No Diabetes",
          "No Diabetes",
          "No Diabetes",
          "No Diabetes",
          "No Diabetes",
          "No Diabetes",
          "No Diabetes",
          "No Diabetes",
          "No Diabetes",
          "No Diabetes",
          "No Diabetes",
          "No Diabetes",
          "No Diabetes",
          "No Diabetes",
          "No Diabetes",
          "No Diabetes",
          "No Diabetes",
          "No Diabetes",
          "No Diabetes",
          "No Diabetes",
          "No Diabetes",
          "No Diabetes",
          "No Diabetes",
          "No Diabetes",
          "No Diabetes",
          "No Diabetes",
          "No Diabetes",
          "No Diabetes",
          "No Diabetes",
          "No Diabetes",
          "No Diabetes",
          "No Diabetes",
          "No Diabetes",
          "No Diabetes",
          "No Diabetes",
          "No Diabetes",
          "No Diabetes",
          "No Diabetes",
          "No Diabetes",
          "No Diabetes",
          "No Diabetes",
          "No Diabetes",
          "No Diabetes",
          "No Diabetes",
          "No Diabetes",
          "No Diabetes",
          "No Diabetes",
          "No Diabetes",
          "No Diabetes",
          "No Diabetes",
          "No Diabetes",
          "No Diabetes",
          "No Diabetes",
          "No Diabetes",
          "No Diabetes",
          "No Diabetes",
          "No Diabetes",
          "No Diabetes",
          "No Diabetes",
          "No Diabetes",
          "No Diabetes",
          "No Diabetes",
          "No Diabetes",
          "No Diabetes",
          "No Diabetes",
          "No Diabetes",
          "No Diabetes",
          "No Diabetes",
          "No Diabetes",
          "No Diabetes",
          "No Diabetes",
          "No Diabetes",
          "No Diabetes",
          "No Diabetes",
          "No Diabetes",
          "No Diabetes",
          "No Diabetes",
          "No Diabetes",
          "No Diabetes",
          "No Diabetes",
          "No Diabetes",
          "No Diabetes",
          "No Diabetes",
          "No Diabetes",
          "No Diabetes",
          "No Diabetes",
          "No Diabetes",
          "No Diabetes",
          "No Diabetes",
          "No Diabetes",
          "No Diabetes",
          "No Diabetes",
          "No Diabetes",
          "No Diabetes",
          "No Diabetes",
          "No Diabetes",
          "No Diabetes",
          "No Diabetes",
          "No Diabetes",
          "No Diabetes",
          "No Diabetes",
          "No Diabetes",
          "No Diabetes",
          "No Diabetes",
          "No Diabetes",
          "No Diabetes",
          "No Diabetes",
          "No Diabetes",
          "No Diabetes",
          "No Diabetes",
          "No Diabetes",
          "No Diabetes",
          "No Diabetes",
          "No Diabetes",
          "No Diabetes",
          "No Diabetes",
          "No Diabetes",
          "No Diabetes",
          "No Diabetes",
          "No Diabetes",
          "No Diabetes",
          "No Diabetes",
          "No Diabetes",
          "No Diabetes",
          "No Diabetes",
          "No Diabetes",
          "No Diabetes",
          "No Diabetes",
          "No Diabetes",
          "No Diabetes",
          "No Diabetes",
          "No Diabetes",
          "No Diabetes",
          "No Diabetes",
          "No Diabetes",
          "No Diabetes",
          "No Diabetes",
          "No Diabetes",
          "No Diabetes",
          "No Diabetes",
          "No Diabetes",
          "No Diabetes",
          "No Diabetes",
          "No Diabetes",
          "No Diabetes",
          "No Diabetes",
          "No Diabetes",
          "No Diabetes",
          "No Diabetes",
          "No Diabetes",
          "No Diabetes",
          "No Diabetes",
          "No Diabetes",
          "No Diabetes",
          "No Diabetes",
          "No Diabetes",
          "No Diabetes",
          "No Diabetes",
          "No Diabetes",
          "No Diabetes",
          "No Diabetes",
          "No Diabetes",
          "No Diabetes",
          "No Diabetes",
          "No Diabetes",
          "No Diabetes",
          "No Diabetes",
          "No Diabetes",
          "No Diabetes",
          "No Diabetes",
          "No Diabetes",
          "No Diabetes",
          "No Diabetes",
          "No Diabetes",
          "No Diabetes",
          "No Diabetes",
          "No Diabetes",
          "No Diabetes",
          "No Diabetes",
          "No Diabetes",
          "No Diabetes",
          "No Diabetes",
          "No Diabetes",
          "No Diabetes",
          "No Diabetes",
          "No Diabetes",
          "No Diabetes",
          "No Diabetes",
          "No Diabetes",
          "No Diabetes",
          "No Diabetes",
          "No Diabetes",
          "No Diabetes",
          "No Diabetes",
          "No Diabetes",
          "No Diabetes",
          "No Diabetes",
          "No Diabetes",
          "No Diabetes",
          "No Diabetes",
          "No Diabetes",
          "No Diabetes",
          "No Diabetes",
          "No Diabetes",
          "No Diabetes",
          "No Diabetes",
          "No Diabetes",
          "No Diabetes",
          "No Diabetes",
          "No Diabetes",
          "No Diabetes",
          "No Diabetes",
          "No Diabetes",
          "No Diabetes",
          "No Diabetes",
          "No Diabetes",
          "No Diabetes",
          "No Diabetes",
          "No Diabetes",
          "No Diabetes",
          "No Diabetes",
          "No Diabetes",
          "No Diabetes",
          "No Diabetes",
          "No Diabetes",
          "No Diabetes",
          "No Diabetes",
          "No Diabetes",
          "No Diabetes",
          "No Diabetes",
          "No Diabetes",
          "No Diabetes",
          "No Diabetes",
          "No Diabetes",
          "No Diabetes",
          "No Diabetes",
          "No Diabetes",
          "No Diabetes",
          "No Diabetes",
          "No Diabetes",
          "No Diabetes",
          "No Diabetes",
          "No Diabetes",
          "No Diabetes",
          "No Diabetes",
          "No Diabetes",
          "No Diabetes",
          "No Diabetes",
          "No Diabetes",
          "No Diabetes",
          "No Diabetes",
          "No Diabetes",
          "No Diabetes",
          "No Diabetes",
          "No Diabetes",
          "No Diabetes",
          "No Diabetes",
          "No Diabetes",
          "No Diabetes",
          "No Diabetes",
          "No Diabetes",
          "No Diabetes",
          "No Diabetes",
          "No Diabetes",
          "No Diabetes",
          "No Diabetes",
          "No Diabetes",
          "No Diabetes",
          "No Diabetes",
          "No Diabetes",
          "No Diabetes",
          "No Diabetes",
          "No Diabetes",
          "No Diabetes",
          "No Diabetes",
          "No Diabetes",
          "No Diabetes",
          "No Diabetes",
          "No Diabetes",
          "No Diabetes",
          "No Diabetes",
          "No Diabetes",
          "No Diabetes",
          "No Diabetes",
          "No Diabetes",
          "No Diabetes",
          "No Diabetes",
          "No Diabetes",
          "No Diabetes",
          "No Diabetes",
          "No Diabetes",
          "No Diabetes",
          "No Diabetes",
          "No Diabetes",
          "No Diabetes",
          "No Diabetes",
          "No Diabetes",
          "No Diabetes",
          "No Diabetes",
          "No Diabetes",
          "No Diabetes",
          "No Diabetes",
          "No Diabetes",
          "No Diabetes",
          "No Diabetes",
          "No Diabetes",
          "No Diabetes",
          "No Diabetes",
          "No Diabetes",
          "No Diabetes",
          "No Diabetes",
          "No Diabetes",
          "No Diabetes",
          "No Diabetes",
          "No Diabetes",
          "No Diabetes",
          "No Diabetes",
          "No Diabetes",
          "No Diabetes",
          "No Diabetes",
          "No Diabetes",
          "No Diabetes",
          "No Diabetes",
          "No Diabetes",
          "No Diabetes",
          "No Diabetes",
          "No Diabetes",
          "No Diabetes",
          "No Diabetes",
          "No Diabetes",
          "No Diabetes",
          "No Diabetes",
          "No Diabetes",
          "No Diabetes",
          "No Diabetes",
          "No Diabetes",
          "No Diabetes",
          "No Diabetes",
          "No Diabetes",
          "No Diabetes",
          "No Diabetes",
          "No Diabetes",
          "No Diabetes",
          "No Diabetes",
          "No Diabetes",
          "No Diabetes",
          "No Diabetes",
          "No Diabetes",
          "No Diabetes",
          "No Diabetes",
          "No Diabetes",
          "No Diabetes",
          "No Diabetes",
          "No Diabetes",
          "No Diabetes",
          "No Diabetes",
          "No Diabetes"
         ],
         "y0": " ",
         "yaxis": "y"
        }
       ],
       "layout": {
        "boxmode": "overlay",
        "legend": {
         "title": {
          "text": "Outcome"
         },
         "tracegroupgap": 0
        },
        "template": {
         "data": {
          "bar": [
           {
            "error_x": {
             "color": "#2a3f5f"
            },
            "error_y": {
             "color": "#2a3f5f"
            },
            "marker": {
             "line": {
              "color": "#E5ECF6",
              "width": 0.5
             },
             "pattern": {
              "fillmode": "overlay",
              "size": 10,
              "solidity": 0.2
             }
            },
            "type": "bar"
           }
          ],
          "barpolar": [
           {
            "marker": {
             "line": {
              "color": "#E5ECF6",
              "width": 0.5
             },
             "pattern": {
              "fillmode": "overlay",
              "size": 10,
              "solidity": 0.2
             }
            },
            "type": "barpolar"
           }
          ],
          "carpet": [
           {
            "aaxis": {
             "endlinecolor": "#2a3f5f",
             "gridcolor": "white",
             "linecolor": "white",
             "minorgridcolor": "white",
             "startlinecolor": "#2a3f5f"
            },
            "baxis": {
             "endlinecolor": "#2a3f5f",
             "gridcolor": "white",
             "linecolor": "white",
             "minorgridcolor": "white",
             "startlinecolor": "#2a3f5f"
            },
            "type": "carpet"
           }
          ],
          "choropleth": [
           {
            "colorbar": {
             "outlinewidth": 0,
             "ticks": ""
            },
            "type": "choropleth"
           }
          ],
          "contour": [
           {
            "colorbar": {
             "outlinewidth": 0,
             "ticks": ""
            },
            "colorscale": [
             [
              0,
              "#0d0887"
             ],
             [
              0.1111111111111111,
              "#46039f"
             ],
             [
              0.2222222222222222,
              "#7201a8"
             ],
             [
              0.3333333333333333,
              "#9c179e"
             ],
             [
              0.4444444444444444,
              "#bd3786"
             ],
             [
              0.5555555555555556,
              "#d8576b"
             ],
             [
              0.6666666666666666,
              "#ed7953"
             ],
             [
              0.7777777777777778,
              "#fb9f3a"
             ],
             [
              0.8888888888888888,
              "#fdca26"
             ],
             [
              1,
              "#f0f921"
             ]
            ],
            "type": "contour"
           }
          ],
          "contourcarpet": [
           {
            "colorbar": {
             "outlinewidth": 0,
             "ticks": ""
            },
            "type": "contourcarpet"
           }
          ],
          "heatmap": [
           {
            "colorbar": {
             "outlinewidth": 0,
             "ticks": ""
            },
            "colorscale": [
             [
              0,
              "#0d0887"
             ],
             [
              0.1111111111111111,
              "#46039f"
             ],
             [
              0.2222222222222222,
              "#7201a8"
             ],
             [
              0.3333333333333333,
              "#9c179e"
             ],
             [
              0.4444444444444444,
              "#bd3786"
             ],
             [
              0.5555555555555556,
              "#d8576b"
             ],
             [
              0.6666666666666666,
              "#ed7953"
             ],
             [
              0.7777777777777778,
              "#fb9f3a"
             ],
             [
              0.8888888888888888,
              "#fdca26"
             ],
             [
              1,
              "#f0f921"
             ]
            ],
            "type": "heatmap"
           }
          ],
          "heatmapgl": [
           {
            "colorbar": {
             "outlinewidth": 0,
             "ticks": ""
            },
            "colorscale": [
             [
              0,
              "#0d0887"
             ],
             [
              0.1111111111111111,
              "#46039f"
             ],
             [
              0.2222222222222222,
              "#7201a8"
             ],
             [
              0.3333333333333333,
              "#9c179e"
             ],
             [
              0.4444444444444444,
              "#bd3786"
             ],
             [
              0.5555555555555556,
              "#d8576b"
             ],
             [
              0.6666666666666666,
              "#ed7953"
             ],
             [
              0.7777777777777778,
              "#fb9f3a"
             ],
             [
              0.8888888888888888,
              "#fdca26"
             ],
             [
              1,
              "#f0f921"
             ]
            ],
            "type": "heatmapgl"
           }
          ],
          "histogram": [
           {
            "marker": {
             "pattern": {
              "fillmode": "overlay",
              "size": 10,
              "solidity": 0.2
             }
            },
            "type": "histogram"
           }
          ],
          "histogram2d": [
           {
            "colorbar": {
             "outlinewidth": 0,
             "ticks": ""
            },
            "colorscale": [
             [
              0,
              "#0d0887"
             ],
             [
              0.1111111111111111,
              "#46039f"
             ],
             [
              0.2222222222222222,
              "#7201a8"
             ],
             [
              0.3333333333333333,
              "#9c179e"
             ],
             [
              0.4444444444444444,
              "#bd3786"
             ],
             [
              0.5555555555555556,
              "#d8576b"
             ],
             [
              0.6666666666666666,
              "#ed7953"
             ],
             [
              0.7777777777777778,
              "#fb9f3a"
             ],
             [
              0.8888888888888888,
              "#fdca26"
             ],
             [
              1,
              "#f0f921"
             ]
            ],
            "type": "histogram2d"
           }
          ],
          "histogram2dcontour": [
           {
            "colorbar": {
             "outlinewidth": 0,
             "ticks": ""
            },
            "colorscale": [
             [
              0,
              "#0d0887"
             ],
             [
              0.1111111111111111,
              "#46039f"
             ],
             [
              0.2222222222222222,
              "#7201a8"
             ],
             [
              0.3333333333333333,
              "#9c179e"
             ],
             [
              0.4444444444444444,
              "#bd3786"
             ],
             [
              0.5555555555555556,
              "#d8576b"
             ],
             [
              0.6666666666666666,
              "#ed7953"
             ],
             [
              0.7777777777777778,
              "#fb9f3a"
             ],
             [
              0.8888888888888888,
              "#fdca26"
             ],
             [
              1,
              "#f0f921"
             ]
            ],
            "type": "histogram2dcontour"
           }
          ],
          "mesh3d": [
           {
            "colorbar": {
             "outlinewidth": 0,
             "ticks": ""
            },
            "type": "mesh3d"
           }
          ],
          "parcoords": [
           {
            "line": {
             "colorbar": {
              "outlinewidth": 0,
              "ticks": ""
             }
            },
            "type": "parcoords"
           }
          ],
          "pie": [
           {
            "automargin": true,
            "type": "pie"
           }
          ],
          "scatter": [
           {
            "fillpattern": {
             "fillmode": "overlay",
             "size": 10,
             "solidity": 0.2
            },
            "type": "scatter"
           }
          ],
          "scatter3d": [
           {
            "line": {
             "colorbar": {
              "outlinewidth": 0,
              "ticks": ""
             }
            },
            "marker": {
             "colorbar": {
              "outlinewidth": 0,
              "ticks": ""
             }
            },
            "type": "scatter3d"
           }
          ],
          "scattercarpet": [
           {
            "marker": {
             "colorbar": {
              "outlinewidth": 0,
              "ticks": ""
             }
            },
            "type": "scattercarpet"
           }
          ],
          "scattergeo": [
           {
            "marker": {
             "colorbar": {
              "outlinewidth": 0,
              "ticks": ""
             }
            },
            "type": "scattergeo"
           }
          ],
          "scattergl": [
           {
            "marker": {
             "colorbar": {
              "outlinewidth": 0,
              "ticks": ""
             }
            },
            "type": "scattergl"
           }
          ],
          "scattermapbox": [
           {
            "marker": {
             "colorbar": {
              "outlinewidth": 0,
              "ticks": ""
             }
            },
            "type": "scattermapbox"
           }
          ],
          "scatterpolar": [
           {
            "marker": {
             "colorbar": {
              "outlinewidth": 0,
              "ticks": ""
             }
            },
            "type": "scatterpolar"
           }
          ],
          "scatterpolargl": [
           {
            "marker": {
             "colorbar": {
              "outlinewidth": 0,
              "ticks": ""
             }
            },
            "type": "scatterpolargl"
           }
          ],
          "scatterternary": [
           {
            "marker": {
             "colorbar": {
              "outlinewidth": 0,
              "ticks": ""
             }
            },
            "type": "scatterternary"
           }
          ],
          "surface": [
           {
            "colorbar": {
             "outlinewidth": 0,
             "ticks": ""
            },
            "colorscale": [
             [
              0,
              "#0d0887"
             ],
             [
              0.1111111111111111,
              "#46039f"
             ],
             [
              0.2222222222222222,
              "#7201a8"
             ],
             [
              0.3333333333333333,
              "#9c179e"
             ],
             [
              0.4444444444444444,
              "#bd3786"
             ],
             [
              0.5555555555555556,
              "#d8576b"
             ],
             [
              0.6666666666666666,
              "#ed7953"
             ],
             [
              0.7777777777777778,
              "#fb9f3a"
             ],
             [
              0.8888888888888888,
              "#fdca26"
             ],
             [
              1,
              "#f0f921"
             ]
            ],
            "type": "surface"
           }
          ],
          "table": [
           {
            "cells": {
             "fill": {
              "color": "#EBF0F8"
             },
             "line": {
              "color": "white"
             }
            },
            "header": {
             "fill": {
              "color": "#C8D4E3"
             },
             "line": {
              "color": "white"
             }
            },
            "type": "table"
           }
          ]
         },
         "layout": {
          "annotationdefaults": {
           "arrowcolor": "#2a3f5f",
           "arrowhead": 0,
           "arrowwidth": 1
          },
          "autotypenumbers": "strict",
          "coloraxis": {
           "colorbar": {
            "outlinewidth": 0,
            "ticks": ""
           }
          },
          "colorscale": {
           "diverging": [
            [
             0,
             "#8e0152"
            ],
            [
             0.1,
             "#c51b7d"
            ],
            [
             0.2,
             "#de77ae"
            ],
            [
             0.3,
             "#f1b6da"
            ],
            [
             0.4,
             "#fde0ef"
            ],
            [
             0.5,
             "#f7f7f7"
            ],
            [
             0.6,
             "#e6f5d0"
            ],
            [
             0.7,
             "#b8e186"
            ],
            [
             0.8,
             "#7fbc41"
            ],
            [
             0.9,
             "#4d9221"
            ],
            [
             1,
             "#276419"
            ]
           ],
           "sequential": [
            [
             0,
             "#0d0887"
            ],
            [
             0.1111111111111111,
             "#46039f"
            ],
            [
             0.2222222222222222,
             "#7201a8"
            ],
            [
             0.3333333333333333,
             "#9c179e"
            ],
            [
             0.4444444444444444,
             "#bd3786"
            ],
            [
             0.5555555555555556,
             "#d8576b"
            ],
            [
             0.6666666666666666,
             "#ed7953"
            ],
            [
             0.7777777777777778,
             "#fb9f3a"
            ],
            [
             0.8888888888888888,
             "#fdca26"
            ],
            [
             1,
             "#f0f921"
            ]
           ],
           "sequentialminus": [
            [
             0,
             "#0d0887"
            ],
            [
             0.1111111111111111,
             "#46039f"
            ],
            [
             0.2222222222222222,
             "#7201a8"
            ],
            [
             0.3333333333333333,
             "#9c179e"
            ],
            [
             0.4444444444444444,
             "#bd3786"
            ],
            [
             0.5555555555555556,
             "#d8576b"
            ],
            [
             0.6666666666666666,
             "#ed7953"
            ],
            [
             0.7777777777777778,
             "#fb9f3a"
            ],
            [
             0.8888888888888888,
             "#fdca26"
            ],
            [
             1,
             "#f0f921"
            ]
           ]
          },
          "colorway": [
           "#636efa",
           "#EF553B",
           "#00cc96",
           "#ab63fa",
           "#FFA15A",
           "#19d3f3",
           "#FF6692",
           "#B6E880",
           "#FF97FF",
           "#FECB52"
          ],
          "font": {
           "color": "#2a3f5f"
          },
          "geo": {
           "bgcolor": "white",
           "lakecolor": "white",
           "landcolor": "#E5ECF6",
           "showlakes": true,
           "showland": true,
           "subunitcolor": "white"
          },
          "hoverlabel": {
           "align": "left"
          },
          "hovermode": "closest",
          "mapbox": {
           "style": "light"
          },
          "paper_bgcolor": "white",
          "plot_bgcolor": "#E5ECF6",
          "polar": {
           "angularaxis": {
            "gridcolor": "white",
            "linecolor": "white",
            "ticks": ""
           },
           "bgcolor": "#E5ECF6",
           "radialaxis": {
            "gridcolor": "white",
            "linecolor": "white",
            "ticks": ""
           }
          },
          "scene": {
           "xaxis": {
            "backgroundcolor": "#E5ECF6",
            "gridcolor": "white",
            "gridwidth": 2,
            "linecolor": "white",
            "showbackground": true,
            "ticks": "",
            "zerolinecolor": "white"
           },
           "yaxis": {
            "backgroundcolor": "#E5ECF6",
            "gridcolor": "white",
            "gridwidth": 2,
            "linecolor": "white",
            "showbackground": true,
            "ticks": "",
            "zerolinecolor": "white"
           },
           "zaxis": {
            "backgroundcolor": "#E5ECF6",
            "gridcolor": "white",
            "gridwidth": 2,
            "linecolor": "white",
            "showbackground": true,
            "ticks": "",
            "zerolinecolor": "white"
           }
          },
          "shapedefaults": {
           "line": {
            "color": "#2a3f5f"
           }
          },
          "ternary": {
           "aaxis": {
            "gridcolor": "white",
            "linecolor": "white",
            "ticks": ""
           },
           "baxis": {
            "gridcolor": "white",
            "linecolor": "white",
            "ticks": ""
           },
           "bgcolor": "#E5ECF6",
           "caxis": {
            "gridcolor": "white",
            "linecolor": "white",
            "ticks": ""
           }
          },
          "title": {
           "x": 0.05
          },
          "xaxis": {
           "automargin": true,
           "gridcolor": "white",
           "linecolor": "white",
           "ticks": "",
           "title": {
            "standoff": 15
           },
           "zerolinecolor": "white",
           "zerolinewidth": 2
          },
          "yaxis": {
           "automargin": true,
           "gridcolor": "white",
           "linecolor": "white",
           "ticks": "",
           "title": {
            "standoff": 15
           },
           "zerolinecolor": "white",
           "zerolinewidth": 2
          }
         }
        },
        "title": {
         "text": "Insulin by Outcome"
        },
        "xaxis": {
         "anchor": "y",
         "domain": [
          0,
          1
         ],
         "title": {
          "text": "Outcome"
         }
        },
        "yaxis": {
         "anchor": "x",
         "categoryarray": [
          "No Diabetes",
          "Diabetes"
         ],
         "categoryorder": "array",
         "domain": [
          0,
          1
         ],
         "title": {
          "text": "Outcome"
         }
        }
       }
      }
     },
     "metadata": {},
     "output_type": "display_data"
    }
   ],
   "source": [
    "fig = px.box(df_plot, y='Outcome', x='Insulin', \n",
    "             color='Outcome',\n",
    "             color_discrete_map=color_discrete_map,\n",
    "             title='Insulin by Outcome',\n",
    "             labels={'Outcome': 'Outcome', 'Insulin': 'Insulin'})\n",
    "fig.update_layout(xaxis=dict(title='Outcome'))\n",
    "\n",
    "# Show the plot\n",
    "fig.show()"
   ]
  },
  {
   "cell_type": "markdown",
   "metadata": {},
   "source": [
    "#### BMI"
   ]
  },
  {
   "cell_type": "code",
   "execution_count": 19,
   "metadata": {},
   "outputs": [
    {
     "data": {
      "application/vnd.plotly.v1+json": {
       "config": {
        "plotlyServerURL": "https://plot.ly"
       },
       "data": [
        {
         "colorscale": [
          [
           0,
           "rgb(255,196,18)"
          ],
          [
           0.21,
           "rgb(255,196,18)"
          ],
          [
           0.21,
           "rgb(18,203,198)"
          ],
          [
           0.43,
           "rgb(18,203,198)"
          ],
          [
           0.43,
           "rgb(24,134,169)"
          ],
          [
           0.6,
           "rgb(24,134,169)"
          ],
          [
           0.6,
           "rgb(242,73,104)"
          ],
          [
           0.93,
           "rgb(242,73,104)"
          ],
          [
           0.93,
           "rgb(181,53,114)"
          ],
          [
           1,
           "rgb(181,53,114)"
          ]
         ],
         "hovertemplate": "Height: %{y} cm <br>Weight: %{x} kg <br>BMI: %{z} <extra></extra>",
         "showscale": false,
         "type": "heatmap",
         "x": [
          45.5,
          47.7,
          50,
          52.3,
          54.5,
          56.8,
          59.1,
          61.4,
          63.6,
          65.9,
          68.2,
          70.5,
          72.7,
          75,
          77.3,
          79.5,
          81.8,
          84.1,
          86.4,
          88.6,
          90.9,
          93.2,
          95.5,
          97.7
         ],
         "xgap": 3,
         "y": [
          193,
          190.5,
          187.9,
          185.4,
          182.8,
          180.3,
          177.8,
          175.2,
          172.7,
          170.1,
          167.6,
          165.1,
          162.5,
          160,
          157.4,
          154.9,
          152.4
         ],
         "ygap": 3,
         "z": [
          [
           12,
           12,
           12,
           13,
           13,
           14,
           14,
           14,
           15,
           15,
           16,
           16,
           17,
           17,
           18,
           18.5,
           19
          ],
          [
           12,
           13,
           13,
           13,
           14,
           14,
           15,
           15,
           16,
           16,
           17,
           17,
           18,
           18,
           19,
           19,
           20
          ],
          [
           13,
           13,
           14,
           14,
           14,
           15,
           15,
           16,
           16,
           17,
           17,
           18,
           18,
           19,
           20,
           20,
           21
          ],
          [
           14,
           14,
           14,
           15,
           15,
           16,
           16,
           17,
           17,
           18,
           18,
           19,
           19,
           20,
           21,
           21,
           22
          ],
          [
           14,
           15,
           15,
           15,
           16,
           16,
           17,
           17,
           18,
           18,
           19,
           20,
           20,
           21,
           22,
           22,
           23
          ],
          [
           15,
           15,
           16,
           16,
           17,
           17,
           18,
           18,
           19,
           19,
           20,
           20,
           21,
           22,
           22,
           23,
           24
          ],
          [
           15,
           16,
           16,
           17,
           17,
           18,
           18,
           19,
           19,
           20,
           21,
           21,
           22,
           23,
           23,
           24,
           25
          ],
          [
           16,
           16,
           17,
           17,
           18,
           18,
           19,
           20,
           20,
           21,
           21,
           22,
           23,
           24,
           24,
           25,
           26
          ],
          [
           17,
           17,
           18,
           18,
           19,
           19,
           20,
           20,
           21,
           22,
           22,
           23,
           24,
           24,
           25,
           26,
           27
          ],
          [
           17,
           18,
           18,
           19,
           19,
           20,
           20,
           21,
           22,
           22,
           23,
           24,
           24,
           25,
           26,
           27,
           28
          ],
          [
           18,
           18,
           19,
           19,
           20,
           21,
           21,
           22,
           22,
           23,
           24,
           25,
           25,
           26,
           27,
           28,
           29
          ],
          [
           18,
           19,
           19,
           20,
           21,
           21,
           22,
           22,
           23,
           24,
           25,
           25,
           26,
           27,
           28,
           29,
           30
          ],
          [
           19,
           20,
           20,
           21,
           21,
           22,
           23,
           23,
           24,
           25,
           25,
           26,
           27,
           28,
           29,
           30,
           31
          ],
          [
           20,
           20,
           21,
           21,
           22,
           23,
           23,
           24,
           25,
           25,
           26,
           27,
           28,
           29,
           30,
           31,
           32
          ],
          [
           20,
           21,
           21,
           22,
           23,
           23,
           24,
           25,
           25,
           26,
           27,
           28,
           29,
           30,
           31,
           32,
           33
          ],
          [
           21,
           21,
           22,
           23,
           23,
           24,
           25,
           25,
           26,
           27,
           28,
           29,
           30,
           31,
           32,
           33,
           34
          ],
          [
           22,
           22,
           23,
           23,
           24,
           25,
           25,
           26,
           27,
           28,
           29,
           30,
           31,
           32,
           33,
           34,
           35
          ],
          [
           22,
           23,
           24,
           25,
           25,
           26,
           27,
           28,
           28,
           29,
           30,
           31,
           32,
           33,
           34,
           35,
           36
          ],
          [
           23,
           23,
           24,
           25,
           25,
           26,
           27,
           28,
           28,
           29,
           30,
           31,
           32,
           33,
           34,
           36,
           37
          ],
          [
           23,
           24,
           25,
           25,
           26,
           27,
           28,
           28,
           29,
           30,
           31,
           32,
           33,
           34,
           35,
           36,
           38
          ],
          [
           24,
           25,
           25,
           26,
           27,
           28,
           28,
           29,
           30,
           31,
           32,
           33,
           34,
           35,
           36,
           37,
           39
          ],
          [
           25,
           25,
           26,
           27,
           27,
           28,
           29,
           30,
           31,
           32,
           33,
           34,
           35,
           36,
           37,
           38,
           40
          ],
          [
           25,
           26,
           27,
           27,
           28,
           29,
           30,
           31,
           32,
           33,
           34,
           35,
           36,
           37,
           38,
           39,
           41
          ],
          [
           26,
           26,
           27,
           28,
           29,
           30,
           30,
           31,
           32,
           33,
           34,
           35,
           37,
           38,
           39,
           40,
           42
          ]
         ]
        }
       ],
       "layout": {
        "height": 600,
        "legend": {
         "font": {
          "color": "#3d4465",
          "size": 14
         },
         "orientation": "h",
         "x": 0.18,
         "y": 1.05,
         "yanchor": "bottom"
        },
        "margin": {
         "t": 20
        },
        "paper_bgcolor": "rgb(251,251,253)",
        "plot_bgcolor": "rgb(251,251,253)",
        "template": {
         "data": {
          "bar": [
           {
            "error_x": {
             "color": "#2a3f5f"
            },
            "error_y": {
             "color": "#2a3f5f"
            },
            "marker": {
             "line": {
              "color": "#E5ECF6",
              "width": 0.5
             },
             "pattern": {
              "fillmode": "overlay",
              "size": 10,
              "solidity": 0.2
             }
            },
            "type": "bar"
           }
          ],
          "barpolar": [
           {
            "marker": {
             "line": {
              "color": "#E5ECF6",
              "width": 0.5
             },
             "pattern": {
              "fillmode": "overlay",
              "size": 10,
              "solidity": 0.2
             }
            },
            "type": "barpolar"
           }
          ],
          "carpet": [
           {
            "aaxis": {
             "endlinecolor": "#2a3f5f",
             "gridcolor": "white",
             "linecolor": "white",
             "minorgridcolor": "white",
             "startlinecolor": "#2a3f5f"
            },
            "baxis": {
             "endlinecolor": "#2a3f5f",
             "gridcolor": "white",
             "linecolor": "white",
             "minorgridcolor": "white",
             "startlinecolor": "#2a3f5f"
            },
            "type": "carpet"
           }
          ],
          "choropleth": [
           {
            "colorbar": {
             "outlinewidth": 0,
             "ticks": ""
            },
            "type": "choropleth"
           }
          ],
          "contour": [
           {
            "colorbar": {
             "outlinewidth": 0,
             "ticks": ""
            },
            "colorscale": [
             [
              0,
              "#0d0887"
             ],
             [
              0.1111111111111111,
              "#46039f"
             ],
             [
              0.2222222222222222,
              "#7201a8"
             ],
             [
              0.3333333333333333,
              "#9c179e"
             ],
             [
              0.4444444444444444,
              "#bd3786"
             ],
             [
              0.5555555555555556,
              "#d8576b"
             ],
             [
              0.6666666666666666,
              "#ed7953"
             ],
             [
              0.7777777777777778,
              "#fb9f3a"
             ],
             [
              0.8888888888888888,
              "#fdca26"
             ],
             [
              1,
              "#f0f921"
             ]
            ],
            "type": "contour"
           }
          ],
          "contourcarpet": [
           {
            "colorbar": {
             "outlinewidth": 0,
             "ticks": ""
            },
            "type": "contourcarpet"
           }
          ],
          "heatmap": [
           {
            "colorbar": {
             "outlinewidth": 0,
             "ticks": ""
            },
            "colorscale": [
             [
              0,
              "#0d0887"
             ],
             [
              0.1111111111111111,
              "#46039f"
             ],
             [
              0.2222222222222222,
              "#7201a8"
             ],
             [
              0.3333333333333333,
              "#9c179e"
             ],
             [
              0.4444444444444444,
              "#bd3786"
             ],
             [
              0.5555555555555556,
              "#d8576b"
             ],
             [
              0.6666666666666666,
              "#ed7953"
             ],
             [
              0.7777777777777778,
              "#fb9f3a"
             ],
             [
              0.8888888888888888,
              "#fdca26"
             ],
             [
              1,
              "#f0f921"
             ]
            ],
            "type": "heatmap"
           }
          ],
          "heatmapgl": [
           {
            "colorbar": {
             "outlinewidth": 0,
             "ticks": ""
            },
            "colorscale": [
             [
              0,
              "#0d0887"
             ],
             [
              0.1111111111111111,
              "#46039f"
             ],
             [
              0.2222222222222222,
              "#7201a8"
             ],
             [
              0.3333333333333333,
              "#9c179e"
             ],
             [
              0.4444444444444444,
              "#bd3786"
             ],
             [
              0.5555555555555556,
              "#d8576b"
             ],
             [
              0.6666666666666666,
              "#ed7953"
             ],
             [
              0.7777777777777778,
              "#fb9f3a"
             ],
             [
              0.8888888888888888,
              "#fdca26"
             ],
             [
              1,
              "#f0f921"
             ]
            ],
            "type": "heatmapgl"
           }
          ],
          "histogram": [
           {
            "marker": {
             "pattern": {
              "fillmode": "overlay",
              "size": 10,
              "solidity": 0.2
             }
            },
            "type": "histogram"
           }
          ],
          "histogram2d": [
           {
            "colorbar": {
             "outlinewidth": 0,
             "ticks": ""
            },
            "colorscale": [
             [
              0,
              "#0d0887"
             ],
             [
              0.1111111111111111,
              "#46039f"
             ],
             [
              0.2222222222222222,
              "#7201a8"
             ],
             [
              0.3333333333333333,
              "#9c179e"
             ],
             [
              0.4444444444444444,
              "#bd3786"
             ],
             [
              0.5555555555555556,
              "#d8576b"
             ],
             [
              0.6666666666666666,
              "#ed7953"
             ],
             [
              0.7777777777777778,
              "#fb9f3a"
             ],
             [
              0.8888888888888888,
              "#fdca26"
             ],
             [
              1,
              "#f0f921"
             ]
            ],
            "type": "histogram2d"
           }
          ],
          "histogram2dcontour": [
           {
            "colorbar": {
             "outlinewidth": 0,
             "ticks": ""
            },
            "colorscale": [
             [
              0,
              "#0d0887"
             ],
             [
              0.1111111111111111,
              "#46039f"
             ],
             [
              0.2222222222222222,
              "#7201a8"
             ],
             [
              0.3333333333333333,
              "#9c179e"
             ],
             [
              0.4444444444444444,
              "#bd3786"
             ],
             [
              0.5555555555555556,
              "#d8576b"
             ],
             [
              0.6666666666666666,
              "#ed7953"
             ],
             [
              0.7777777777777778,
              "#fb9f3a"
             ],
             [
              0.8888888888888888,
              "#fdca26"
             ],
             [
              1,
              "#f0f921"
             ]
            ],
            "type": "histogram2dcontour"
           }
          ],
          "mesh3d": [
           {
            "colorbar": {
             "outlinewidth": 0,
             "ticks": ""
            },
            "type": "mesh3d"
           }
          ],
          "parcoords": [
           {
            "line": {
             "colorbar": {
              "outlinewidth": 0,
              "ticks": ""
             }
            },
            "type": "parcoords"
           }
          ],
          "pie": [
           {
            "automargin": true,
            "type": "pie"
           }
          ],
          "scatter": [
           {
            "fillpattern": {
             "fillmode": "overlay",
             "size": 10,
             "solidity": 0.2
            },
            "type": "scatter"
           }
          ],
          "scatter3d": [
           {
            "line": {
             "colorbar": {
              "outlinewidth": 0,
              "ticks": ""
             }
            },
            "marker": {
             "colorbar": {
              "outlinewidth": 0,
              "ticks": ""
             }
            },
            "type": "scatter3d"
           }
          ],
          "scattercarpet": [
           {
            "marker": {
             "colorbar": {
              "outlinewidth": 0,
              "ticks": ""
             }
            },
            "type": "scattercarpet"
           }
          ],
          "scattergeo": [
           {
            "marker": {
             "colorbar": {
              "outlinewidth": 0,
              "ticks": ""
             }
            },
            "type": "scattergeo"
           }
          ],
          "scattergl": [
           {
            "marker": {
             "colorbar": {
              "outlinewidth": 0,
              "ticks": ""
             }
            },
            "type": "scattergl"
           }
          ],
          "scattermapbox": [
           {
            "marker": {
             "colorbar": {
              "outlinewidth": 0,
              "ticks": ""
             }
            },
            "type": "scattermapbox"
           }
          ],
          "scatterpolar": [
           {
            "marker": {
             "colorbar": {
              "outlinewidth": 0,
              "ticks": ""
             }
            },
            "type": "scatterpolar"
           }
          ],
          "scatterpolargl": [
           {
            "marker": {
             "colorbar": {
              "outlinewidth": 0,
              "ticks": ""
             }
            },
            "type": "scatterpolargl"
           }
          ],
          "scatterternary": [
           {
            "marker": {
             "colorbar": {
              "outlinewidth": 0,
              "ticks": ""
             }
            },
            "type": "scatterternary"
           }
          ],
          "surface": [
           {
            "colorbar": {
             "outlinewidth": 0,
             "ticks": ""
            },
            "colorscale": [
             [
              0,
              "#0d0887"
             ],
             [
              0.1111111111111111,
              "#46039f"
             ],
             [
              0.2222222222222222,
              "#7201a8"
             ],
             [
              0.3333333333333333,
              "#9c179e"
             ],
             [
              0.4444444444444444,
              "#bd3786"
             ],
             [
              0.5555555555555556,
              "#d8576b"
             ],
             [
              0.6666666666666666,
              "#ed7953"
             ],
             [
              0.7777777777777778,
              "#fb9f3a"
             ],
             [
              0.8888888888888888,
              "#fdca26"
             ],
             [
              1,
              "#f0f921"
             ]
            ],
            "type": "surface"
           }
          ],
          "table": [
           {
            "cells": {
             "fill": {
              "color": "#EBF0F8"
             },
             "line": {
              "color": "white"
             }
            },
            "header": {
             "fill": {
              "color": "#C8D4E3"
             },
             "line": {
              "color": "white"
             }
            },
            "type": "table"
           }
          ]
         },
         "layout": {
          "annotationdefaults": {
           "arrowcolor": "#2a3f5f",
           "arrowhead": 0,
           "arrowwidth": 1
          },
          "autotypenumbers": "strict",
          "coloraxis": {
           "colorbar": {
            "outlinewidth": 0,
            "ticks": ""
           }
          },
          "colorscale": {
           "diverging": [
            [
             0,
             "#8e0152"
            ],
            [
             0.1,
             "#c51b7d"
            ],
            [
             0.2,
             "#de77ae"
            ],
            [
             0.3,
             "#f1b6da"
            ],
            [
             0.4,
             "#fde0ef"
            ],
            [
             0.5,
             "#f7f7f7"
            ],
            [
             0.6,
             "#e6f5d0"
            ],
            [
             0.7,
             "#b8e186"
            ],
            [
             0.8,
             "#7fbc41"
            ],
            [
             0.9,
             "#4d9221"
            ],
            [
             1,
             "#276419"
            ]
           ],
           "sequential": [
            [
             0,
             "#0d0887"
            ],
            [
             0.1111111111111111,
             "#46039f"
            ],
            [
             0.2222222222222222,
             "#7201a8"
            ],
            [
             0.3333333333333333,
             "#9c179e"
            ],
            [
             0.4444444444444444,
             "#bd3786"
            ],
            [
             0.5555555555555556,
             "#d8576b"
            ],
            [
             0.6666666666666666,
             "#ed7953"
            ],
            [
             0.7777777777777778,
             "#fb9f3a"
            ],
            [
             0.8888888888888888,
             "#fdca26"
            ],
            [
             1,
             "#f0f921"
            ]
           ],
           "sequentialminus": [
            [
             0,
             "#0d0887"
            ],
            [
             0.1111111111111111,
             "#46039f"
            ],
            [
             0.2222222222222222,
             "#7201a8"
            ],
            [
             0.3333333333333333,
             "#9c179e"
            ],
            [
             0.4444444444444444,
             "#bd3786"
            ],
            [
             0.5555555555555556,
             "#d8576b"
            ],
            [
             0.6666666666666666,
             "#ed7953"
            ],
            [
             0.7777777777777778,
             "#fb9f3a"
            ],
            [
             0.8888888888888888,
             "#fdca26"
            ],
            [
             1,
             "#f0f921"
            ]
           ]
          },
          "colorway": [
           "#636efa",
           "#EF553B",
           "#00cc96",
           "#ab63fa",
           "#FFA15A",
           "#19d3f3",
           "#FF6692",
           "#B6E880",
           "#FF97FF",
           "#FECB52"
          ],
          "font": {
           "color": "#2a3f5f"
          },
          "geo": {
           "bgcolor": "white",
           "lakecolor": "white",
           "landcolor": "#E5ECF6",
           "showlakes": true,
           "showland": true,
           "subunitcolor": "white"
          },
          "hoverlabel": {
           "align": "left"
          },
          "hovermode": "closest",
          "mapbox": {
           "style": "light"
          },
          "paper_bgcolor": "white",
          "plot_bgcolor": "#E5ECF6",
          "polar": {
           "angularaxis": {
            "gridcolor": "white",
            "linecolor": "white",
            "ticks": ""
           },
           "bgcolor": "#E5ECF6",
           "radialaxis": {
            "gridcolor": "white",
            "linecolor": "white",
            "ticks": ""
           }
          },
          "scene": {
           "xaxis": {
            "backgroundcolor": "#E5ECF6",
            "gridcolor": "white",
            "gridwidth": 2,
            "linecolor": "white",
            "showbackground": true,
            "ticks": "",
            "zerolinecolor": "white"
           },
           "yaxis": {
            "backgroundcolor": "#E5ECF6",
            "gridcolor": "white",
            "gridwidth": 2,
            "linecolor": "white",
            "showbackground": true,
            "ticks": "",
            "zerolinecolor": "white"
           },
           "zaxis": {
            "backgroundcolor": "#E5ECF6",
            "gridcolor": "white",
            "gridwidth": 2,
            "linecolor": "white",
            "showbackground": true,
            "ticks": "",
            "zerolinecolor": "white"
           }
          },
          "shapedefaults": {
           "line": {
            "color": "#2a3f5f"
           }
          },
          "ternary": {
           "aaxis": {
            "gridcolor": "white",
            "linecolor": "white",
            "ticks": ""
           },
           "baxis": {
            "gridcolor": "white",
            "linecolor": "white",
            "ticks": ""
           },
           "bgcolor": "#E5ECF6",
           "caxis": {
            "gridcolor": "white",
            "linecolor": "white",
            "ticks": ""
           }
          },
          "title": {
           "x": 0.05
          },
          "xaxis": {
           "automargin": true,
           "gridcolor": "white",
           "linecolor": "white",
           "ticks": "",
           "title": {
            "standoff": 15
           },
           "zerolinecolor": "white",
           "zerolinewidth": 2
          },
          "yaxis": {
           "automargin": true,
           "gridcolor": "white",
           "linecolor": "white",
           "ticks": "",
           "title": {
            "standoff": 15
           },
           "zerolinecolor": "white",
           "zerolinewidth": 2
          }
         }
        },
        "xaxis": {
         "range": [
          43,
          100
         ],
         "tickfont": {
          "color": "rgb(107, 107, 107)",
          "size": 14
         },
         "title": {
          "text": "Weight (kg)"
         }
        },
        "yaxis": {
         "autorange": "reversed",
         "range": [
          152.4,
          193
         ],
         "tickfont": {
          "color": "rgb(107, 107, 107)",
          "size": 14
         },
         "title": {
          "text": "Height (cm)"
         }
        }
       }
      }
     },
     "metadata": {},
     "output_type": "display_data"
    }
   ],
   "source": [
    "# Create data for the heatmap\n",
    "z_data = [\n",
    "    [12, 12, 12, 13, 13, 14, 14, 14, 15, 15, 16, 16, 17, 17, 18, 18.5, 19],\n",
    "    [12, 13, 13, 13, 14, 14, 15, 15, 16, 16, 17, 17, 18, 18, 19, 19, 20],\n",
    "    [13, 13, 14, 14, 14, 15, 15, 16, 16, 17, 17, 18, 18, 19, 20, 20, 21],\n",
    "    [14, 14, 14, 15, 15, 16, 16, 17, 17, 18, 18, 19, 19, 20, 21, 21, 22],\n",
    "    [14, 15, 15, 15, 16, 16, 17, 17, 18, 18, 19, 20, 20, 21, 22, 22, 23],\n",
    "    [15, 15, 16, 16, 17, 17, 18, 18, 19, 19, 20, 20, 21, 22, 22, 23, 24],\n",
    "    [15, 16, 16, 17, 17, 18, 18, 19, 19, 20, 21, 21, 22, 23, 23, 24, 25],\n",
    "    [16, 16, 17, 17, 18, 18, 19, 20, 20, 21, 21, 22, 23, 24, 24, 25, 26],\n",
    "    [17, 17, 18, 18, 19, 19, 20, 20, 21, 22, 22, 23, 24, 24, 25, 26, 27],\n",
    "    [17, 18, 18, 19, 19, 20, 20, 21, 22, 22, 23, 24, 24, 25, 26, 27, 28],\n",
    "    [18, 18, 19, 19, 20, 21, 21, 22, 22, 23, 24, 25, 25, 26, 27, 28, 29],\n",
    "    [18, 19, 19, 20, 21, 21, 22, 22, 23, 24, 25, 25, 26, 27, 28, 29, 30],\n",
    "    [19, 20, 20, 21, 21, 22, 23, 23, 24, 25, 25, 26, 27, 28, 29, 30, 31],\n",
    "    [20, 20, 21, 21, 22, 23, 23, 24, 25, 25, 26, 27, 28, 29, 30, 31, 32],\n",
    "    [20, 21, 21, 22, 23, 23, 24, 25, 25, 26, 27, 28, 29, 30, 31, 32, 33],\n",
    "    [21, 21, 22, 23, 23, 24, 25, 25, 26, 27, 28, 29, 30, 31, 32, 33, 34],\n",
    "    [22, 22, 23, 23, 24, 25, 25, 26, 27, 28, 29, 30, 31, 32, 33, 34, 35],\n",
    "    [22, 23, 24, 25, 25, 26, 27, 28, 28, 29, 30, 31, 32, 33, 34, 35, 36],\n",
    "    [23, 23, 24, 25, 25, 26, 27, 28, 28, 29, 30, 31, 32, 33, 34, 36, 37],\n",
    "    [23, 24, 25, 25, 26, 27, 28, 28, 29, 30, 31, 32, 33, 34, 35, 36, 38],\n",
    "    [24, 25, 25, 26, 27, 28, 28, 29, 30, 31, 32, 33, 34, 35, 36, 37, 39],\n",
    "    [25, 25, 26, 27, 27, 28, 29, 30, 31, 32, 33, 34, 35, 36, 37, 38, 40],\n",
    "    [25, 26, 27, 27, 28, 29, 30, 31, 32, 33, 34, 35, 36, 37, 38, 39, 41],\n",
    "    [26, 26, 27, 28, 29, 30, 30, 31, 32, 33, 34, 35, 37, 38, 39, 40, 42]\n",
    "]\n",
    "\n",
    "x_data = [45.5, 47.7, 50, 52.3, 54.5, 56.8, 59.1, 61.4, 63.6, 65.9, 68.2, 70.5, 72.7, 75, 77.3, 79.5, 81.8, 84.1, 86.4, 88.6, 90.9, 93.2, 95.5, 97.7]\n",
    "y_data = [193, 190.5, 187.9, 185.4, 182.8, 180.3, 177.8, 175.2, 172.7, 170.1, 167.6, 165.1, 162.5, 160, 157.4, 154.9, 152.4]\n",
    "\n",
    "# Create the heatmap trace\n",
    "heatmap_trace = go.Heatmap(\n",
    "    z=z_data,\n",
    "    x=x_data,\n",
    "    y=y_data,\n",
    "    colorscale=[\n",
    "        [0, \"rgb(255,196,18)\"],\n",
    "        [0.21, \"rgb(255,196,18)\"],\n",
    "        [0.21, \"rgb(18,203,198)\"],\n",
    "        [0.43, \"rgb(18,203,198)\"],\n",
    "        [0.43, \"rgb(24,134,169)\"],\n",
    "        [0.6, \"rgb(24,134,169)\"],\n",
    "        [0.6, \"rgb(242,73,104)\"],\n",
    "        [0.93, \"rgb(242,73,104)\"],\n",
    "        [0.93, \"rgb(181,53,114)\"],\n",
    "        [1, \"rgb(181,53,114)\"]\n",
    "    ],\n",
    "    xgap=3,\n",
    "    ygap=3,\n",
    "    hovertemplate=\"Height: %{y} cm <br>Weight: %{x} kg <br>BMI: %{z} <extra></extra>\",\n",
    "    showscale=False\n",
    ")\n",
    "\n",
    "# Layout for the heatmap\n",
    "heatmap_layout = go.Layout(\n",
    "    height=600,\n",
    "    yaxis=dict(title=\"Height (cm)\", autorange=\"reversed\", tickfont=dict(size=14, color=\"rgb(107, 107, 107)\")),\n",
    "    xaxis=dict(title=\"Weight (kg)\", tickfont=dict(size=14, color=\"rgb(107, 107, 107)\")),\n",
    "    plot_bgcolor=\"rgb(251,251,253)\",\n",
    "    paper_bgcolor=\"rgb(251,251,253)\",\n",
    "    margin=dict(t=20),\n",
    "    legend=dict(orientation=\"h\", yanchor=\"bottom\", y=1.05, x=0.18, font=dict(size=14, color=\"#3d4465\")),\n",
    "    xaxis_range=[43, 100],\n",
    "    yaxis_range=[152.4, 193]\n",
    ")\n",
    "\n",
    "# Create the figure\n",
    "fig = go.Figure(data=[heatmap_trace], layout=heatmap_layout)\n",
    "\n",
    "# Display the figure\n",
    "fig.show()"
   ]
  },
  {
   "cell_type": "code",
   "execution_count": null,
   "metadata": {},
   "outputs": [],
   "source": []
  },
  {
   "cell_type": "markdown",
   "metadata": {},
   "source": [
    "#### Age"
   ]
  },
  {
   "cell_type": "code",
   "execution_count": 20,
   "metadata": {},
   "outputs": [
    {
     "data": {
      "application/vnd.plotly.v1+json": {
       "config": {
        "plotlyServerURL": "https://plot.ly"
       },
       "data": [
        {
         "alignmentgroup": "True",
         "bingroup": "x",
         "hovertemplate": "Age=%{x}<br>count=%{y}<extra></extra>",
         "legendgroup": "",
         "marker": {
          "color": "#00CC96",
          "pattern": {
           "shape": ""
          }
         },
         "name": "",
         "offsetgroup": "",
         "orientation": "v",
         "showlegend": false,
         "type": "histogram",
         "x": [
          50,
          31,
          32,
          21,
          33,
          30,
          26,
          29,
          53,
          54,
          30,
          34,
          57,
          59,
          51,
          32,
          31,
          31,
          33,
          32,
          27,
          50,
          41,
          29,
          51,
          41,
          43,
          22,
          57,
          38,
          60,
          28,
          22,
          28,
          45,
          33,
          35,
          46,
          27,
          56,
          26,
          37,
          48,
          54,
          40,
          25,
          29,
          22,
          31,
          24,
          22,
          26,
          30,
          58,
          42,
          21,
          41,
          31,
          44,
          22,
          21,
          39,
          36,
          24,
          42,
          32,
          38,
          54,
          25,
          27,
          28,
          26,
          42,
          23,
          22,
          22,
          41,
          27,
          26,
          24,
          22,
          22,
          36,
          22,
          37,
          27,
          45,
          26,
          43,
          24,
          21,
          34,
          42,
          60,
          21,
          40,
          24,
          22,
          23,
          31,
          33,
          22,
          21,
          24,
          27,
          21,
          27,
          37,
          25,
          24,
          24,
          46,
          23,
          25,
          39,
          61,
          38,
          25,
          22,
          21,
          25,
          24,
          23,
          69,
          23,
          26,
          30,
          23,
          40,
          62,
          33,
          33,
          30,
          39,
          26,
          31,
          21,
          22,
          29,
          28,
          55,
          38,
          22,
          42,
          23,
          21,
          41,
          34,
          65,
          22,
          24,
          37,
          42,
          23,
          43,
          36,
          21,
          23,
          22,
          47,
          36,
          45,
          27,
          21,
          32,
          41,
          22,
          34,
          29,
          29,
          36,
          29,
          25,
          23,
          33,
          36,
          42,
          26,
          47,
          37,
          32,
          23,
          21,
          27,
          40,
          41,
          60,
          33,
          31,
          25,
          21,
          40,
          36,
          40,
          42,
          29,
          21,
          23,
          26,
          29,
          21,
          28,
          32,
          27,
          55,
          27,
          57,
          52,
          21,
          41,
          25,
          24,
          60,
          24,
          36,
          38,
          25,
          32,
          32,
          41,
          21,
          66,
          37,
          61,
          26,
          22,
          26,
          24,
          31,
          24,
          22,
          46,
          22,
          29,
          23,
          26,
          51,
          23,
          32,
          27,
          21,
          22,
          22,
          33,
          29,
          49,
          41,
          23,
          34,
          23,
          42,
          27,
          24,
          25,
          44,
          21,
          30,
          25,
          24,
          51,
          34,
          27,
          24,
          63,
          35,
          43,
          25,
          24,
          21,
          28,
          38,
          21,
          40,
          21,
          52,
          25,
          29,
          23,
          57,
          22,
          28,
          39,
          37,
          47,
          52,
          51,
          34,
          29,
          26,
          33,
          21,
          25,
          31,
          24,
          65,
          28,
          29,
          24,
          46,
          58,
          30,
          25,
          35,
          28,
          37,
          29,
          47,
          21,
          25,
          30,
          41,
          22,
          27,
          25,
          43,
          26,
          30,
          29,
          28,
          59,
          31,
          25,
          36,
          43,
          21,
          24,
          30,
          37,
          23,
          37,
          46,
          25,
          41,
          44,
          22,
          26,
          44,
          44,
          33,
          41,
          22,
          36,
          22,
          33,
          57,
          49,
          22,
          23,
          26,
          37,
          29,
          30,
          46,
          24,
          21,
          49,
          28,
          44,
          48,
          29,
          29,
          63,
          65,
          67,
          30,
          30,
          29,
          21,
          22,
          45,
          25,
          21,
          21,
          25,
          28,
          58,
          22,
          22,
          32,
          35,
          24,
          22,
          21,
          25,
          25,
          24,
          35,
          45,
          58,
          28,
          42,
          27,
          21,
          37,
          31,
          25,
          39,
          22,
          25,
          25,
          31,
          55,
          35,
          38,
          41,
          26,
          46,
          25,
          39,
          28,
          28,
          25,
          22,
          21,
          21,
          22,
          22,
          37,
          27,
          28,
          26,
          21,
          21,
          21,
          36,
          31,
          25,
          38,
          26,
          43,
          23,
          38,
          22,
          29,
          36,
          29,
          41,
          28,
          21,
          31,
          41,
          22,
          24,
          33,
          30,
          25,
          28,
          26,
          22,
          26,
          23,
          23,
          25,
          72,
          24,
          38,
          62,
          24,
          51,
          81,
          48,
          26,
          39,
          37,
          34,
          21,
          22,
          25,
          38,
          27,
          28,
          22,
          22,
          50,
          24,
          59,
          29,
          31,
          39,
          63,
          35,
          29,
          28,
          23,
          31,
          24,
          21,
          58,
          28,
          67,
          24,
          42,
          33,
          45,
          22,
          66,
          30,
          25,
          55,
          39,
          21,
          28,
          41,
          41,
          40,
          38,
          35,
          21,
          21,
          64,
          46,
          21,
          58,
          22,
          24,
          28,
          53,
          51,
          41,
          60,
          25,
          26,
          26,
          45,
          24,
          21,
          21,
          24,
          22,
          31,
          22,
          24,
          29,
          31,
          24,
          23,
          46,
          67,
          23,
          32,
          43,
          27,
          56,
          25,
          29,
          37,
          53,
          28,
          50,
          37,
          21,
          25,
          66,
          23,
          28,
          37,
          30,
          58,
          42,
          35,
          54,
          28,
          24,
          32,
          27,
          22,
          21,
          46,
          37,
          33,
          39,
          21,
          22,
          22,
          23,
          25,
          35,
          21,
          36,
          62,
          21,
          27,
          62,
          42,
          52,
          22,
          41,
          29,
          52,
          25,
          45,
          24,
          44,
          25,
          34,
          22,
          46,
          21,
          38,
          26,
          24,
          28,
          30,
          54,
          36,
          21,
          22,
          25,
          27,
          23,
          24,
          36,
          40,
          26,
          50,
          27,
          30,
          23,
          50,
          24,
          28,
          28,
          45,
          21,
          21,
          29,
          21,
          21,
          45,
          21,
          34,
          24,
          23,
          22,
          31,
          38,
          48,
          23,
          32,
          28,
          27,
          24,
          50,
          31,
          27,
          30,
          33,
          22,
          42,
          23,
          23,
          27,
          28,
          27,
          22,
          25,
          22,
          41,
          51,
          27,
          54,
          22,
          43,
          40,
          40,
          24,
          70,
          40,
          43,
          45,
          49,
          21,
          47,
          22,
          68,
          31,
          53,
          25,
          25,
          23,
          22,
          26,
          22,
          27,
          69,
          25,
          22,
          29,
          23,
          46,
          34,
          44,
          23,
          43,
          25,
          43,
          31,
          22,
          28,
          26,
          26,
          49,
          52,
          41,
          27,
          28,
          30,
          22,
          45,
          23,
          24,
          40,
          38,
          21,
          32,
          34,
          31,
          56,
          24,
          52,
          34,
          21,
          42,
          42,
          45,
          38,
          25,
          22,
          22,
          22,
          34,
          22,
          24,
          22,
          53,
          28,
          21,
          42,
          21,
          42,
          48,
          26,
          22,
          45,
          39,
          46,
          27,
          32,
          36,
          50,
          22,
          28,
          25,
          26,
          45,
          37,
          39,
          52,
          26,
          66,
          22,
          43,
          33,
          63,
          27,
          30,
          47,
          23
         ],
         "xaxis": "x",
         "yaxis": "y"
        }
       ],
       "layout": {
        "barmode": "relative",
        "legend": {
         "tracegroupgap": 0
        },
        "template": {
         "data": {
          "bar": [
           {
            "error_x": {
             "color": "#2a3f5f"
            },
            "error_y": {
             "color": "#2a3f5f"
            },
            "marker": {
             "line": {
              "color": "#E5ECF6",
              "width": 0.5
             },
             "pattern": {
              "fillmode": "overlay",
              "size": 10,
              "solidity": 0.2
             }
            },
            "type": "bar"
           }
          ],
          "barpolar": [
           {
            "marker": {
             "line": {
              "color": "#E5ECF6",
              "width": 0.5
             },
             "pattern": {
              "fillmode": "overlay",
              "size": 10,
              "solidity": 0.2
             }
            },
            "type": "barpolar"
           }
          ],
          "carpet": [
           {
            "aaxis": {
             "endlinecolor": "#2a3f5f",
             "gridcolor": "white",
             "linecolor": "white",
             "minorgridcolor": "white",
             "startlinecolor": "#2a3f5f"
            },
            "baxis": {
             "endlinecolor": "#2a3f5f",
             "gridcolor": "white",
             "linecolor": "white",
             "minorgridcolor": "white",
             "startlinecolor": "#2a3f5f"
            },
            "type": "carpet"
           }
          ],
          "choropleth": [
           {
            "colorbar": {
             "outlinewidth": 0,
             "ticks": ""
            },
            "type": "choropleth"
           }
          ],
          "contour": [
           {
            "colorbar": {
             "outlinewidth": 0,
             "ticks": ""
            },
            "colorscale": [
             [
              0,
              "#0d0887"
             ],
             [
              0.1111111111111111,
              "#46039f"
             ],
             [
              0.2222222222222222,
              "#7201a8"
             ],
             [
              0.3333333333333333,
              "#9c179e"
             ],
             [
              0.4444444444444444,
              "#bd3786"
             ],
             [
              0.5555555555555556,
              "#d8576b"
             ],
             [
              0.6666666666666666,
              "#ed7953"
             ],
             [
              0.7777777777777778,
              "#fb9f3a"
             ],
             [
              0.8888888888888888,
              "#fdca26"
             ],
             [
              1,
              "#f0f921"
             ]
            ],
            "type": "contour"
           }
          ],
          "contourcarpet": [
           {
            "colorbar": {
             "outlinewidth": 0,
             "ticks": ""
            },
            "type": "contourcarpet"
           }
          ],
          "heatmap": [
           {
            "colorbar": {
             "outlinewidth": 0,
             "ticks": ""
            },
            "colorscale": [
             [
              0,
              "#0d0887"
             ],
             [
              0.1111111111111111,
              "#46039f"
             ],
             [
              0.2222222222222222,
              "#7201a8"
             ],
             [
              0.3333333333333333,
              "#9c179e"
             ],
             [
              0.4444444444444444,
              "#bd3786"
             ],
             [
              0.5555555555555556,
              "#d8576b"
             ],
             [
              0.6666666666666666,
              "#ed7953"
             ],
             [
              0.7777777777777778,
              "#fb9f3a"
             ],
             [
              0.8888888888888888,
              "#fdca26"
             ],
             [
              1,
              "#f0f921"
             ]
            ],
            "type": "heatmap"
           }
          ],
          "heatmapgl": [
           {
            "colorbar": {
             "outlinewidth": 0,
             "ticks": ""
            },
            "colorscale": [
             [
              0,
              "#0d0887"
             ],
             [
              0.1111111111111111,
              "#46039f"
             ],
             [
              0.2222222222222222,
              "#7201a8"
             ],
             [
              0.3333333333333333,
              "#9c179e"
             ],
             [
              0.4444444444444444,
              "#bd3786"
             ],
             [
              0.5555555555555556,
              "#d8576b"
             ],
             [
              0.6666666666666666,
              "#ed7953"
             ],
             [
              0.7777777777777778,
              "#fb9f3a"
             ],
             [
              0.8888888888888888,
              "#fdca26"
             ],
             [
              1,
              "#f0f921"
             ]
            ],
            "type": "heatmapgl"
           }
          ],
          "histogram": [
           {
            "marker": {
             "pattern": {
              "fillmode": "overlay",
              "size": 10,
              "solidity": 0.2
             }
            },
            "type": "histogram"
           }
          ],
          "histogram2d": [
           {
            "colorbar": {
             "outlinewidth": 0,
             "ticks": ""
            },
            "colorscale": [
             [
              0,
              "#0d0887"
             ],
             [
              0.1111111111111111,
              "#46039f"
             ],
             [
              0.2222222222222222,
              "#7201a8"
             ],
             [
              0.3333333333333333,
              "#9c179e"
             ],
             [
              0.4444444444444444,
              "#bd3786"
             ],
             [
              0.5555555555555556,
              "#d8576b"
             ],
             [
              0.6666666666666666,
              "#ed7953"
             ],
             [
              0.7777777777777778,
              "#fb9f3a"
             ],
             [
              0.8888888888888888,
              "#fdca26"
             ],
             [
              1,
              "#f0f921"
             ]
            ],
            "type": "histogram2d"
           }
          ],
          "histogram2dcontour": [
           {
            "colorbar": {
             "outlinewidth": 0,
             "ticks": ""
            },
            "colorscale": [
             [
              0,
              "#0d0887"
             ],
             [
              0.1111111111111111,
              "#46039f"
             ],
             [
              0.2222222222222222,
              "#7201a8"
             ],
             [
              0.3333333333333333,
              "#9c179e"
             ],
             [
              0.4444444444444444,
              "#bd3786"
             ],
             [
              0.5555555555555556,
              "#d8576b"
             ],
             [
              0.6666666666666666,
              "#ed7953"
             ],
             [
              0.7777777777777778,
              "#fb9f3a"
             ],
             [
              0.8888888888888888,
              "#fdca26"
             ],
             [
              1,
              "#f0f921"
             ]
            ],
            "type": "histogram2dcontour"
           }
          ],
          "mesh3d": [
           {
            "colorbar": {
             "outlinewidth": 0,
             "ticks": ""
            },
            "type": "mesh3d"
           }
          ],
          "parcoords": [
           {
            "line": {
             "colorbar": {
              "outlinewidth": 0,
              "ticks": ""
             }
            },
            "type": "parcoords"
           }
          ],
          "pie": [
           {
            "automargin": true,
            "type": "pie"
           }
          ],
          "scatter": [
           {
            "fillpattern": {
             "fillmode": "overlay",
             "size": 10,
             "solidity": 0.2
            },
            "type": "scatter"
           }
          ],
          "scatter3d": [
           {
            "line": {
             "colorbar": {
              "outlinewidth": 0,
              "ticks": ""
             }
            },
            "marker": {
             "colorbar": {
              "outlinewidth": 0,
              "ticks": ""
             }
            },
            "type": "scatter3d"
           }
          ],
          "scattercarpet": [
           {
            "marker": {
             "colorbar": {
              "outlinewidth": 0,
              "ticks": ""
             }
            },
            "type": "scattercarpet"
           }
          ],
          "scattergeo": [
           {
            "marker": {
             "colorbar": {
              "outlinewidth": 0,
              "ticks": ""
             }
            },
            "type": "scattergeo"
           }
          ],
          "scattergl": [
           {
            "marker": {
             "colorbar": {
              "outlinewidth": 0,
              "ticks": ""
             }
            },
            "type": "scattergl"
           }
          ],
          "scattermapbox": [
           {
            "marker": {
             "colorbar": {
              "outlinewidth": 0,
              "ticks": ""
             }
            },
            "type": "scattermapbox"
           }
          ],
          "scatterpolar": [
           {
            "marker": {
             "colorbar": {
              "outlinewidth": 0,
              "ticks": ""
             }
            },
            "type": "scatterpolar"
           }
          ],
          "scatterpolargl": [
           {
            "marker": {
             "colorbar": {
              "outlinewidth": 0,
              "ticks": ""
             }
            },
            "type": "scatterpolargl"
           }
          ],
          "scatterternary": [
           {
            "marker": {
             "colorbar": {
              "outlinewidth": 0,
              "ticks": ""
             }
            },
            "type": "scatterternary"
           }
          ],
          "surface": [
           {
            "colorbar": {
             "outlinewidth": 0,
             "ticks": ""
            },
            "colorscale": [
             [
              0,
              "#0d0887"
             ],
             [
              0.1111111111111111,
              "#46039f"
             ],
             [
              0.2222222222222222,
              "#7201a8"
             ],
             [
              0.3333333333333333,
              "#9c179e"
             ],
             [
              0.4444444444444444,
              "#bd3786"
             ],
             [
              0.5555555555555556,
              "#d8576b"
             ],
             [
              0.6666666666666666,
              "#ed7953"
             ],
             [
              0.7777777777777778,
              "#fb9f3a"
             ],
             [
              0.8888888888888888,
              "#fdca26"
             ],
             [
              1,
              "#f0f921"
             ]
            ],
            "type": "surface"
           }
          ],
          "table": [
           {
            "cells": {
             "fill": {
              "color": "#EBF0F8"
             },
             "line": {
              "color": "white"
             }
            },
            "header": {
             "fill": {
              "color": "#C8D4E3"
             },
             "line": {
              "color": "white"
             }
            },
            "type": "table"
           }
          ]
         },
         "layout": {
          "annotationdefaults": {
           "arrowcolor": "#2a3f5f",
           "arrowhead": 0,
           "arrowwidth": 1
          },
          "autotypenumbers": "strict",
          "coloraxis": {
           "colorbar": {
            "outlinewidth": 0,
            "ticks": ""
           }
          },
          "colorscale": {
           "diverging": [
            [
             0,
             "#8e0152"
            ],
            [
             0.1,
             "#c51b7d"
            ],
            [
             0.2,
             "#de77ae"
            ],
            [
             0.3,
             "#f1b6da"
            ],
            [
             0.4,
             "#fde0ef"
            ],
            [
             0.5,
             "#f7f7f7"
            ],
            [
             0.6,
             "#e6f5d0"
            ],
            [
             0.7,
             "#b8e186"
            ],
            [
             0.8,
             "#7fbc41"
            ],
            [
             0.9,
             "#4d9221"
            ],
            [
             1,
             "#276419"
            ]
           ],
           "sequential": [
            [
             0,
             "#0d0887"
            ],
            [
             0.1111111111111111,
             "#46039f"
            ],
            [
             0.2222222222222222,
             "#7201a8"
            ],
            [
             0.3333333333333333,
             "#9c179e"
            ],
            [
             0.4444444444444444,
             "#bd3786"
            ],
            [
             0.5555555555555556,
             "#d8576b"
            ],
            [
             0.6666666666666666,
             "#ed7953"
            ],
            [
             0.7777777777777778,
             "#fb9f3a"
            ],
            [
             0.8888888888888888,
             "#fdca26"
            ],
            [
             1,
             "#f0f921"
            ]
           ],
           "sequentialminus": [
            [
             0,
             "#0d0887"
            ],
            [
             0.1111111111111111,
             "#46039f"
            ],
            [
             0.2222222222222222,
             "#7201a8"
            ],
            [
             0.3333333333333333,
             "#9c179e"
            ],
            [
             0.4444444444444444,
             "#bd3786"
            ],
            [
             0.5555555555555556,
             "#d8576b"
            ],
            [
             0.6666666666666666,
             "#ed7953"
            ],
            [
             0.7777777777777778,
             "#fb9f3a"
            ],
            [
             0.8888888888888888,
             "#fdca26"
            ],
            [
             1,
             "#f0f921"
            ]
           ]
          },
          "colorway": [
           "#636efa",
           "#EF553B",
           "#00cc96",
           "#ab63fa",
           "#FFA15A",
           "#19d3f3",
           "#FF6692",
           "#B6E880",
           "#FF97FF",
           "#FECB52"
          ],
          "font": {
           "color": "#2a3f5f"
          },
          "geo": {
           "bgcolor": "white",
           "lakecolor": "white",
           "landcolor": "#E5ECF6",
           "showlakes": true,
           "showland": true,
           "subunitcolor": "white"
          },
          "hoverlabel": {
           "align": "left"
          },
          "hovermode": "closest",
          "mapbox": {
           "style": "light"
          },
          "paper_bgcolor": "white",
          "plot_bgcolor": "#E5ECF6",
          "polar": {
           "angularaxis": {
            "gridcolor": "white",
            "linecolor": "white",
            "ticks": ""
           },
           "bgcolor": "#E5ECF6",
           "radialaxis": {
            "gridcolor": "white",
            "linecolor": "white",
            "ticks": ""
           }
          },
          "scene": {
           "xaxis": {
            "backgroundcolor": "#E5ECF6",
            "gridcolor": "white",
            "gridwidth": 2,
            "linecolor": "white",
            "showbackground": true,
            "ticks": "",
            "zerolinecolor": "white"
           },
           "yaxis": {
            "backgroundcolor": "#E5ECF6",
            "gridcolor": "white",
            "gridwidth": 2,
            "linecolor": "white",
            "showbackground": true,
            "ticks": "",
            "zerolinecolor": "white"
           },
           "zaxis": {
            "backgroundcolor": "#E5ECF6",
            "gridcolor": "white",
            "gridwidth": 2,
            "linecolor": "white",
            "showbackground": true,
            "ticks": "",
            "zerolinecolor": "white"
           }
          },
          "shapedefaults": {
           "line": {
            "color": "#2a3f5f"
           }
          },
          "ternary": {
           "aaxis": {
            "gridcolor": "white",
            "linecolor": "white",
            "ticks": ""
           },
           "baxis": {
            "gridcolor": "white",
            "linecolor": "white",
            "ticks": ""
           },
           "bgcolor": "#E5ECF6",
           "caxis": {
            "gridcolor": "white",
            "linecolor": "white",
            "ticks": ""
           }
          },
          "title": {
           "x": 0.05
          },
          "xaxis": {
           "automargin": true,
           "gridcolor": "white",
           "linecolor": "white",
           "ticks": "",
           "title": {
            "standoff": 15
           },
           "zerolinecolor": "white",
           "zerolinewidth": 2
          },
          "yaxis": {
           "automargin": true,
           "gridcolor": "white",
           "linecolor": "white",
           "ticks": "",
           "title": {
            "standoff": 15
           },
           "zerolinecolor": "white",
           "zerolinewidth": 2
          }
         }
        },
        "title": {
         "text": "Age Distribution"
        },
        "xaxis": {
         "anchor": "y",
         "domain": [
          0,
          1
         ],
         "title": {
          "text": "Age"
         }
        },
        "yaxis": {
         "anchor": "x",
         "domain": [
          0,
          1
         ],
         "title": {
          "text": "Frequency"
         }
        }
       }
      }
     },
     "metadata": {},
     "output_type": "display_data"
    }
   ],
   "source": [
    "fig = px.histogram(df_plot, x = 'Age', title='Age Distribution', color_discrete_sequence=['#00CC96'])\n",
    "fig.update_layout(\n",
    "    yaxis=dict(title='Frequency')\n",
    ")\n",
    "fig.show()"
   ]
  },
  {
   "cell_type": "code",
   "execution_count": 21,
   "metadata": {},
   "outputs": [
    {
     "data": {
      "application/vnd.plotly.v1+json": {
       "config": {
        "plotlyServerURL": "https://plot.ly"
       },
       "data": [
        {
         "alignmentgroup": "True",
         "bingroup": "x",
         "hovertemplate": "Outcome=Diabetes<br>Age=%{x}<br>count=%{y}<extra></extra>",
         "legendgroup": "Diabetes",
         "marker": {
          "color": "#EF553B",
          "opacity": 0.8,
          "pattern": {
           "shape": ""
          }
         },
         "name": "Diabetes",
         "offsetgroup": "Diabetes",
         "orientation": "v",
         "showlegend": true,
         "type": "histogram",
         "x": [
          50,
          32,
          33,
          26,
          53,
          54,
          34,
          59,
          51,
          32,
          31,
          31,
          32,
          41,
          29,
          51,
          41,
          43,
          28,
          46,
          27,
          56,
          54,
          25,
          31,
          58,
          41,
          39,
          42,
          38,
          28,
          42,
          26,
          37,
          43,
          60,
          31,
          33,
          24,
          24,
          46,
          39,
          61,
          38,
          25,
          23,
          26,
          40,
          62,
          33,
          33,
          30,
          42,
          42,
          43,
          36,
          47,
          32,
          41,
          36,
          29,
          36,
          26,
          37,
          41,
          60,
          33,
          31,
          25,
          36,
          40,
          29,
          23,
          26,
          29,
          57,
          52,
          41,
          24,
          36,
          38,
          25,
          32,
          41,
          21,
          66,
          24,
          22,
          46,
          26,
          51,
          23,
          32,
          22,
          33,
          49,
          44,
          21,
          51,
          27,
          35,
          25,
          28,
          38,
          29,
          28,
          47,
          52,
          29,
          25,
          31,
          24,
          29,
          46,
          30,
          25,
          28,
          47,
          25,
          30,
          27,
          43,
          29,
          59,
          25,
          36,
          43,
          30,
          23,
          41,
          44,
          33,
          41,
          37,
          49,
          28,
          44,
          29,
          29,
          67,
          29,
          45,
          25,
          58,
          32,
          35,
          45,
          58,
          27,
          31,
          22,
          25,
          31,
          35,
          41,
          46,
          39,
          28,
          21,
          22,
          37,
          28,
          36,
          31,
          38,
          43,
          29,
          41,
          33,
          30,
          25,
          22,
          23,
          38,
          51,
          38,
          29,
          35,
          31,
          24,
          45,
          55,
          41,
          35,
          46,
          28,
          53,
          45,
          23,
          32,
          43,
          27,
          56,
          37,
          53,
          54,
          28,
          33,
          21,
          62,
          21,
          52,
          41,
          52,
          45,
          44,
          22,
          38,
          54,
          36,
          22,
          36,
          40,
          50,
          50,
          24,
          34,
          38,
          32,
          50,
          33,
          22,
          42,
          25,
          27,
          22,
          43,
          40,
          40,
          70,
          40,
          31,
          53,
          25,
          26,
          27,
          46,
          44,
          43,
          43,
          31,
          49,
          52,
          30,
          45,
          23,
          38,
          34,
          31,
          52,
          42,
          34,
          22,
          24,
          42,
          48,
          45,
          27,
          36,
          50,
          22,
          26,
          45,
          37,
          52,
          66,
          43,
          47
         ],
         "xaxis": "x",
         "yaxis": "y"
        },
        {
         "alignmentgroup": "True",
         "bingroup": "x",
         "hovertemplate": "Outcome=No Diabetes<br>Age=%{x}<br>count=%{y}<extra></extra>",
         "legendgroup": "No Diabetes",
         "marker": {
          "color": "#636EFA",
          "opacity": 0.8,
          "pattern": {
           "shape": ""
          }
         },
         "name": "No Diabetes",
         "offsetgroup": "No Diabetes",
         "orientation": "v",
         "showlegend": true,
         "type": "histogram",
         "x": [
          31,
          21,
          30,
          29,
          30,
          57,
          33,
          27,
          50,
          22,
          57,
          38,
          60,
          22,
          28,
          45,
          33,
          35,
          26,
          37,
          48,
          40,
          29,
          22,
          24,
          22,
          26,
          30,
          42,
          21,
          31,
          44,
          22,
          21,
          36,
          24,
          32,
          54,
          25,
          27,
          26,
          23,
          22,
          22,
          41,
          27,
          24,
          22,
          22,
          36,
          22,
          27,
          45,
          26,
          24,
          21,
          34,
          42,
          21,
          40,
          24,
          22,
          23,
          22,
          21,
          24,
          27,
          21,
          27,
          37,
          25,
          23,
          25,
          25,
          22,
          21,
          24,
          23,
          69,
          30,
          23,
          39,
          26,
          31,
          21,
          22,
          29,
          28,
          55,
          38,
          22,
          23,
          21,
          41,
          34,
          65,
          22,
          24,
          37,
          23,
          21,
          23,
          22,
          36,
          45,
          27,
          21,
          22,
          34,
          29,
          29,
          25,
          23,
          33,
          42,
          47,
          32,
          23,
          21,
          27,
          40,
          21,
          40,
          42,
          21,
          21,
          28,
          32,
          27,
          55,
          27,
          21,
          25,
          24,
          60,
          32,
          37,
          61,
          26,
          22,
          26,
          31,
          24,
          22,
          29,
          23,
          27,
          21,
          22,
          29,
          41,
          23,
          34,
          23,
          42,
          27,
          24,
          25,
          30,
          25,
          24,
          34,
          24,
          63,
          43,
          24,
          21,
          21,
          40,
          21,
          52,
          25,
          23,
          57,
          22,
          39,
          37,
          51,
          34,
          26,
          33,
          21,
          65,
          28,
          24,
          58,
          35,
          37,
          29,
          21,
          41,
          22,
          25,
          26,
          30,
          28,
          31,
          21,
          24,
          37,
          37,
          46,
          25,
          44,
          22,
          26,
          44,
          22,
          36,
          22,
          33,
          57,
          49,
          22,
          23,
          26,
          29,
          30,
          46,
          24,
          21,
          48,
          63,
          65,
          30,
          30,
          21,
          22,
          21,
          21,
          25,
          28,
          22,
          22,
          35,
          24,
          22,
          21,
          25,
          25,
          24,
          28,
          42,
          21,
          37,
          25,
          39,
          25,
          55,
          38,
          26,
          25,
          28,
          25,
          22,
          21,
          22,
          27,
          26,
          21,
          21,
          21,
          25,
          26,
          23,
          38,
          22,
          29,
          36,
          41,
          28,
          21,
          31,
          22,
          24,
          28,
          26,
          26,
          23,
          25,
          72,
          24,
          62,
          24,
          81,
          48,
          26,
          39,
          37,
          34,
          21,
          22,
          25,
          27,
          28,
          22,
          22,
          50,
          24,
          59,
          31,
          39,
          63,
          29,
          28,
          23,
          21,
          58,
          28,
          67,
          24,
          42,
          33,
          22,
          66,
          30,
          25,
          39,
          21,
          28,
          41,
          40,
          38,
          21,
          21,
          64,
          21,
          58,
          22,
          24,
          51,
          41,
          60,
          25,
          26,
          26,
          24,
          21,
          21,
          24,
          22,
          31,
          22,
          24,
          29,
          31,
          24,
          46,
          67,
          23,
          25,
          29,
          28,
          50,
          37,
          21,
          25,
          66,
          23,
          28,
          37,
          30,
          58,
          42,
          35,
          24,
          32,
          27,
          22,
          21,
          46,
          37,
          39,
          21,
          22,
          22,
          23,
          25,
          35,
          36,
          27,
          62,
          42,
          22,
          29,
          25,
          24,
          25,
          34,
          46,
          21,
          26,
          24,
          28,
          30,
          21,
          25,
          27,
          23,
          24,
          26,
          27,
          30,
          23,
          28,
          28,
          45,
          21,
          21,
          29,
          21,
          21,
          45,
          21,
          24,
          23,
          22,
          31,
          48,
          23,
          28,
          27,
          24,
          31,
          27,
          30,
          23,
          23,
          27,
          28,
          27,
          22,
          22,
          41,
          51,
          54,
          24,
          43,
          45,
          49,
          21,
          47,
          22,
          68,
          25,
          23,
          22,
          22,
          69,
          25,
          22,
          29,
          23,
          34,
          23,
          25,
          22,
          28,
          26,
          26,
          41,
          27,
          28,
          22,
          24,
          40,
          21,
          32,
          56,
          24,
          34,
          21,
          42,
          45,
          38,
          25,
          22,
          22,
          22,
          22,
          53,
          28,
          21,
          42,
          21,
          26,
          22,
          39,
          46,
          32,
          28,
          25,
          39,
          26,
          22,
          33,
          63,
          27,
          30,
          23
         ],
         "xaxis": "x",
         "yaxis": "y"
        }
       ],
       "layout": {
        "barmode": "relative",
        "legend": {
         "title": {
          "text": "Outcome"
         },
         "tracegroupgap": 0
        },
        "template": {
         "data": {
          "bar": [
           {
            "error_x": {
             "color": "#2a3f5f"
            },
            "error_y": {
             "color": "#2a3f5f"
            },
            "marker": {
             "line": {
              "color": "#E5ECF6",
              "width": 0.5
             },
             "pattern": {
              "fillmode": "overlay",
              "size": 10,
              "solidity": 0.2
             }
            },
            "type": "bar"
           }
          ],
          "barpolar": [
           {
            "marker": {
             "line": {
              "color": "#E5ECF6",
              "width": 0.5
             },
             "pattern": {
              "fillmode": "overlay",
              "size": 10,
              "solidity": 0.2
             }
            },
            "type": "barpolar"
           }
          ],
          "carpet": [
           {
            "aaxis": {
             "endlinecolor": "#2a3f5f",
             "gridcolor": "white",
             "linecolor": "white",
             "minorgridcolor": "white",
             "startlinecolor": "#2a3f5f"
            },
            "baxis": {
             "endlinecolor": "#2a3f5f",
             "gridcolor": "white",
             "linecolor": "white",
             "minorgridcolor": "white",
             "startlinecolor": "#2a3f5f"
            },
            "type": "carpet"
           }
          ],
          "choropleth": [
           {
            "colorbar": {
             "outlinewidth": 0,
             "ticks": ""
            },
            "type": "choropleth"
           }
          ],
          "contour": [
           {
            "colorbar": {
             "outlinewidth": 0,
             "ticks": ""
            },
            "colorscale": [
             [
              0,
              "#0d0887"
             ],
             [
              0.1111111111111111,
              "#46039f"
             ],
             [
              0.2222222222222222,
              "#7201a8"
             ],
             [
              0.3333333333333333,
              "#9c179e"
             ],
             [
              0.4444444444444444,
              "#bd3786"
             ],
             [
              0.5555555555555556,
              "#d8576b"
             ],
             [
              0.6666666666666666,
              "#ed7953"
             ],
             [
              0.7777777777777778,
              "#fb9f3a"
             ],
             [
              0.8888888888888888,
              "#fdca26"
             ],
             [
              1,
              "#f0f921"
             ]
            ],
            "type": "contour"
           }
          ],
          "contourcarpet": [
           {
            "colorbar": {
             "outlinewidth": 0,
             "ticks": ""
            },
            "type": "contourcarpet"
           }
          ],
          "heatmap": [
           {
            "colorbar": {
             "outlinewidth": 0,
             "ticks": ""
            },
            "colorscale": [
             [
              0,
              "#0d0887"
             ],
             [
              0.1111111111111111,
              "#46039f"
             ],
             [
              0.2222222222222222,
              "#7201a8"
             ],
             [
              0.3333333333333333,
              "#9c179e"
             ],
             [
              0.4444444444444444,
              "#bd3786"
             ],
             [
              0.5555555555555556,
              "#d8576b"
             ],
             [
              0.6666666666666666,
              "#ed7953"
             ],
             [
              0.7777777777777778,
              "#fb9f3a"
             ],
             [
              0.8888888888888888,
              "#fdca26"
             ],
             [
              1,
              "#f0f921"
             ]
            ],
            "type": "heatmap"
           }
          ],
          "heatmapgl": [
           {
            "colorbar": {
             "outlinewidth": 0,
             "ticks": ""
            },
            "colorscale": [
             [
              0,
              "#0d0887"
             ],
             [
              0.1111111111111111,
              "#46039f"
             ],
             [
              0.2222222222222222,
              "#7201a8"
             ],
             [
              0.3333333333333333,
              "#9c179e"
             ],
             [
              0.4444444444444444,
              "#bd3786"
             ],
             [
              0.5555555555555556,
              "#d8576b"
             ],
             [
              0.6666666666666666,
              "#ed7953"
             ],
             [
              0.7777777777777778,
              "#fb9f3a"
             ],
             [
              0.8888888888888888,
              "#fdca26"
             ],
             [
              1,
              "#f0f921"
             ]
            ],
            "type": "heatmapgl"
           }
          ],
          "histogram": [
           {
            "marker": {
             "pattern": {
              "fillmode": "overlay",
              "size": 10,
              "solidity": 0.2
             }
            },
            "type": "histogram"
           }
          ],
          "histogram2d": [
           {
            "colorbar": {
             "outlinewidth": 0,
             "ticks": ""
            },
            "colorscale": [
             [
              0,
              "#0d0887"
             ],
             [
              0.1111111111111111,
              "#46039f"
             ],
             [
              0.2222222222222222,
              "#7201a8"
             ],
             [
              0.3333333333333333,
              "#9c179e"
             ],
             [
              0.4444444444444444,
              "#bd3786"
             ],
             [
              0.5555555555555556,
              "#d8576b"
             ],
             [
              0.6666666666666666,
              "#ed7953"
             ],
             [
              0.7777777777777778,
              "#fb9f3a"
             ],
             [
              0.8888888888888888,
              "#fdca26"
             ],
             [
              1,
              "#f0f921"
             ]
            ],
            "type": "histogram2d"
           }
          ],
          "histogram2dcontour": [
           {
            "colorbar": {
             "outlinewidth": 0,
             "ticks": ""
            },
            "colorscale": [
             [
              0,
              "#0d0887"
             ],
             [
              0.1111111111111111,
              "#46039f"
             ],
             [
              0.2222222222222222,
              "#7201a8"
             ],
             [
              0.3333333333333333,
              "#9c179e"
             ],
             [
              0.4444444444444444,
              "#bd3786"
             ],
             [
              0.5555555555555556,
              "#d8576b"
             ],
             [
              0.6666666666666666,
              "#ed7953"
             ],
             [
              0.7777777777777778,
              "#fb9f3a"
             ],
             [
              0.8888888888888888,
              "#fdca26"
             ],
             [
              1,
              "#f0f921"
             ]
            ],
            "type": "histogram2dcontour"
           }
          ],
          "mesh3d": [
           {
            "colorbar": {
             "outlinewidth": 0,
             "ticks": ""
            },
            "type": "mesh3d"
           }
          ],
          "parcoords": [
           {
            "line": {
             "colorbar": {
              "outlinewidth": 0,
              "ticks": ""
             }
            },
            "type": "parcoords"
           }
          ],
          "pie": [
           {
            "automargin": true,
            "type": "pie"
           }
          ],
          "scatter": [
           {
            "fillpattern": {
             "fillmode": "overlay",
             "size": 10,
             "solidity": 0.2
            },
            "type": "scatter"
           }
          ],
          "scatter3d": [
           {
            "line": {
             "colorbar": {
              "outlinewidth": 0,
              "ticks": ""
             }
            },
            "marker": {
             "colorbar": {
              "outlinewidth": 0,
              "ticks": ""
             }
            },
            "type": "scatter3d"
           }
          ],
          "scattercarpet": [
           {
            "marker": {
             "colorbar": {
              "outlinewidth": 0,
              "ticks": ""
             }
            },
            "type": "scattercarpet"
           }
          ],
          "scattergeo": [
           {
            "marker": {
             "colorbar": {
              "outlinewidth": 0,
              "ticks": ""
             }
            },
            "type": "scattergeo"
           }
          ],
          "scattergl": [
           {
            "marker": {
             "colorbar": {
              "outlinewidth": 0,
              "ticks": ""
             }
            },
            "type": "scattergl"
           }
          ],
          "scattermapbox": [
           {
            "marker": {
             "colorbar": {
              "outlinewidth": 0,
              "ticks": ""
             }
            },
            "type": "scattermapbox"
           }
          ],
          "scatterpolar": [
           {
            "marker": {
             "colorbar": {
              "outlinewidth": 0,
              "ticks": ""
             }
            },
            "type": "scatterpolar"
           }
          ],
          "scatterpolargl": [
           {
            "marker": {
             "colorbar": {
              "outlinewidth": 0,
              "ticks": ""
             }
            },
            "type": "scatterpolargl"
           }
          ],
          "scatterternary": [
           {
            "marker": {
             "colorbar": {
              "outlinewidth": 0,
              "ticks": ""
             }
            },
            "type": "scatterternary"
           }
          ],
          "surface": [
           {
            "colorbar": {
             "outlinewidth": 0,
             "ticks": ""
            },
            "colorscale": [
             [
              0,
              "#0d0887"
             ],
             [
              0.1111111111111111,
              "#46039f"
             ],
             [
              0.2222222222222222,
              "#7201a8"
             ],
             [
              0.3333333333333333,
              "#9c179e"
             ],
             [
              0.4444444444444444,
              "#bd3786"
             ],
             [
              0.5555555555555556,
              "#d8576b"
             ],
             [
              0.6666666666666666,
              "#ed7953"
             ],
             [
              0.7777777777777778,
              "#fb9f3a"
             ],
             [
              0.8888888888888888,
              "#fdca26"
             ],
             [
              1,
              "#f0f921"
             ]
            ],
            "type": "surface"
           }
          ],
          "table": [
           {
            "cells": {
             "fill": {
              "color": "#EBF0F8"
             },
             "line": {
              "color": "white"
             }
            },
            "header": {
             "fill": {
              "color": "#C8D4E3"
             },
             "line": {
              "color": "white"
             }
            },
            "type": "table"
           }
          ]
         },
         "layout": {
          "annotationdefaults": {
           "arrowcolor": "#2a3f5f",
           "arrowhead": 0,
           "arrowwidth": 1
          },
          "autotypenumbers": "strict",
          "coloraxis": {
           "colorbar": {
            "outlinewidth": 0,
            "ticks": ""
           }
          },
          "colorscale": {
           "diverging": [
            [
             0,
             "#8e0152"
            ],
            [
             0.1,
             "#c51b7d"
            ],
            [
             0.2,
             "#de77ae"
            ],
            [
             0.3,
             "#f1b6da"
            ],
            [
             0.4,
             "#fde0ef"
            ],
            [
             0.5,
             "#f7f7f7"
            ],
            [
             0.6,
             "#e6f5d0"
            ],
            [
             0.7,
             "#b8e186"
            ],
            [
             0.8,
             "#7fbc41"
            ],
            [
             0.9,
             "#4d9221"
            ],
            [
             1,
             "#276419"
            ]
           ],
           "sequential": [
            [
             0,
             "#0d0887"
            ],
            [
             0.1111111111111111,
             "#46039f"
            ],
            [
             0.2222222222222222,
             "#7201a8"
            ],
            [
             0.3333333333333333,
             "#9c179e"
            ],
            [
             0.4444444444444444,
             "#bd3786"
            ],
            [
             0.5555555555555556,
             "#d8576b"
            ],
            [
             0.6666666666666666,
             "#ed7953"
            ],
            [
             0.7777777777777778,
             "#fb9f3a"
            ],
            [
             0.8888888888888888,
             "#fdca26"
            ],
            [
             1,
             "#f0f921"
            ]
           ],
           "sequentialminus": [
            [
             0,
             "#0d0887"
            ],
            [
             0.1111111111111111,
             "#46039f"
            ],
            [
             0.2222222222222222,
             "#7201a8"
            ],
            [
             0.3333333333333333,
             "#9c179e"
            ],
            [
             0.4444444444444444,
             "#bd3786"
            ],
            [
             0.5555555555555556,
             "#d8576b"
            ],
            [
             0.6666666666666666,
             "#ed7953"
            ],
            [
             0.7777777777777778,
             "#fb9f3a"
            ],
            [
             0.8888888888888888,
             "#fdca26"
            ],
            [
             1,
             "#f0f921"
            ]
           ]
          },
          "colorway": [
           "#636efa",
           "#EF553B",
           "#00cc96",
           "#ab63fa",
           "#FFA15A",
           "#19d3f3",
           "#FF6692",
           "#B6E880",
           "#FF97FF",
           "#FECB52"
          ],
          "font": {
           "color": "#2a3f5f"
          },
          "geo": {
           "bgcolor": "white",
           "lakecolor": "white",
           "landcolor": "#E5ECF6",
           "showlakes": true,
           "showland": true,
           "subunitcolor": "white"
          },
          "hoverlabel": {
           "align": "left"
          },
          "hovermode": "closest",
          "mapbox": {
           "style": "light"
          },
          "paper_bgcolor": "white",
          "plot_bgcolor": "#E5ECF6",
          "polar": {
           "angularaxis": {
            "gridcolor": "white",
            "linecolor": "white",
            "ticks": ""
           },
           "bgcolor": "#E5ECF6",
           "radialaxis": {
            "gridcolor": "white",
            "linecolor": "white",
            "ticks": ""
           }
          },
          "scene": {
           "xaxis": {
            "backgroundcolor": "#E5ECF6",
            "gridcolor": "white",
            "gridwidth": 2,
            "linecolor": "white",
            "showbackground": true,
            "ticks": "",
            "zerolinecolor": "white"
           },
           "yaxis": {
            "backgroundcolor": "#E5ECF6",
            "gridcolor": "white",
            "gridwidth": 2,
            "linecolor": "white",
            "showbackground": true,
            "ticks": "",
            "zerolinecolor": "white"
           },
           "zaxis": {
            "backgroundcolor": "#E5ECF6",
            "gridcolor": "white",
            "gridwidth": 2,
            "linecolor": "white",
            "showbackground": true,
            "ticks": "",
            "zerolinecolor": "white"
           }
          },
          "shapedefaults": {
           "line": {
            "color": "#2a3f5f"
           }
          },
          "ternary": {
           "aaxis": {
            "gridcolor": "white",
            "linecolor": "white",
            "ticks": ""
           },
           "baxis": {
            "gridcolor": "white",
            "linecolor": "white",
            "ticks": ""
           },
           "bgcolor": "#E5ECF6",
           "caxis": {
            "gridcolor": "white",
            "linecolor": "white",
            "ticks": ""
           }
          },
          "title": {
           "x": 0.05
          },
          "xaxis": {
           "automargin": true,
           "gridcolor": "white",
           "linecolor": "white",
           "ticks": "",
           "title": {
            "standoff": 15
           },
           "zerolinecolor": "white",
           "zerolinewidth": 2
          },
          "yaxis": {
           "automargin": true,
           "gridcolor": "white",
           "linecolor": "white",
           "ticks": "",
           "title": {
            "standoff": 15
           },
           "zerolinecolor": "white",
           "zerolinewidth": 2
          }
         }
        },
        "title": {
         "text": "Age Distribution by Outcome"
        },
        "xaxis": {
         "anchor": "y",
         "domain": [
          0,
          1
         ],
         "title": {
          "text": "Age"
         }
        },
        "yaxis": {
         "anchor": "x",
         "domain": [
          0,
          1
         ],
         "title": {
          "text": "Frequency"
         }
        }
       }
      }
     },
     "metadata": {},
     "output_type": "display_data"
    }
   ],
   "source": [
    "fig = px.histogram(df_plot, x = 'Age', color = 'Outcome', title = 'Age Distribution by Outcome', opacity= 0.8, color_discrete_map= color_discrete_map)\n",
    "fig.update_layout(\n",
    "    yaxis=dict(title='Frequency')\n",
    ")\n",
    "fig.show()"
   ]
  },
  {
   "cell_type": "markdown",
   "metadata": {},
   "source": [
    "#### "
   ]
  }
 ],
 "metadata": {
  "kernelspec": {
   "display_name": "Python 3",
   "language": "python",
   "name": "python3"
  },
  "language_info": {
   "codemirror_mode": {
    "name": "ipython",
    "version": 3
   },
   "file_extension": ".py",
   "mimetype": "text/x-python",
   "name": "python",
   "nbconvert_exporter": "python",
   "pygments_lexer": "ipython3",
   "version": "3.12.2"
  }
 },
 "nbformat": 4,
 "nbformat_minor": 2
}
